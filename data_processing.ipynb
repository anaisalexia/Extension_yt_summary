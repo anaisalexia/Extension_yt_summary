{
 "cells": [
  {
   "cell_type": "code",
   "execution_count": 10,
   "metadata": {},
   "outputs": [],
   "source": [
    "import json\n",
    "import pandas as pd \n",
    "import matplotlib.pyplot as plt\n",
    "import os\n",
    "import math\n",
    "import numpy as np\n",
    "# https://github.com/WestHealth/pyvis/tree/master#pyvis---a-python-library-for-visualizing-networks\n",
    "# https://towardsdatascience.com/how-to-convert-any-text-into-a-graph-of-concepts-110844f22a1a\n",
    "# interractive graph\n",
    "\n",
    "\n",
    "# import google_auth_oauthlib.flow\n",
    "# import googleapiclient.discovery\n",
    "# import googleapiclient.errors\n",
    "\n",
    "\n",
    "# presentation 15 minutes\n",
    "# 5 minutes de questions\n",
    "\n",
    "# Dans l'ensemble\n",
    "# % de video en commun\n",
    "\n",
    "# Dans le temps\n",
    "# définir un thème en collectant les données d'une page qui parle de la NASA, possible de savoir si un texte est éloigné d'un thème ?\n",
    "# voir au fur et à mesure des videos regarder si on s'éloigne du thème\n",
    "\n",
    "# 1 chevauchement\n",
    "# 2 graphe suivi video\n",
    "# 3 video clivante ? echappement à partir de quand on sort du thème 1, 10 video, 1 video donnée\n",
    "# sélectionner les première vidéo recommandé\n",
    "\n",
    "## QUESTION\n",
    " # dans quel mesure les étudiants convergent vers les même sources\n",
    " # quelle mesure les recommendations sont similaire\n",
    " # echappement\n",
    "\n",
    " # 15 minutes de passage\n",
    " # enjeux\n",
    " # ce qui a été developpé\n",
    " # résulat principaux\n",
    " # 1 plug in voir grid d'evaluation\n",
    "\n",
    " # mettre en avant ce qu'on aurait pu faire si il y avait plus de données: que ça aurait mis des poles en avant: ce qui aurait pu mener à d'autre hypothèse / questionnement\n",
    " # pourquoi ces chaine en particulier , public privé ? quelle type ? beaucoup d'abonné\n",
    " # montrer avec les graphs qu'il y a une recommendation meme si elle est pas facilement identifiable comment ça marche\n",
    " # surtout que ce qui est recommender ne colle pas à ce que data tool donne\n",
    " # mettre en avant ce qui serait possible de faire\n",
    " # analyser le graph: certain retombe sur la meme channel d'autre voit une a la fois; s'éloigne plus ou moins vite\n",
    "\n",
    " # partir d'une même vidéo\n",
    "\n",
    "# https://melaniewalsh.github.io/Intro-Cultural-Analytics/06-Network-Analysis/02-Making-Network-Viz-with-Bokeh.html\n",
    "\n",
    "\n",
    "import networkx as nx\n",
    "\n",
    "from bokeh.io import output_notebook, show, save\n",
    "from bokeh.models import Range1d, Circle, ColumnDataSource, MultiLine, StaticLayoutProvider,EdgesAndLinkedNodes, NodesAndLinkedEdges, LabelSet\n",
    "from bokeh.plotting import figure\n",
    "from bokeh.plotting import from_networkx\n",
    "from bokeh.palettes import Blues8, Reds8, Purples8, Oranges8, Viridis8, Spectral8,Category20_20\n",
    "from bokeh.transform import linear_cmap\n",
    "from bokeh.models import Range1d, Plot\n",
    "from sklearn.preprocessing import LabelEncoder  \n",
    "\n",
    "from networkx import community\n",
    "\n",
    "from bokeh.plotting import figure\n",
    "from bokeh.resources import CDN\n",
    "from bokeh.embed import file_html\n",
    "\n",
    "\n",
    "\n"
   ]
  },
  {
   "cell_type": "code",
   "execution_count": 2,
   "metadata": {},
   "outputs": [
    {
     "data": {
      "text/html": [
       "    <style>\n",
       "        .bk-notebook-logo {\n",
       "            display: block;\n",
       "            width: 20px;\n",
       "            height: 20px;\n",
       "            background-image: url(data:image/png;base64,iVBORw0KGgoAAAANSUhEUgAAABQAAAAUCAYAAACNiR0NAAAABHNCSVQICAgIfAhkiAAAAAlwSFlzAAALEgAACxIB0t1+/AAAABx0RVh0U29mdHdhcmUAQWRvYmUgRmlyZXdvcmtzIENTNui8sowAAAOkSURBVDiNjZRtaJVlGMd/1/08zzln5zjP1LWcU9N0NkN8m2CYjpgQYQXqSs0I84OLIC0hkEKoPtiH3gmKoiJDU7QpLgoLjLIQCpEsNJ1vqUOdO7ppbuec5+V+rj4ctwzd8IIbbi6u+8f1539dt3A78eXC7QizUF7gyV1fD1Yqg4JWz84yffhm0qkFqBogB9rM8tZdtwVsPUhWhGcFJngGeWrPzHm5oaMmkfEg1usvLFyc8jLRqDOMru7AyC8saQr7GG7f5fvDeH7Ej8CM66nIF+8yngt6HWaKh7k49Soy9nXurCi1o3qUbS3zWfrYeQDTB/Qj6kX6Ybhw4B+bOYoLKCC9H3Nu/leUTZ1JdRWkkn2ldcCamzrcf47KKXdAJllSlxAOkRgyHsGC/zRday5Qld9DyoM4/q/rUoy/CXh3jzOu3bHUVZeU+DEn8FInkPBFlu3+nW3Nw0mk6vCDiWg8CeJaxEwuHS3+z5RgY+YBR6V1Z1nxSOfoaPa4LASWxxdNp+VWTk7+4vzaou8v8PN+xo+KY2xsw6une2frhw05CTYOmQvsEhjhWjn0bmXPjpE1+kplmmkP3suftwTubK9Vq22qKmrBhpY4jvd5afdRA3wGjFAgcnTK2s4hY0/GPNIb0nErGMCRxWOOX64Z8RAC4oCXdklmEvcL8o0BfkNK4lUg9HTl+oPlQxdNo3Mg4Nv175e/1LDGzZen30MEjRUtmXSfiTVu1kK8W4txyV6BMKlbgk3lMwYCiusNy9fVfvvwMxv8Ynl6vxoByANLTWplvuj/nF9m2+PDtt1eiHPBr1oIfhCChQMBw6Aw0UulqTKZdfVvfG7VcfIqLG9bcldL/+pdWTLxLUy8Qq38heUIjh4XlzZxzQm19lLFlr8vdQ97rjZVOLf8nclzckbcD4wxXMidpX30sFd37Fv/GtwwhzhxGVAprjbg0gCAEeIgwCZyTV2Z1REEW8O4py0wsjeloKoMr6iCY6dP92H6Vw/oTyICIthibxjm/DfN9lVz8IqtqKYLUXfoKVMVQVVJOElGjrnnUt9T9wbgp8AyYKaGlqingHZU/uG2NTZSVqwHQTWkx9hxjkpWDaCg6Ckj5qebgBVbT3V3NNXMSiWSDdGV3hrtzla7J+duwPOToIg42ChPQOQjspnSlp1V+Gjdged7+8UN5CRAV7a5EdFNwCjEaBR27b3W890TE7g24NAP/mMDXRWrGoFPQI9ls/MWO2dWFAar/xcOIImbbpA3zgAAAABJRU5ErkJggg==);\n",
       "        }\n",
       "    </style>\n",
       "    <div>\n",
       "        <a href=\"https://bokeh.org\" target=\"_blank\" class=\"bk-notebook-logo\"></a>\n",
       "        <span id=\"ce42db9d-e3f3-409a-b164-ac1ca5fb9d73\">Loading BokehJS ...</span>\n",
       "    </div>\n"
      ]
     },
     "metadata": {},
     "output_type": "display_data"
    },
    {
     "data": {
      "application/javascript": "(function(root) {\n  function now() {\n    return new Date();\n  }\n\n  const force = true;\n\n  if (typeof root._bokeh_onload_callbacks === \"undefined\" || force === true) {\n    root._bokeh_onload_callbacks = [];\n    root._bokeh_is_loading = undefined;\n  }\n\nconst JS_MIME_TYPE = 'application/javascript';\n  const HTML_MIME_TYPE = 'text/html';\n  const EXEC_MIME_TYPE = 'application/vnd.bokehjs_exec.v0+json';\n  const CLASS_NAME = 'output_bokeh rendered_html';\n\n  /**\n   * Render data to the DOM node\n   */\n  function render(props, node) {\n    const script = document.createElement(\"script\");\n    node.appendChild(script);\n  }\n\n  /**\n   * Handle when an output is cleared or removed\n   */\n  function handleClearOutput(event, handle) {\n    function drop(id) {\n      const view = Bokeh.index.get_by_id(id)\n      if (view != null) {\n        view.model.document.clear()\n        Bokeh.index.delete(view)\n      }\n    }\n\n    const cell = handle.cell;\n\n    const id = cell.output_area._bokeh_element_id;\n    const server_id = cell.output_area._bokeh_server_id;\n\n    // Clean up Bokeh references\n    if (id != null) {\n      drop(id)\n    }\n\n    if (server_id !== undefined) {\n      // Clean up Bokeh references\n      const cmd_clean = \"from bokeh.io.state import curstate; print(curstate().uuid_to_server['\" + server_id + \"'].get_sessions()[0].document.roots[0]._id)\";\n      cell.notebook.kernel.execute(cmd_clean, {\n        iopub: {\n          output: function(msg) {\n            const id = msg.content.text.trim()\n            drop(id)\n          }\n        }\n      });\n      // Destroy server and session\n      const cmd_destroy = \"import bokeh.io.notebook as ion; ion.destroy_server('\" + server_id + \"')\";\n      cell.notebook.kernel.execute(cmd_destroy);\n    }\n  }\n\n  /**\n   * Handle when a new output is added\n   */\n  function handleAddOutput(event, handle) {\n    const output_area = handle.output_area;\n    const output = handle.output;\n\n    // limit handleAddOutput to display_data with EXEC_MIME_TYPE content only\n    if ((output.output_type != \"display_data\") || (!Object.prototype.hasOwnProperty.call(output.data, EXEC_MIME_TYPE))) {\n      return\n    }\n\n    const toinsert = output_area.element.find(\".\" + CLASS_NAME.split(' ')[0]);\n\n    if (output.metadata[EXEC_MIME_TYPE][\"id\"] !== undefined) {\n      toinsert[toinsert.length - 1].firstChild.textContent = output.data[JS_MIME_TYPE];\n      // store reference to embed id on output_area\n      output_area._bokeh_element_id = output.metadata[EXEC_MIME_TYPE][\"id\"];\n    }\n    if (output.metadata[EXEC_MIME_TYPE][\"server_id\"] !== undefined) {\n      const bk_div = document.createElement(\"div\");\n      bk_div.innerHTML = output.data[HTML_MIME_TYPE];\n      const script_attrs = bk_div.children[0].attributes;\n      for (let i = 0; i < script_attrs.length; i++) {\n        toinsert[toinsert.length - 1].firstChild.setAttribute(script_attrs[i].name, script_attrs[i].value);\n        toinsert[toinsert.length - 1].firstChild.textContent = bk_div.children[0].textContent\n      }\n      // store reference to server id on output_area\n      output_area._bokeh_server_id = output.metadata[EXEC_MIME_TYPE][\"server_id\"];\n    }\n  }\n\n  function register_renderer(events, OutputArea) {\n\n    function append_mime(data, metadata, element) {\n      // create a DOM node to render to\n      const toinsert = this.create_output_subarea(\n        metadata,\n        CLASS_NAME,\n        EXEC_MIME_TYPE\n      );\n      this.keyboard_manager.register_events(toinsert);\n      // Render to node\n      const props = {data: data, metadata: metadata[EXEC_MIME_TYPE]};\n      render(props, toinsert[toinsert.length - 1]);\n      element.append(toinsert);\n      return toinsert\n    }\n\n    /* Handle when an output is cleared or removed */\n    events.on('clear_output.CodeCell', handleClearOutput);\n    events.on('delete.Cell', handleClearOutput);\n\n    /* Handle when a new output is added */\n    events.on('output_added.OutputArea', handleAddOutput);\n\n    /**\n     * Register the mime type and append_mime function with output_area\n     */\n    OutputArea.prototype.register_mime_type(EXEC_MIME_TYPE, append_mime, {\n      /* Is output safe? */\n      safe: true,\n      /* Index of renderer in `output_area.display_order` */\n      index: 0\n    });\n  }\n\n  // register the mime type if in Jupyter Notebook environment and previously unregistered\n  if (root.Jupyter !== undefined) {\n    const events = require('base/js/events');\n    const OutputArea = require('notebook/js/outputarea').OutputArea;\n\n    if (OutputArea.prototype.mime_types().indexOf(EXEC_MIME_TYPE) == -1) {\n      register_renderer(events, OutputArea);\n    }\n  }\n  if (typeof (root._bokeh_timeout) === \"undefined\" || force === true) {\n    root._bokeh_timeout = Date.now() + 5000;\n    root._bokeh_failed_load = false;\n  }\n\n  const NB_LOAD_WARNING = {'data': {'text/html':\n     \"<div style='background-color: #fdd'>\\n\"+\n     \"<p>\\n\"+\n     \"BokehJS does not appear to have successfully loaded. If loading BokehJS from CDN, this \\n\"+\n     \"may be due to a slow or bad network connection. Possible fixes:\\n\"+\n     \"</p>\\n\"+\n     \"<ul>\\n\"+\n     \"<li>re-rerun `output_notebook()` to attempt to load from CDN again, or</li>\\n\"+\n     \"<li>use INLINE resources instead, as so:</li>\\n\"+\n     \"</ul>\\n\"+\n     \"<code>\\n\"+\n     \"from bokeh.resources import INLINE\\n\"+\n     \"output_notebook(resources=INLINE)\\n\"+\n     \"</code>\\n\"+\n     \"</div>\"}};\n\n  function display_loaded() {\n    const el = document.getElementById(\"ce42db9d-e3f3-409a-b164-ac1ca5fb9d73\");\n    if (el != null) {\n      el.textContent = \"BokehJS is loading...\";\n    }\n    if (root.Bokeh !== undefined) {\n      if (el != null) {\n        el.textContent = \"BokehJS \" + root.Bokeh.version + \" successfully loaded.\";\n      }\n    } else if (Date.now() < root._bokeh_timeout) {\n      setTimeout(display_loaded, 100)\n    }\n  }\n\n  function run_callbacks() {\n    try {\n      root._bokeh_onload_callbacks.forEach(function(callback) {\n        if (callback != null)\n          callback();\n      });\n    } finally {\n      delete root._bokeh_onload_callbacks\n    }\n    console.debug(\"Bokeh: all callbacks have finished\");\n  }\n\n  function load_libs(css_urls, js_urls, callback) {\n    if (css_urls == null) css_urls = [];\n    if (js_urls == null) js_urls = [];\n\n    root._bokeh_onload_callbacks.push(callback);\n    if (root._bokeh_is_loading > 0) {\n      console.debug(\"Bokeh: BokehJS is being loaded, scheduling callback at\", now());\n      return null;\n    }\n    if (js_urls == null || js_urls.length === 0) {\n      run_callbacks();\n      return null;\n    }\n    console.debug(\"Bokeh: BokehJS not loaded, scheduling load and callback at\", now());\n    root._bokeh_is_loading = css_urls.length + js_urls.length;\n\n    function on_load() {\n      root._bokeh_is_loading--;\n      if (root._bokeh_is_loading === 0) {\n        console.debug(\"Bokeh: all BokehJS libraries/stylesheets loaded\");\n        run_callbacks()\n      }\n    }\n\n    function on_error(url) {\n      console.error(\"failed to load \" + url);\n    }\n\n    for (let i = 0; i < css_urls.length; i++) {\n      const url = css_urls[i];\n      const element = document.createElement(\"link\");\n      element.onload = on_load;\n      element.onerror = on_error.bind(null, url);\n      element.rel = \"stylesheet\";\n      element.type = \"text/css\";\n      element.href = url;\n      console.debug(\"Bokeh: injecting link tag for BokehJS stylesheet: \", url);\n      document.body.appendChild(element);\n    }\n\n    for (let i = 0; i < js_urls.length; i++) {\n      const url = js_urls[i];\n      const element = document.createElement('script');\n      element.onload = on_load;\n      element.onerror = on_error.bind(null, url);\n      element.async = false;\n      element.src = url;\n      console.debug(\"Bokeh: injecting script tag for BokehJS library: \", url);\n      document.head.appendChild(element);\n    }\n  };\n\n  function inject_raw_css(css) {\n    const element = document.createElement(\"style\");\n    element.appendChild(document.createTextNode(css));\n    document.body.appendChild(element);\n  }\n\n  const js_urls = [\"https://cdn.bokeh.org/bokeh/release/bokeh-3.3.2.min.js\", \"https://cdn.bokeh.org/bokeh/release/bokeh-gl-3.3.2.min.js\", \"https://cdn.bokeh.org/bokeh/release/bokeh-widgets-3.3.2.min.js\", \"https://cdn.bokeh.org/bokeh/release/bokeh-tables-3.3.2.min.js\", \"https://cdn.bokeh.org/bokeh/release/bokeh-mathjax-3.3.2.min.js\"];\n  const css_urls = [];\n\n  const inline_js = [    function(Bokeh) {\n      Bokeh.set_log_level(\"info\");\n    },\nfunction(Bokeh) {\n    }\n  ];\n\n  function run_inline_js() {\n    if (root.Bokeh !== undefined || force === true) {\n          for (let i = 0; i < inline_js.length; i++) {\n      inline_js[i].call(root, root.Bokeh);\n    }\nif (force === true) {\n        display_loaded();\n      }} else if (Date.now() < root._bokeh_timeout) {\n      setTimeout(run_inline_js, 100);\n    } else if (!root._bokeh_failed_load) {\n      console.log(\"Bokeh: BokehJS failed to load within specified timeout.\");\n      root._bokeh_failed_load = true;\n    } else if (force !== true) {\n      const cell = $(document.getElementById(\"ce42db9d-e3f3-409a-b164-ac1ca5fb9d73\")).parents('.cell').data().cell;\n      cell.output_area.append_execute_result(NB_LOAD_WARNING)\n    }\n  }\n\n  if (root._bokeh_is_loading === 0) {\n    console.debug(\"Bokeh: BokehJS loaded, going straight to plotting\");\n    run_inline_js();\n  } else {\n    load_libs(css_urls, js_urls, function() {\n      console.debug(\"Bokeh: BokehJS plotting callback run at\", now());\n      run_inline_js();\n    });\n  }\n}(window));",
      "application/vnd.bokehjs_load.v0+json": ""
     },
     "metadata": {},
     "output_type": "display_data"
    }
   ],
   "source": [
    "output_notebook()"
   ]
  },
  {
   "cell_type": "code",
   "execution_count": 9,
   "metadata": {},
   "outputs": [],
   "source": [
    "def load_data_csv(name,csv=True):\n",
    "    # Opening JSON file\n",
    "    f = open(name)\n",
    "    data = json.load(f)\n",
    "    dict_df = []\n",
    "    \n",
    "    if csv:\n",
    "        for action in list(data.keys()):\n",
    "            # get the data of the last saved action\n",
    "            dict_df += [list(data[action].values())]\n",
    "    \n",
    "        df = pd.DataFrame(dict_df,columns=list(data[list(data.keys())[-1]].keys()))\n",
    "        return df\n",
    "\n",
    "    return data"
   ]
  },
  {
   "cell_type": "code",
   "execution_count": 22,
   "metadata": {},
   "outputs": [],
   "source": [
    "df = load_data_csv('./data/navigation_data_m4.txt')\n",
    "# df.iloc[0:16].to_csv('Anais_Methode2.csv',sep=';')\n",
    "# df.iloc[17:].to_csv('Anais_Methode3.csv',sep=';')\n",
    "df.iloc[33:].to_csv('Anais_Methode4.csv',sep=';')"
   ]
  },
  {
   "cell_type": "code",
   "execution_count": 11,
   "metadata": {},
   "outputs": [],
   "source": [
    "def save_bokeh_graph(p,name,path=''):\n",
    "    html = file_html(p, CDN, \"my plot\")\n",
    "\n",
    "    Func = open(f\"{path}{name}.html\",\"w\") \n",
    "    \n",
    "    # Adding input data to the HTML file \n",
    "    Func.write(html) \n",
    "                \n",
    "    # Saving the data into the HTML file \n",
    "    Func.close()"
   ]
  },
  {
   "cell_type": "markdown",
   "metadata": {},
   "source": []
  },
  {
   "cell_type": "markdown",
   "metadata": {},
   "source": [
    "### Methode 1"
   ]
  },
  {
   "cell_type": "code",
   "execution_count": 6,
   "metadata": {},
   "outputs": [
    {
     "name": "stderr",
     "output_type": "stream",
     "text": [
      "C:\\Users\\mtlsa\\AppData\\Local\\Temp\\ipykernel_27788\\1233925213.py:19: SettingWithCopyWarning: \n",
      "A value is trying to be set on a copy of a slice from a DataFrame.\n",
      "Try using .loc[row_indexer,col_indexer] = value instead\n",
      "\n",
      "See the caveats in the documentation: https://pandas.pydata.org/pandas-docs/stable/user_guide/indexing.html#returning-a-view-versus-a-copy\n",
      "  df_network_perso['user'] = name\n",
      "C:\\Users\\mtlsa\\AppData\\Local\\Temp\\ipykernel_27788\\1233925213.py:15: SettingWithCopyWarning: \n",
      "A value is trying to be set on a copy of a slice from a DataFrame.\n",
      "Try using .loc[row_indexer,col_indexer] = value instead\n",
      "\n",
      "See the caveats in the documentation: https://pandas.pydata.org/pandas-docs/stable/user_guide/indexing.html#returning-a-view-versus-a-copy\n",
      "  df_video['channel_follow'] = list(df_video['channel'][1:]) + [pd.NA]\n",
      "C:\\Users\\mtlsa\\AppData\\Local\\Temp\\ipykernel_27788\\1233925213.py:17: SettingWithCopyWarning: \n",
      "A value is trying to be set on a copy of a slice from a DataFrame.\n",
      "Try using .loc[row_indexer,col_indexer] = value instead\n",
      "\n",
      "See the caveats in the documentation: https://pandas.pydata.org/pandas-docs/stable/user_guide/indexing.html#returning-a-view-versus-a-copy\n",
      "  df_video['weight'] = df_video['channel'].apply(lambda x: df_video[df_video['channel'] == x].shape[0])\n",
      "C:\\Users\\mtlsa\\AppData\\Local\\Temp\\ipykernel_27788\\1233925213.py:19: SettingWithCopyWarning: \n",
      "A value is trying to be set on a copy of a slice from a DataFrame.\n",
      "Try using .loc[row_indexer,col_indexer] = value instead\n",
      "\n",
      "See the caveats in the documentation: https://pandas.pydata.org/pandas-docs/stable/user_guide/indexing.html#returning-a-view-versus-a-copy\n",
      "  df_network_perso['user'] = name\n",
      "C:\\Users\\mtlsa\\AppData\\Local\\Temp\\ipykernel_27788\\1233925213.py:15: SettingWithCopyWarning: \n",
      "A value is trying to be set on a copy of a slice from a DataFrame.\n",
      "Try using .loc[row_indexer,col_indexer] = value instead\n",
      "\n",
      "See the caveats in the documentation: https://pandas.pydata.org/pandas-docs/stable/user_guide/indexing.html#returning-a-view-versus-a-copy\n",
      "  df_video['channel_follow'] = list(df_video['channel'][1:]) + [pd.NA]\n",
      "C:\\Users\\mtlsa\\AppData\\Local\\Temp\\ipykernel_27788\\1233925213.py:17: SettingWithCopyWarning: \n",
      "A value is trying to be set on a copy of a slice from a DataFrame.\n",
      "Try using .loc[row_indexer,col_indexer] = value instead\n",
      "\n",
      "See the caveats in the documentation: https://pandas.pydata.org/pandas-docs/stable/user_guide/indexing.html#returning-a-view-versus-a-copy\n",
      "  df_video['weight'] = df_video['channel'].apply(lambda x: df_video[df_video['channel'] == x].shape[0])\n",
      "C:\\Users\\mtlsa\\AppData\\Local\\Temp\\ipykernel_27788\\1233925213.py:19: SettingWithCopyWarning: \n",
      "A value is trying to be set on a copy of a slice from a DataFrame.\n",
      "Try using .loc[row_indexer,col_indexer] = value instead\n",
      "\n",
      "See the caveats in the documentation: https://pandas.pydata.org/pandas-docs/stable/user_guide/indexing.html#returning-a-view-versus-a-copy\n",
      "  df_network_perso['user'] = name\n",
      "C:\\Users\\mtlsa\\AppData\\Local\\Temp\\ipykernel_27788\\1233925213.py:15: SettingWithCopyWarning: \n",
      "A value is trying to be set on a copy of a slice from a DataFrame.\n",
      "Try using .loc[row_indexer,col_indexer] = value instead\n",
      "\n",
      "See the caveats in the documentation: https://pandas.pydata.org/pandas-docs/stable/user_guide/indexing.html#returning-a-view-versus-a-copy\n",
      "  df_video['channel_follow'] = list(df_video['channel'][1:]) + [pd.NA]\n",
      "C:\\Users\\mtlsa\\AppData\\Local\\Temp\\ipykernel_27788\\1233925213.py:17: SettingWithCopyWarning: \n",
      "A value is trying to be set on a copy of a slice from a DataFrame.\n",
      "Try using .loc[row_indexer,col_indexer] = value instead\n",
      "\n",
      "See the caveats in the documentation: https://pandas.pydata.org/pandas-docs/stable/user_guide/indexing.html#returning-a-view-versus-a-copy\n",
      "  df_video['weight'] = df_video['channel'].apply(lambda x: df_video[df_video['channel'] == x].shape[0])\n",
      "C:\\Users\\mtlsa\\AppData\\Local\\Temp\\ipykernel_27788\\1233925213.py:19: SettingWithCopyWarning: \n",
      "A value is trying to be set on a copy of a slice from a DataFrame.\n",
      "Try using .loc[row_indexer,col_indexer] = value instead\n",
      "\n",
      "See the caveats in the documentation: https://pandas.pydata.org/pandas-docs/stable/user_guide/indexing.html#returning-a-view-versus-a-copy\n",
      "  df_network_perso['user'] = name\n",
      "C:\\Users\\mtlsa\\AppData\\Local\\Temp\\ipykernel_27788\\1233925213.py:19: SettingWithCopyWarning: \n",
      "A value is trying to be set on a copy of a slice from a DataFrame.\n",
      "Try using .loc[row_indexer,col_indexer] = value instead\n",
      "\n",
      "See the caveats in the documentation: https://pandas.pydata.org/pandas-docs/stable/user_guide/indexing.html#returning-a-view-versus-a-copy\n",
      "  df_network_perso['user'] = name\n"
     ]
    },
    {
     "data": {
      "text/html": [
       "\n",
       "  <div id=\"dec7e5f6-d1e6-4adc-8287-caf439e31c2f\" data-root-id=\"p1102\" style=\"display: contents;\"></div>\n"
      ]
     },
     "metadata": {},
     "output_type": "display_data"
    },
    {
     "data": {
      "application/javascript": "(function(root) {\n  function embed_document(root) {\n  const docs_json = {\"6d98a58d-d081-4dc4-8577-fa01fdad40d5\":{\"version\":\"3.3.2\",\"title\":\"Bokeh Application\",\"roots\":[{\"type\":\"object\",\"name\":\"Figure\",\"id\":\"p1102\",\"attributes\":{\"x_range\":{\"type\":\"object\",\"name\":\"DataRange1d\",\"id\":\"p1103\"},\"y_range\":{\"type\":\"object\",\"name\":\"DataRange1d\",\"id\":\"p1104\"},\"x_scale\":{\"type\":\"object\",\"name\":\"LinearScale\",\"id\":\"p1111\"},\"y_scale\":{\"type\":\"object\",\"name\":\"LinearScale\",\"id\":\"p1112\"},\"title\":{\"type\":\"object\",\"name\":\"Title\",\"id\":\"p1109\"},\"renderers\":[{\"type\":\"object\",\"name\":\"GraphRenderer\",\"id\":\"p1084\",\"attributes\":{\"layout_provider\":{\"type\":\"object\",\"name\":\"StaticLayoutProvider\",\"id\":\"p1101\",\"attributes\":{\"graph_layout\":{\"type\":\"map\",\"entries\":[[18,{\"type\":\"ndarray\",\"array\":{\"type\":\"bytes\",\"data\":\"wejjXxM+n7/1iGdQf1HKPw==\"},\"shape\":[2],\"dtype\":\"float64\",\"order\":\"little\"}],[19,{\"type\":\"ndarray\",\"array\":{\"type\":\"bytes\",\"data\":\"AxcMkFCQ2T/6K6RZLILMvw==\"},\"shape\":[2],\"dtype\":\"float64\",\"order\":\"little\"}],[8,{\"type\":\"ndarray\",\"array\":{\"type\":\"bytes\",\"data\":\"ALGWfYor1j8hKsLPRyDavw==\"},\"shape\":[2],\"dtype\":\"float64\",\"order\":\"little\"}],[17,{\"type\":\"ndarray\",\"array\":{\"type\":\"bytes\",\"data\":\"LVoyxV2izT8XHo/w4MTgvw==\"},\"shape\":[2],\"dtype\":\"float64\",\"order\":\"little\"}],[6,{\"type\":\"ndarray\",\"array\":{\"type\":\"bytes\",\"data\":\"e9z7Qr0Pwz/5JHGONWfjvw==\"},\"shape\":[2],\"dtype\":\"float64\",\"order\":\"little\"}],[14,{\"type\":\"ndarray\",\"array\":{\"type\":\"bytes\",\"data\":\"c7IkD4YxoD8O1znLkA3kvw==\"},\"shape\":[2],\"dtype\":\"float64\",\"order\":\"little\"}],[12,{\"type\":\"ndarray\",\"array\":{\"type\":\"bytes\",\"data\":\"Ke/0t+ODrD8g+pgWMxLhvw==\"},\"shape\":[2],\"dtype\":\"float64\",\"order\":\"little\"}],[5,{\"type\":\"ndarray\",\"array\":{\"type\":\"bytes\",\"data\":\"rIDvpcDy0r/Ubwa1V/zYvw==\"},\"shape\":[2],\"dtype\":\"float64\",\"order\":\"little\"}],[15,{\"type\":\"ndarray\",\"array\":{\"type\":\"bytes\",\"data\":\"3VGHAP1+y78iZ0sW0j3jvw==\"},\"shape\":[2],\"dtype\":\"float64\",\"order\":\"little\"}],[27,{\"type\":\"ndarray\",\"array\":{\"type\":\"bytes\",\"data\":\"qzNMD+aLvr8x8ETFdtXgvw==\"},\"shape\":[2],\"dtype\":\"float64\",\"order\":\"little\"}],[22,{\"type\":\"ndarray\",\"array\":{\"type\":\"bytes\",\"data\":\"9rhgPl1Swb9JpuG+8n3pvw==\"},\"shape\":[2],\"dtype\":\"float64\",\"order\":\"little\"}],[26,{\"type\":\"ndarray\",\"array\":{\"type\":\"bytes\",\"data\":\"CljrJRJw5L9xPVpwp2nnPw==\"},\"shape\":[2],\"dtype\":\"float64\",\"order\":\"little\"}],[24,{\"type\":\"ndarray\",\"array\":{\"type\":\"bytes\",\"data\":\"gSRcQC5J579TJcFQ2pHpPw==\"},\"shape\":[2],\"dtype\":\"float64\",\"order\":\"little\"}],[2,{\"type\":\"ndarray\",\"array\":{\"type\":\"bytes\",\"data\":\"kbW1FBQI6b+CDbylBxfrPw==\"},\"shape\":[2],\"dtype\":\"float64\",\"order\":\"little\"}],[25,{\"type\":\"ndarray\",\"array\":{\"type\":\"bytes\",\"data\":\"zPj51+Fe1z+AnL3mxMbbPw==\"},\"shape\":[2],\"dtype\":\"float64\",\"order\":\"little\"}],[28,{\"type\":\"ndarray\",\"array\":{\"type\":\"bytes\",\"data\":\"Zc0SJD8A2j+UXLA4MhPgPw==\"},\"shape\":[2],\"dtype\":\"float64\",\"order\":\"little\"}],[7,{\"type\":\"ndarray\",\"array\":{\"type\":\"bytes\",\"data\":\"cik326Yk2z/eXR3iaGjkPw==\"},\"shape\":[2],\"dtype\":\"float64\",\"order\":\"little\"}],[11,{\"type\":\"ndarray\",\"array\":{\"type\":\"bytes\",\"data\":\"BfdphpxF3j8cPxqXRarrPw==\"},\"shape\":[2],\"dtype\":\"float64\",\"order\":\"little\"}],[4,{\"type\":\"ndarray\",\"array\":{\"type\":\"bytes\",\"data\":\"oDu1PUKZ1z+XHbbtcXTsPw==\"},\"shape\":[2],\"dtype\":\"float64\",\"order\":\"little\"}],[9,{\"type\":\"ndarray\",\"array\":{\"type\":\"bytes\",\"data\":\"4LAb/T/R0z9dq6ay58HvPw==\"},\"shape\":[2],\"dtype\":\"float64\",\"order\":\"little\"}],[1,{\"type\":\"ndarray\",\"array\":{\"type\":\"bytes\",\"data\":\"BpvGodF81z+2GuqsruPrPw==\"},\"shape\":[2],\"dtype\":\"float64\",\"order\":\"little\"}],[0,{\"type\":\"ndarray\",\"array\":{\"type\":\"bytes\",\"data\":\"ZOmdgmuX4T8AAAAAAADwPw==\"},\"shape\":[2],\"dtype\":\"float64\",\"order\":\"little\"}],[29,{\"type\":\"ndarray\",\"array\":{\"type\":\"bytes\",\"data\":\"or0IwbWqrz8FNmJ90sfTvw==\"},\"shape\":[2],\"dtype\":\"float64\",\"order\":\"little\"}],[3,{\"type\":\"ndarray\",\"array\":{\"type\":\"bytes\",\"data\":\"MWfbKf7MtT/Wzzxur3jcvw==\"},\"shape\":[2],\"dtype\":\"float64\",\"order\":\"little\"}],[16,{\"type\":\"ndarray\",\"array\":{\"type\":\"bytes\",\"data\":\"bqgCFCYvtz+ua+fk1Wfgvw==\"},\"shape\":[2],\"dtype\":\"float64\",\"order\":\"little\"}],[23,{\"type\":\"ndarray\",\"array\":{\"type\":\"bytes\",\"data\":\"I6I/e4iq2j8W6x+fJKDlvw==\"},\"shape\":[2],\"dtype\":\"float64\",\"order\":\"little\"}],[10,{\"type\":\"ndarray\",\"array\":{\"type\":\"bytes\",\"data\":\"6AiS0prx3r89q6WYoG/Rvw==\"},\"shape\":[2],\"dtype\":\"float64\",\"order\":\"little\"}],[21,{\"type\":\"ndarray\",\"array\":{\"type\":\"bytes\",\"data\":\"t31xEVZM278IsSRk0urXvw==\"},\"shape\":[2],\"dtype\":\"float64\",\"order\":\"little\"}],[13,{\"type\":\"ndarray\",\"array\":{\"type\":\"bytes\",\"data\":\"asGcbLR85b8bahPvsFvfvw==\"},\"shape\":[2],\"dtype\":\"float64\",\"order\":\"little\"}],[20,{\"type\":\"ndarray\",\"array\":{\"type\":\"bytes\",\"data\":\"iytFDeFe47+Brk3T7HXdvw==\"},\"shape\":[2],\"dtype\":\"float64\",\"order\":\"little\"}]]}}},\"node_renderer\":{\"type\":\"object\",\"name\":\"GlyphRenderer\",\"id\":\"p1089\",\"attributes\":{\"data_source\":{\"type\":\"object\",\"name\":\"ColumnDataSource\",\"id\":\"p1086\",\"attributes\":{\"selected\":{\"type\":\"object\",\"name\":\"Selection\",\"id\":\"p1087\",\"attributes\":{\"indices\":[],\"line_indices\":[]}},\"selection_policy\":{\"type\":\"object\",\"name\":\"UnionRenderers\",\"id\":\"p1088\"},\"data\":{\"type\":\"map\",\"entries\":[[\"weight_o\",[9,2,1,2,1,2,3,1,1,1,null,3,7,1,4,1,1,1,1,1,1,1,1,4,6,null,1,1,3,4]],[\"weight\",[27.725887222397812,8.02682781848605,4.214420626313054,8.02682781848605,4.214420626313054,8.02682781848605,11.507282898071233,4.214420626313054,4.214420626313054,4.214420626313054,null,11.507282898071233,23.01456579614247,4.214420626313054,14.708991205012694,4.214420626313054,4.214420626313054,4.214420626313054,4.214420626313054,4.214420626313054,4.214420626313054,4.214420626313054,4.214420626313054,14.708991205012694,20.433024950639624,null,4.214420626313054,4.214420626313054,11.507282898071233,14.708991205012694]],[\"channel\",[\"NASA\",\"NASA Video\",\"Dude Perfect\",\"MrBeast\",\"Doc Seven\",\"Louis-San\",\"Lena Situations\",\"Chlo\\u00e9 & animal crossing \",\"Mastu\",\"Turtoon\",null,\"ScienceEtonnante\",\"ScienceClic\",\"ARTE\",\"ScienceClic English\",\"Veritasium\",\"Domain of Science\",\"Kurzgesagt \\u2013 In a Nutshell\",\"Beeyond Ideas\",\"Future Business Tech\",\"99Techspot\",\"60 Minutes\",\"melodysheep\",\"Amixem\",\"Mayadorable\",null,\"HugoD\\u00e9crypte - Actus du jour\",\"OBONGJAYAR\",\"Little Simz\",\"NPR Music\"]],[\"user\",[\"Lou\",\"Anais\",\"Anais\",\"Anais\",\"Anais\",\"Anais\",\"Lou\",\"Anais\",\"Anais\",\"Anais\",null,\"Ella\",\"Ella\",\"Ella\",\"Camille\",\"Camille\",\"Camille\",\"Camille\",\"Camille\",\"Camille\",\"Camille\",\"Camille\",\"Lou\",\"Lou\",\"Lou\",null,\"Bellon\",\"Bellon\",\"Bellon\",\"Bellon\"]],[\"index\",[18,19,8,17,6,14,12,5,15,27,22,26,24,2,25,28,7,11,4,9,1,0,29,3,16,23,10,21,13,20]]]}}},\"view\":{\"type\":\"object\",\"name\":\"CDSView\",\"id\":\"p1090\",\"attributes\":{\"filter\":{\"type\":\"object\",\"name\":\"AllIndices\",\"id\":\"p1091\"}}},\"glyph\":{\"type\":\"object\",\"name\":\"Circle\",\"id\":\"p1135\",\"attributes\":{\"size\":{\"type\":\"field\",\"field\":\"weight\"},\"fill_color\":{\"type\":\"value\",\"value\":\"cadetblue\"}}}}},\"edge_renderer\":{\"type\":\"object\",\"name\":\"GlyphRenderer\",\"id\":\"p1096\",\"attributes\":{\"data_source\":{\"type\":\"object\",\"name\":\"ColumnDataSource\",\"id\":\"p1093\",\"attributes\":{\"selected\":{\"type\":\"object\",\"name\":\"Selection\",\"id\":\"p1094\",\"attributes\":{\"indices\":[],\"line_indices\":[]}},\"selection_policy\":{\"type\":\"object\",\"name\":\"UnionRenderers\",\"id\":\"p1095\"},\"data\":{\"type\":\"map\",\"entries\":[[\"edge_color\",[\"skyblue\",\"sandybrown\",\"orchid\",\"orchid\",\"darkgreen\",\"skyblue\",\"sandybrown\",\"orchid\",\"darkgreen\",\"skyblue\",\"skyblue\",\"skyblue\",\"skyblue\",\"skyblue\",\"skyblue\",\"skyblue\",\"skyblue\",\"skyblue\",\"skyblue\",\"darkgreen\",\"skyblue\",\"skyblue\",\"skyblue\",\"sandybrown\",\"sandybrown\",\"sandybrown\",\"sandybrown\",\"sandybrown\",\"sandybrown\",\"sandybrown\",\"sandybrown\",\"sandybrown\",\"sandybrown\",\"sandybrown\",\"orchid\",\"orchid\",\"orchid\",\"orchid\",\"orchid\",\"orchid\",\"orchid\",\"orchid\",\"orchid\",\"orchid\",\"orchid\",\"darkgreen\",\"darkgreen\",\"darkgreen\",\"darkgreen\",\"darkgreen\",\"darkgreen\",\"darkgreen\",\"darkgreen\",\"darkgreen\",\"darkgreen\",\"darkgreen\",\"lightgreen\",\"lightgreen\",\"lightgreen\",\"lightgreen\",\"lightgreen\",\"lightgreen\",\"lightgreen\",\"lightgreen\",\"lightgreen\"]],[\"user\",[\"Anais\",\"Ella\",\"Camille\",\"Camille\",\"Lou\",\"Anais\",\"Ella\",\"Camille\",\"Lou\",\"Anais\",\"Anais\",\"Anais\",\"Anais\",\"Anais\",\"Anais\",\"Anais\",\"Anais\",\"Anais\",\"Anais\",\"Lou\",\"Anais\",\"Anais\",\"Anais\",\"Ella\",\"Ella\",\"Ella\",\"Ella\",\"Ella\",\"Ella\",\"Ella\",\"Ella\",\"Ella\",\"Ella\",\"Ella\",\"Camille\",\"Camille\",\"Camille\",\"Camille\",\"Camille\",\"Camille\",\"Camille\",\"Camille\",\"Camille\",\"Camille\",\"Camille\",\"Lou\",\"Lou\",\"Lou\",\"Lou\",\"Lou\",\"Lou\",\"Lou\",\"Lou\",\"Lou\",\"Lou\",\"Lou\",\"Bellon\",\"Bellon\",\"Bellon\",\"Bellon\",\"Bellon\",\"Bellon\",\"Bellon\",\"Bellon\",\"Bellon\"]],[\"weight\",[9,9,9,9,9,9,9,9,9,2,2,1,2,2,1,2,2,3,3,3,1,1,1,3,3,3,7,7,7,7,7,7,7,1,4,4,4,4,1,1,1,1,1,1,1,1,4,4,4,4,6,6,6,6,6,6,1,1,3,3,3,4,4,4,4]],[\"start\",[18,18,18,18,18,18,18,18,18,19,19,8,17,17,6,14,14,12,12,12,5,15,27,26,26,26,24,24,24,24,24,24,24,2,25,25,25,25,28,7,11,4,9,1,0,29,3,3,3,3,16,16,16,16,16,16,10,21,13,13,13,20,20,20,20]],[\"end\",[18,18,18,18,18,19,26,25,29,19,8,17,17,6,14,14,12,12,5,23,15,27,22,26,26,24,24,24,24,24,24,24,2,2,25,25,25,28,7,11,4,9,1,0,0,3,3,3,3,16,16,16,16,16,16,12,21,13,13,13,20,20,20,20,20]]]}}},\"view\":{\"type\":\"object\",\"name\":\"CDSView\",\"id\":\"p1097\",\"attributes\":{\"filter\":{\"type\":\"object\",\"name\":\"AllIndices\",\"id\":\"p1098\"}}},\"glyph\":{\"type\":\"object\",\"name\":\"MultiLine\",\"id\":\"p1136\",\"attributes\":{\"line_color\":{\"type\":\"field\",\"field\":\"edge_color\"},\"line_width\":{\"type\":\"value\",\"value\":2}}}}},\"selection_policy\":{\"type\":\"object\",\"name\":\"NodesOnly\",\"id\":\"p1099\"},\"inspection_policy\":{\"type\":\"object\",\"name\":\"NodesOnly\",\"id\":\"p1100\"}}}],\"toolbar\":{\"type\":\"object\",\"name\":\"Toolbar\",\"id\":\"p1110\",\"attributes\":{\"tools\":[{\"type\":\"object\",\"name\":\"HoverTool\",\"id\":\"p1123\",\"attributes\":{\"renderers\":\"auto\",\"tooltips\":[[\"channel\",\"@channel\"],[\"views\",\"@weight_o\"]]}},{\"type\":\"object\",\"name\":\"BoxZoomTool\",\"id\":\"p1124\",\"attributes\":{\"overlay\":{\"type\":\"object\",\"name\":\"BoxAnnotation\",\"id\":\"p1125\",\"attributes\":{\"syncable\":false,\"level\":\"overlay\",\"visible\":false,\"left\":{\"type\":\"number\",\"value\":\"nan\"},\"right\":{\"type\":\"number\",\"value\":\"nan\"},\"top\":{\"type\":\"number\",\"value\":\"nan\"},\"bottom\":{\"type\":\"number\",\"value\":\"nan\"},\"left_units\":\"canvas\",\"right_units\":\"canvas\",\"top_units\":\"canvas\",\"bottom_units\":\"canvas\",\"line_color\":\"black\",\"line_alpha\":1.0,\"line_width\":2,\"line_dash\":[4,4],\"fill_color\":\"lightgrey\",\"fill_alpha\":0.5}}}},{\"type\":\"object\",\"name\":\"PanTool\",\"id\":\"p1130\"},{\"type\":\"object\",\"name\":\"ZoomOutTool\",\"id\":\"p1131\",\"attributes\":{\"renderers\":\"auto\"}},{\"type\":\"object\",\"name\":\"ZoomInTool\",\"id\":\"p1132\",\"attributes\":{\"renderers\":\"auto\"}},{\"type\":\"object\",\"name\":\"ResetTool\",\"id\":\"p1133\"},{\"type\":\"object\",\"name\":\"SaveTool\",\"id\":\"p1134\"}]}},\"center\":[{\"type\":\"object\",\"name\":\"Grid\",\"id\":\"p1117\",\"attributes\":{\"axis\":{\"type\":\"object\",\"name\":\"LinearAxis\",\"id\":\"p1113\",\"attributes\":{\"ticker\":{\"type\":\"object\",\"name\":\"BasicTicker\",\"id\":\"p1114\",\"attributes\":{\"mantissas\":[1,2,5]}},\"formatter\":{\"type\":\"object\",\"name\":\"BasicTickFormatter\",\"id\":\"p1115\"},\"major_label_policy\":{\"type\":\"object\",\"name\":\"AllLabels\",\"id\":\"p1116\"}}},\"grid_line_color\":null}},{\"type\":\"object\",\"name\":\"Grid\",\"id\":\"p1122\",\"attributes\":{\"dimension\":1,\"axis\":{\"type\":\"object\",\"name\":\"LinearAxis\",\"id\":\"p1118\",\"attributes\":{\"ticker\":{\"type\":\"object\",\"name\":\"BasicTicker\",\"id\":\"p1119\",\"attributes\":{\"mantissas\":[1,2,5]}},\"formatter\":{\"type\":\"object\",\"name\":\"BasicTickFormatter\",\"id\":\"p1120\"},\"major_label_policy\":{\"type\":\"object\",\"name\":\"AllLabels\",\"id\":\"p1121\"}}},\"grid_line_color\":null}}]}}]}};\n  const render_items = [{\"docid\":\"6d98a58d-d081-4dc4-8577-fa01fdad40d5\",\"roots\":{\"p1102\":\"dec7e5f6-d1e6-4adc-8287-caf439e31c2f\"},\"root_ids\":[\"p1102\"]}];\n  root.Bokeh.embed.embed_items_notebook(docs_json, render_items);\n  }\n  if (root.Bokeh !== undefined) {\n    embed_document(root);\n  } else {\n    let attempts = 0;\n    const timer = setInterval(function(root) {\n      if (root.Bokeh !== undefined) {\n        clearInterval(timer);\n        embed_document(root);\n      } else {\n        attempts++;\n        if (attempts > 100) {\n          clearInterval(timer);\n          console.log(\"Bokeh: ERROR: Unable to run BokehJS code because BokehJS library is missing\");\n        }\n      }\n    }, 10, root)\n  }\n})(window);",
      "application/vnd.bokehjs_exec.v0+json": ""
     },
     "metadata": {
      "application/vnd.bokehjs_exec.v0+json": {
       "id": "p1102"
      }
     },
     "output_type": "display_data"
    }
   ],
   "source": [
    "\n",
    "name_list = {'Anais':{'color':'skyblue'},\n",
    "             'Ella':{'color':'sandybrown'}\n",
    "             ,'Camille':{'color':'orchid'}\n",
    "             ,'Lou':{'color':'darkgreen'}}\n",
    "frames = []\n",
    "\n",
    "for name in list(name_list.keys()):\n",
    "    path = f'./data/{name}_methode1.txt'\n",
    "    #Load json\n",
    "    df = load_data_csv(path)\n",
    "    # convert to network\n",
    "    # add weight + id channel + id follow + user\n",
    "    df_video = df[df['page_title'] == 'video']\n",
    "    df_video['channel_follow'] = list(df_video['channel'][1:]) + [pd.NA]\n",
    "    \n",
    "    df_video['weight'] = df_video['channel'].apply(lambda x: df_video[df_video['channel'] == x].shape[0])\n",
    "    df_network_perso = df_video[['channel','channel_follow','weight']]\n",
    "    df_network_perso['user'] = name\n",
    "\n",
    "    frames += [df_network_perso]\n",
    "df_network = pd.concat(frames,ignore_index=True)\n",
    "\n",
    "\n",
    "\n",
    "\n",
    "le = LabelEncoder()\n",
    "le.fit(df_network['channel'])\n",
    "df_network = df_network.dropna()\n",
    "df_network['index'] = list(df_network.index)\n",
    "df_network['channel_id'] = le.transform(df_network['channel'])\n",
    "df_network['channel_follow_id'] = le.transform(df_network['channel_follow'])\n",
    "df_network['weight'] = df_network['channel'].apply(lambda x: df_network[df_network['channel'] == x].shape[0])\n",
    "\n",
    "\n",
    "\n",
    "G = nx.from_pandas_edgelist(df_network,\"channel_id\",\"channel_follow_id\",['weight','user'],create_using=nx.MultiDiGraph)\n",
    "factor = 1/(max(df_network['weight']))\n",
    "\n",
    "attrs = {}\n",
    "for id,row in df_network.iterrows():\n",
    "    attrs[row['channel_id']] = {\"channel\": row['channel'], \"user\":row['user'],\"weight\":math.log(1 + row['weight']*factor)*40,\"weight_o\":row['weight']}\n",
    "# attrs = {0: {\"attr1\": 20, \"attr2\": \"nothing\"}, 1: {\"attr2\": 3}}\n",
    "nx.set_node_attributes(G, attrs)\n",
    "\n",
    "#Communitiesc\n",
    "# communities = community.greedy_modularity_communities(G)\n",
    "# # Create empty dictionaries\n",
    "# modularity_class = {}\n",
    "# modularity_color = {}\n",
    "# #Loop through each community in the network\n",
    "# for community_number, comm in enumerate(communities):\n",
    "#     #For each member of the community, add their community number and a distinct color\n",
    "#     for name in comm: \n",
    "#         modularity_class[name] = community_number\n",
    "#         modularity_color[name] = Spectral8[community_number]\n",
    "# nx.set_node_attributes(G, modularity_class, 'modularity_class')\n",
    "# nx.set_node_attributes(G, modularity_color, 'color')\n",
    "\n",
    "\n",
    "\n",
    "edge_attrs = {}\n",
    "for start_node, end_node, key, ch in G.edges(data=True,keys=True):\n",
    "    edge_color = name_list[ch['user']]['color'] \n",
    "    edge_attrs[(start_node, end_node,key)] = edge_color\n",
    "nx.set_edge_attributes(G, edge_attrs, \"edge_color\")\n",
    "\n",
    "edges = G.edges(keys=True)\n",
    "colors = [G[u][v][k]['edge_color'] for u,v,k in edges]\n",
    "weights = [G[u][v][k]['weight'] for u,v,k in edges]\n",
    "\n",
    "pos = nx.spring_layout(G,k=1/math.sqrt(len(G))*1.3) # Define the layout for node positioning\n",
    "# nx.draw(G, pos, with_labels=True, node_size=300, node_color='skyblue',edge_color=colors, font_size=10, font_color='black')\n",
    "# Display the graph\n",
    "# plt.show()\n",
    "\n",
    "\n",
    "graph = from_networkx(G, pos, scale=1.8, center=(0,0))\n",
    "HOVER_TOOLTIPS = [(\"channel\",\"@channel\"),('views',\"@weight_o\")]\n",
    "# x_range=(-2, 2), y_range=(-2, 2),\n",
    "p = figure(\n",
    "           x_axis_location=None, y_axis_location=None,\n",
    "           tools=\"hover,box_zoom,pan,zoom_out,zoom_in,reset,save\", tooltips=HOVER_TOOLTIPS)\n",
    "\n",
    "p.grid.grid_line_color = None\n",
    "# Add some new columns to the node renderer data source\n",
    "# graph.node_renderer.data_source.data['index'] = list(range(len(G)))\n",
    "\n",
    "# #Set node size and color\n",
    "graph.node_renderer.glyph = Circle(size=\"weight\", fill_color='cadetblue')\n",
    "# # #Set edge opacity and width and color\n",
    "graph.edge_renderer.glyph = MultiLine(line_color=\"edge_color\",line_width=2,\n",
    "                                               line_alpha=1)\n",
    "\n",
    "# graph.node_renderer.glyph.update(size=20, fill_color=\"colors\")\n",
    "p.renderers.append(graph)\n",
    "show(p)\n"
   ]
  },
  {
   "cell_type": "code",
   "execution_count": 12,
   "metadata": {},
   "outputs": [],
   "source": [
    "save_bokeh_graph(p,'plot_nav_BelAnLouCamEl')"
   ]
  },
  {
   "cell_type": "markdown",
   "metadata": {},
   "source": [
    "### Methode 2"
   ]
  },
  {
   "cell_type": "code",
   "execution_count": 109,
   "metadata": {},
   "outputs": [
    {
     "name": "stdout",
     "output_type": "stream",
     "text": [
      "Anais\n",
      "Ella\n",
      "Camille\n"
     ]
    },
    {
     "name": "stderr",
     "output_type": "stream",
     "text": [
      "C:\\Users\\mtlsa\\AppData\\Local\\Temp\\ipykernel_27788\\91272592.py:21: SettingWithCopyWarning: \n",
      "A value is trying to be set on a copy of a slice from a DataFrame.\n",
      "Try using .loc[row_indexer,col_indexer] = value instead\n",
      "\n",
      "See the caveats in the documentation: https://pandas.pydata.org/pandas-docs/stable/user_guide/indexing.html#returning-a-view-versus-a-copy\n",
      "  df_video['channel_follow'] = list(df_video['channel'][1:]) + [pd.NA]\n",
      "C:\\Users\\mtlsa\\AppData\\Local\\Temp\\ipykernel_27788\\91272592.py:23: SettingWithCopyWarning: \n",
      "A value is trying to be set on a copy of a slice from a DataFrame.\n",
      "Try using .loc[row_indexer,col_indexer] = value instead\n",
      "\n",
      "See the caveats in the documentation: https://pandas.pydata.org/pandas-docs/stable/user_guide/indexing.html#returning-a-view-versus-a-copy\n",
      "  df_video['weight'] = df_video['channel'].apply(lambda x: df_video[df_video['channel'] == x].shape[0])\n",
      "C:\\Users\\mtlsa\\AppData\\Local\\Temp\\ipykernel_27788\\91272592.py:25: SettingWithCopyWarning: \n",
      "A value is trying to be set on a copy of a slice from a DataFrame.\n",
      "Try using .loc[row_indexer,col_indexer] = value instead\n",
      "\n",
      "See the caveats in the documentation: https://pandas.pydata.org/pandas-docs/stable/user_guide/indexing.html#returning-a-view-versus-a-copy\n",
      "  df_network_perso['user'] = name\n",
      "C:\\Users\\mtlsa\\AppData\\Local\\Temp\\ipykernel_27788\\91272592.py:21: SettingWithCopyWarning: \n",
      "A value is trying to be set on a copy of a slice from a DataFrame.\n",
      "Try using .loc[row_indexer,col_indexer] = value instead\n",
      "\n",
      "See the caveats in the documentation: https://pandas.pydata.org/pandas-docs/stable/user_guide/indexing.html#returning-a-view-versus-a-copy\n",
      "  df_video['channel_follow'] = list(df_video['channel'][1:]) + [pd.NA]\n",
      "C:\\Users\\mtlsa\\AppData\\Local\\Temp\\ipykernel_27788\\91272592.py:23: SettingWithCopyWarning: \n",
      "A value is trying to be set on a copy of a slice from a DataFrame.\n",
      "Try using .loc[row_indexer,col_indexer] = value instead\n",
      "\n",
      "See the caveats in the documentation: https://pandas.pydata.org/pandas-docs/stable/user_guide/indexing.html#returning-a-view-versus-a-copy\n",
      "  df_video['weight'] = df_video['channel'].apply(lambda x: df_video[df_video['channel'] == x].shape[0])\n",
      "C:\\Users\\mtlsa\\AppData\\Local\\Temp\\ipykernel_27788\\91272592.py:25: SettingWithCopyWarning: \n",
      "A value is trying to be set on a copy of a slice from a DataFrame.\n",
      "Try using .loc[row_indexer,col_indexer] = value instead\n",
      "\n",
      "See the caveats in the documentation: https://pandas.pydata.org/pandas-docs/stable/user_guide/indexing.html#returning-a-view-versus-a-copy\n",
      "  df_network_perso['user'] = name\n"
     ]
    },
    {
     "ename": "ParserError",
     "evalue": "Error tokenizing data. C error: Expected 1 fields in line 38, saw 5\n",
     "output_type": "error",
     "traceback": [
      "\u001b[1;31m---------------------------------------------------------------------------\u001b[0m",
      "\u001b[1;31mParserError\u001b[0m                               Traceback (most recent call last)",
      "Cell \u001b[1;32mIn[109], line 16\u001b[0m\n\u001b[0;32m     14\u001b[0m \u001b[38;5;28;01melse\u001b[39;00m:\n\u001b[0;32m     15\u001b[0m     path \u001b[38;5;241m=\u001b[39m \u001b[38;5;124mf\u001b[39m\u001b[38;5;124m'\u001b[39m\u001b[38;5;124m./data/\u001b[39m\u001b[38;5;132;01m{\u001b[39;00mname\u001b[38;5;132;01m}\u001b[39;00m\u001b[38;5;124m_methode2.csv\u001b[39m\u001b[38;5;124m'\u001b[39m\n\u001b[1;32m---> 16\u001b[0m     df \u001b[38;5;241m=\u001b[39m \u001b[43mpd\u001b[49m\u001b[38;5;241;43m.\u001b[39;49m\u001b[43mread_csv\u001b[49m\u001b[43m(\u001b[49m\u001b[43mpath\u001b[49m\u001b[43m,\u001b[49m\u001b[43msep\u001b[49m\u001b[38;5;241;43m=\u001b[39;49m\u001b[38;5;124;43m'\u001b[39;49m\u001b[38;5;124;43m;\u001b[39;49m\u001b[38;5;124;43m'\u001b[39;49m\u001b[43m)\u001b[49m\n\u001b[0;32m     18\u001b[0m \u001b[38;5;66;03m# convert to network\u001b[39;00m\n\u001b[0;32m     19\u001b[0m \u001b[38;5;66;03m# add weight + id channel + id follow + user\u001b[39;00m\n\u001b[0;32m     20\u001b[0m df_video \u001b[38;5;241m=\u001b[39m df[df[\u001b[38;5;124m'\u001b[39m\u001b[38;5;124mpage_title\u001b[39m\u001b[38;5;124m'\u001b[39m] \u001b[38;5;241m==\u001b[39m \u001b[38;5;124m'\u001b[39m\u001b[38;5;124mvideo\u001b[39m\u001b[38;5;124m'\u001b[39m]\n",
      "File \u001b[1;32mc:\\Users\\mtlsa\\anaconda3\\envs\\IC05\\Lib\\site-packages\\pandas\\io\\parsers\\readers.py:912\u001b[0m, in \u001b[0;36mread_csv\u001b[1;34m(filepath_or_buffer, sep, delimiter, header, names, index_col, usecols, dtype, engine, converters, true_values, false_values, skipinitialspace, skiprows, skipfooter, nrows, na_values, keep_default_na, na_filter, verbose, skip_blank_lines, parse_dates, infer_datetime_format, keep_date_col, date_parser, date_format, dayfirst, cache_dates, iterator, chunksize, compression, thousands, decimal, lineterminator, quotechar, quoting, doublequote, escapechar, comment, encoding, encoding_errors, dialect, on_bad_lines, delim_whitespace, low_memory, memory_map, float_precision, storage_options, dtype_backend)\u001b[0m\n\u001b[0;32m    899\u001b[0m kwds_defaults \u001b[38;5;241m=\u001b[39m _refine_defaults_read(\n\u001b[0;32m    900\u001b[0m     dialect,\n\u001b[0;32m    901\u001b[0m     delimiter,\n\u001b[1;32m   (...)\u001b[0m\n\u001b[0;32m    908\u001b[0m     dtype_backend\u001b[38;5;241m=\u001b[39mdtype_backend,\n\u001b[0;32m    909\u001b[0m )\n\u001b[0;32m    910\u001b[0m kwds\u001b[38;5;241m.\u001b[39mupdate(kwds_defaults)\n\u001b[1;32m--> 912\u001b[0m \u001b[38;5;28;01mreturn\u001b[39;00m \u001b[43m_read\u001b[49m\u001b[43m(\u001b[49m\u001b[43mfilepath_or_buffer\u001b[49m\u001b[43m,\u001b[49m\u001b[43m \u001b[49m\u001b[43mkwds\u001b[49m\u001b[43m)\u001b[49m\n",
      "File \u001b[1;32mc:\\Users\\mtlsa\\anaconda3\\envs\\IC05\\Lib\\site-packages\\pandas\\io\\parsers\\readers.py:583\u001b[0m, in \u001b[0;36m_read\u001b[1;34m(filepath_or_buffer, kwds)\u001b[0m\n\u001b[0;32m    580\u001b[0m     \u001b[38;5;28;01mreturn\u001b[39;00m parser\n\u001b[0;32m    582\u001b[0m \u001b[38;5;28;01mwith\u001b[39;00m parser:\n\u001b[1;32m--> 583\u001b[0m     \u001b[38;5;28;01mreturn\u001b[39;00m \u001b[43mparser\u001b[49m\u001b[38;5;241;43m.\u001b[39;49m\u001b[43mread\u001b[49m\u001b[43m(\u001b[49m\u001b[43mnrows\u001b[49m\u001b[43m)\u001b[49m\n",
      "File \u001b[1;32mc:\\Users\\mtlsa\\anaconda3\\envs\\IC05\\Lib\\site-packages\\pandas\\io\\parsers\\readers.py:1704\u001b[0m, in \u001b[0;36mTextFileReader.read\u001b[1;34m(self, nrows)\u001b[0m\n\u001b[0;32m   1697\u001b[0m nrows \u001b[38;5;241m=\u001b[39m validate_integer(\u001b[38;5;124m\"\u001b[39m\u001b[38;5;124mnrows\u001b[39m\u001b[38;5;124m\"\u001b[39m, nrows)\n\u001b[0;32m   1698\u001b[0m \u001b[38;5;28;01mtry\u001b[39;00m:\n\u001b[0;32m   1699\u001b[0m     \u001b[38;5;66;03m# error: \"ParserBase\" has no attribute \"read\"\u001b[39;00m\n\u001b[0;32m   1700\u001b[0m     (\n\u001b[0;32m   1701\u001b[0m         index,\n\u001b[0;32m   1702\u001b[0m         columns,\n\u001b[0;32m   1703\u001b[0m         col_dict,\n\u001b[1;32m-> 1704\u001b[0m     ) \u001b[38;5;241m=\u001b[39m \u001b[38;5;28;43mself\u001b[39;49m\u001b[38;5;241;43m.\u001b[39;49m\u001b[43m_engine\u001b[49m\u001b[38;5;241;43m.\u001b[39;49m\u001b[43mread\u001b[49m\u001b[43m(\u001b[49m\u001b[43m  \u001b[49m\u001b[38;5;66;43;03m# type: ignore[attr-defined]\u001b[39;49;00m\n\u001b[0;32m   1705\u001b[0m \u001b[43m        \u001b[49m\u001b[43mnrows\u001b[49m\n\u001b[0;32m   1706\u001b[0m \u001b[43m    \u001b[49m\u001b[43m)\u001b[49m\n\u001b[0;32m   1707\u001b[0m \u001b[38;5;28;01mexcept\u001b[39;00m \u001b[38;5;167;01mException\u001b[39;00m:\n\u001b[0;32m   1708\u001b[0m     \u001b[38;5;28mself\u001b[39m\u001b[38;5;241m.\u001b[39mclose()\n",
      "File \u001b[1;32mc:\\Users\\mtlsa\\anaconda3\\envs\\IC05\\Lib\\site-packages\\pandas\\io\\parsers\\c_parser_wrapper.py:234\u001b[0m, in \u001b[0;36mCParserWrapper.read\u001b[1;34m(self, nrows)\u001b[0m\n\u001b[0;32m    232\u001b[0m \u001b[38;5;28;01mtry\u001b[39;00m:\n\u001b[0;32m    233\u001b[0m     \u001b[38;5;28;01mif\u001b[39;00m \u001b[38;5;28mself\u001b[39m\u001b[38;5;241m.\u001b[39mlow_memory:\n\u001b[1;32m--> 234\u001b[0m         chunks \u001b[38;5;241m=\u001b[39m \u001b[38;5;28mself\u001b[39m\u001b[38;5;241m.\u001b[39m_reader\u001b[38;5;241m.\u001b[39mread_low_memory(nrows)\n\u001b[0;32m    235\u001b[0m         \u001b[38;5;66;03m# destructive to chunks\u001b[39;00m\n\u001b[0;32m    236\u001b[0m         data \u001b[38;5;241m=\u001b[39m _concatenate_chunks(chunks)\n",
      "File \u001b[1;32mc:\\Users\\mtlsa\\anaconda3\\envs\\IC05\\Lib\\site-packages\\pandas\\_libs\\parsers.pyx:814\u001b[0m, in \u001b[0;36mpandas._libs.parsers.TextReader.read_low_memory\u001b[1;34m()\u001b[0m\n",
      "File \u001b[1;32mc:\\Users\\mtlsa\\anaconda3\\envs\\IC05\\Lib\\site-packages\\pandas\\_libs\\parsers.pyx:875\u001b[0m, in \u001b[0;36mpandas._libs.parsers.TextReader._read_rows\u001b[1;34m()\u001b[0m\n",
      "File \u001b[1;32mc:\\Users\\mtlsa\\anaconda3\\envs\\IC05\\Lib\\site-packages\\pandas\\_libs\\parsers.pyx:850\u001b[0m, in \u001b[0;36mpandas._libs.parsers.TextReader._tokenize_rows\u001b[1;34m()\u001b[0m\n",
      "File \u001b[1;32mc:\\Users\\mtlsa\\anaconda3\\envs\\IC05\\Lib\\site-packages\\pandas\\_libs\\parsers.pyx:861\u001b[0m, in \u001b[0;36mpandas._libs.parsers.TextReader._check_tokenize_status\u001b[1;34m()\u001b[0m\n",
      "File \u001b[1;32mc:\\Users\\mtlsa\\anaconda3\\envs\\IC05\\Lib\\site-packages\\pandas\\_libs\\parsers.pyx:2029\u001b[0m, in \u001b[0;36mpandas._libs.parsers.raise_parser_error\u001b[1;34m()\u001b[0m\n",
      "\u001b[1;31mParserError\u001b[0m: Error tokenizing data. C error: Expected 1 fields in line 38, saw 5\n"
     ]
    }
   ],
   "source": [
    "name_list = {'Anais':{'color':'skyblue'},\n",
    "             'Ella':{'color':'sandybrown'}\n",
    "             ,'Camille':{'color':'orchid'}\n",
    "             ,'Lou':{'color':'darkgreen'}\n",
    "             }\n",
    "frames = []\n",
    "\n",
    "for name in list(name_list.keys()):\n",
    "    print(name)\n",
    "    path = f'./data/{name}_methode2.txt'\n",
    "    if os.path.exists(path):\n",
    "        #Load json\n",
    "        df = load_data_csv(path)\n",
    "    else:\n",
    "        path = f'./data/{name}_methode2.csv'\n",
    "        df = pd.read_csv(path,sep=';')\n",
    "        \n",
    "    # convert to network\n",
    "    # add weight + id channel + id follow + user\n",
    "    df_video = df[df['page_title'] == 'video']\n",
    "    df_video['channel_follow'] = list(df_video['channel'][1:]) + [pd.NA]\n",
    "    \n",
    "    df_video['weight'] = df_video['channel'].apply(lambda x: df_video[df_video['channel'] == x].shape[0])\n",
    "    df_network_perso = df_video[['channel','channel_follow','weight']]\n",
    "    df_network_perso['user'] = name\n",
    "\n",
    "    frames += [df_network_perso]\n",
    "df_network = pd.concat(frames,ignore_index=True)\n",
    "\n",
    "\n",
    "\n",
    "\n",
    "le = LabelEncoder()\n",
    "le.fit(df_network['channel'])\n",
    "df_network = df_network.dropna()\n",
    "df_network= df_network.drop(df_network.loc[df_network['channel']==''].index)\n",
    "\n",
    "df_network['index'] = list(df_network.index)\n",
    "df_network['channel_id'] = le.transform(df_network['channel'])\n",
    "df_network['channel_follow_id'] = le.transform(df_network['channel_follow'])\n",
    "df_network['weight'] = df_network['channel'].apply(lambda x: df_network[df_network['channel'] == x].shape[0])\n",
    "\n",
    "\n",
    "\n",
    "G = nx.from_pandas_edgelist(df_network,\"channel_id\",\"channel_follow_id\",['weight','user'],create_using=nx.MultiDiGraph)\n",
    "factor = 1/(max(df_network['weight']))\n",
    "\n",
    "attrs = {}\n",
    "for id,row in df_network.iterrows():\n",
    "    attrs[row['channel_id']] = {\"channel\": row['channel'], \"user\":row['user'],\"weight\":math.log(1 + row['weight']*factor)*40,\"weight_o\":row['weight']}\n",
    "# attrs = {0: {\"attr1\": 20, \"attr2\": \"nothing\"}, 1: {\"attr2\": 3}}\n",
    "nx.set_node_attributes(G, attrs)\n",
    "\n",
    "#Communitiesc\n",
    "# communities = community.greedy_modularity_communities(G)\n",
    "# # Create empty dictionaries\n",
    "# modularity_class = {}\n",
    "# modularity_color = {}\n",
    "# #Loop through each community in the network\n",
    "# for community_number, comm in enumerate(communities):\n",
    "#     #For each member of the community, add their community number and a distinct color\n",
    "#     for name in comm: \n",
    "#         modularity_class[name] = community_number\n",
    "#         modularity_color[name] = Spectral8[community_number]\n",
    "# nx.set_node_attributes(G, modularity_class, 'modularity_class')\n",
    "# nx.set_node_attributes(G, modularity_color, 'color')\n",
    "\n",
    "\n",
    "\n",
    "edge_attrs = {}\n",
    "for start_node, end_node, key, ch in G.edges(data=True,keys=True):\n",
    "    edge_color = name_list[ch['user']]['color'] \n",
    "    edge_attrs[(start_node, end_node,key)] = edge_color\n",
    "nx.set_edge_attributes(G, edge_attrs, \"edge_color\")\n",
    "\n",
    "edges = G.edges(keys=True)\n",
    "colors = [G[u][v][k]['edge_color'] for u,v,k in edges]\n",
    "weights = [G[u][v][k]['weight'] for u,v,k in edges]\n",
    "\n",
    "pos = nx.spring_layout(G,k=1/math.sqrt(len(G))*1.3) # Define the layout for node positioning\n",
    "# nx.draw(G, pos, with_labels=True, node_size=300, node_color='skyblue',edge_color=colors, font_size=10, font_color='black')\n",
    "# Display the graph\n",
    "# plt.show()\n",
    "\n",
    "\n",
    "graph = from_networkx(G, pos, scale=1.8, center=(0,0))\n",
    "HOVER_TOOLTIPS = [(\"channel\",\"@channel\"),('views',\"@weight_o\")]\n",
    "# x_range=(-2, 2), y_range=(-2, 2),\n",
    "p = figure(\n",
    "           x_axis_location=None, y_axis_location=None,\n",
    "           tools=\"hover,box_zoom,pan,zoom_out,zoom_in,reset,save\", tooltips=HOVER_TOOLTIPS)\n",
    "\n",
    "p.grid.grid_line_color = None\n",
    "# Add some new columns to the node renderer data source\n",
    "# graph.node_renderer.data_source.data['index'] = list(range(len(G)))\n",
    "\n",
    "# #Set node size and color\n",
    "graph.node_renderer.glyph = Circle(size=\"weight\", fill_color='cadetblue')\n",
    "# # #Set edge opacity and width and color\n",
    "graph.edge_renderer.glyph = MultiLine(line_color=\"edge_color\",line_width=2,\n",
    "                                               line_alpha=1)\n",
    "\n",
    "# graph.node_renderer.glyph.update(size=20, fill_color=\"colors\")\n",
    "p.renderers.append(graph)\n",
    "show(p)\n"
   ]
  },
  {
   "cell_type": "code",
   "execution_count": 114,
   "metadata": {},
   "outputs": [],
   "source": [
    "df = load_data_csv('./data/Anais_methode2.txt')\n",
    "df.to_csv('Anais_methode2_2.csv',sep=';')"
   ]
  },
  {
   "cell_type": "markdown",
   "metadata": {},
   "source": [
    "### Methode 3"
   ]
  },
  {
   "cell_type": "code",
   "execution_count": 108,
   "metadata": {},
   "outputs": [
    {
     "name": "stdout",
     "output_type": "stream",
     "text": [
      "Anais\n",
      "Ella\n",
      "Camille\n",
      "Lou\n",
      "Bellon\n"
     ]
    },
    {
     "name": "stderr",
     "output_type": "stream",
     "text": [
      "C:\\Users\\mtlsa\\AppData\\Local\\Temp\\ipykernel_27788\\3576307916.py:25: SettingWithCopyWarning: \n",
      "A value is trying to be set on a copy of a slice from a DataFrame.\n",
      "Try using .loc[row_indexer,col_indexer] = value instead\n",
      "\n",
      "See the caveats in the documentation: https://pandas.pydata.org/pandas-docs/stable/user_guide/indexing.html#returning-a-view-versus-a-copy\n",
      "  df_network_perso['user'] = name\n",
      "C:\\Users\\mtlsa\\AppData\\Local\\Temp\\ipykernel_27788\\3576307916.py:25: SettingWithCopyWarning: \n",
      "A value is trying to be set on a copy of a slice from a DataFrame.\n",
      "Try using .loc[row_indexer,col_indexer] = value instead\n",
      "\n",
      "See the caveats in the documentation: https://pandas.pydata.org/pandas-docs/stable/user_guide/indexing.html#returning-a-view-versus-a-copy\n",
      "  df_network_perso['user'] = name\n",
      "C:\\Users\\mtlsa\\AppData\\Local\\Temp\\ipykernel_27788\\3576307916.py:21: SettingWithCopyWarning: \n",
      "A value is trying to be set on a copy of a slice from a DataFrame.\n",
      "Try using .loc[row_indexer,col_indexer] = value instead\n",
      "\n",
      "See the caveats in the documentation: https://pandas.pydata.org/pandas-docs/stable/user_guide/indexing.html#returning-a-view-versus-a-copy\n",
      "  df_video['channel_follow'] = list(df_video['channel'][1:]) + [pd.NA]\n",
      "C:\\Users\\mtlsa\\AppData\\Local\\Temp\\ipykernel_27788\\3576307916.py:23: SettingWithCopyWarning: \n",
      "A value is trying to be set on a copy of a slice from a DataFrame.\n",
      "Try using .loc[row_indexer,col_indexer] = value instead\n",
      "\n",
      "See the caveats in the documentation: https://pandas.pydata.org/pandas-docs/stable/user_guide/indexing.html#returning-a-view-versus-a-copy\n",
      "  df_video['weight'] = df_video['channel'].apply(lambda x: df_video[df_video['channel'] == x].shape[0])\n",
      "C:\\Users\\mtlsa\\AppData\\Local\\Temp\\ipykernel_27788\\3576307916.py:25: SettingWithCopyWarning: \n",
      "A value is trying to be set on a copy of a slice from a DataFrame.\n",
      "Try using .loc[row_indexer,col_indexer] = value instead\n",
      "\n",
      "See the caveats in the documentation: https://pandas.pydata.org/pandas-docs/stable/user_guide/indexing.html#returning-a-view-versus-a-copy\n",
      "  df_network_perso['user'] = name\n",
      "C:\\Users\\mtlsa\\AppData\\Local\\Temp\\ipykernel_27788\\3576307916.py:25: SettingWithCopyWarning: \n",
      "A value is trying to be set on a copy of a slice from a DataFrame.\n",
      "Try using .loc[row_indexer,col_indexer] = value instead\n",
      "\n",
      "See the caveats in the documentation: https://pandas.pydata.org/pandas-docs/stable/user_guide/indexing.html#returning-a-view-versus-a-copy\n",
      "  df_network_perso['user'] = name\n",
      "C:\\Users\\mtlsa\\AppData\\Local\\Temp\\ipykernel_27788\\3576307916.py:25: SettingWithCopyWarning: \n",
      "A value is trying to be set on a copy of a slice from a DataFrame.\n",
      "Try using .loc[row_indexer,col_indexer] = value instead\n",
      "\n",
      "See the caveats in the documentation: https://pandas.pydata.org/pandas-docs/stable/user_guide/indexing.html#returning-a-view-versus-a-copy\n",
      "  df_network_perso['user'] = name\n"
     ]
    },
    {
     "data": {
      "text/html": [
       "\n",
       "  <div id=\"d1640c0b-d8bd-44f0-a0bd-ec05baf97d7a\" data-root-id=\"p5746\" style=\"display: contents;\"></div>\n"
      ]
     },
     "metadata": {},
     "output_type": "display_data"
    },
    {
     "data": {
      "application/javascript": "(function(root) {\n  function embed_document(root) {\n  const docs_json = {\"8eedae5f-aa26-4bcc-a33b-abd57e91c6c7\":{\"version\":\"3.3.2\",\"title\":\"Bokeh Application\",\"roots\":[{\"type\":\"object\",\"name\":\"Figure\",\"id\":\"p5746\",\"attributes\":{\"x_range\":{\"type\":\"object\",\"name\":\"DataRange1d\",\"id\":\"p5747\"},\"y_range\":{\"type\":\"object\",\"name\":\"DataRange1d\",\"id\":\"p5748\"},\"x_scale\":{\"type\":\"object\",\"name\":\"LinearScale\",\"id\":\"p5755\"},\"y_scale\":{\"type\":\"object\",\"name\":\"LinearScale\",\"id\":\"p5756\"},\"title\":{\"type\":\"object\",\"name\":\"Title\",\"id\":\"p5753\"},\"renderers\":[{\"type\":\"object\",\"name\":\"GraphRenderer\",\"id\":\"p5728\",\"attributes\":{\"layout_provider\":{\"type\":\"object\",\"name\":\"StaticLayoutProvider\",\"id\":\"p5745\",\"attributes\":{\"graph_layout\":{\"type\":\"map\",\"entries\":[[9,{\"type\":\"ndarray\",\"array\":{\"type\":\"bytes\",\"data\":\"5Otq2blXmD/Z4S77+8W3Pw==\"},\"shape\":[2],\"dtype\":\"float64\",\"order\":\"little\"}],[3,{\"type\":\"ndarray\",\"array\":{\"type\":\"bytes\",\"data\":\"Gw8HWsBX0L9yJoVXRaezvw==\"},\"shape\":[2],\"dtype\":\"float64\",\"order\":\"little\"}],[1,{\"type\":\"ndarray\",\"array\":{\"type\":\"bytes\",\"data\":\"bSEvYEQy0r+tlc2hMQ4/vw==\"},\"shape\":[2],\"dtype\":\"float64\",\"order\":\"little\"}],[21,{\"type\":\"ndarray\",\"array\":{\"type\":\"bytes\",\"data\":\"8UT/eATN4r9rwvCYiS3VPw==\"},\"shape\":[2],\"dtype\":\"float64\",\"order\":\"little\"}],[4,{\"type\":\"ndarray\",\"array\":{\"type\":\"bytes\",\"data\":\"IrKrkbvR378pn4SQHLzbPw==\"},\"shape\":[2],\"dtype\":\"float64\",\"order\":\"little\"}],[22,{\"type\":\"ndarray\",\"array\":{\"type\":\"bytes\",\"data\":\"F6z8AjhX4r9OOIGKwDbmPw==\"},\"shape\":[2],\"dtype\":\"float64\",\"order\":\"little\"}],[11,{\"type\":\"ndarray\",\"array\":{\"type\":\"bytes\",\"data\":\"tVM2yQet47/MvNH8yTXrPw==\"},\"shape\":[2],\"dtype\":\"float64\",\"order\":\"little\"}],[5,{\"type\":\"ndarray\",\"array\":{\"type\":\"bytes\",\"data\":\"CEHl16rJ5r8AAAAAAADwPw==\"},\"shape\":[2],\"dtype\":\"float64\",\"order\":\"little\"}],[18,{\"type\":\"ndarray\",\"array\":{\"type\":\"bytes\",\"data\":\"gyG+wrPP2r8+ni0UyI+SPw==\"},\"shape\":[2],\"dtype\":\"float64\",\"order\":\"little\"}],[8,{\"type\":\"ndarray\",\"array\":{\"type\":\"bytes\",\"data\":\"pcAyFi/0kT++kBeGhWHVvw==\"},\"shape\":[2],\"dtype\":\"float64\",\"order\":\"little\"}],[24,{\"type\":\"ndarray\",\"array\":{\"type\":\"bytes\",\"data\":\"/eY225XHvr+6FqyWa9Tgvw==\"},\"shape\":[2],\"dtype\":\"float64\",\"order\":\"little\"}],[13,{\"type\":\"ndarray\",\"array\":{\"type\":\"bytes\",\"data\":\"d7bB6UeRz7/aUwFAwCnjvw==\"},\"shape\":[2],\"dtype\":\"float64\",\"order\":\"little\"}],[25,{\"type\":\"ndarray\",\"array\":{\"type\":\"bytes\",\"data\":\"SYZCtR57s7/QLp+xPQXnvw==\"},\"shape\":[2],\"dtype\":\"float64\",\"order\":\"little\"}],[6,{\"type\":\"ndarray\",\"array\":{\"type\":\"bytes\",\"data\":\"MrklYVV9vT+KgCHjoRPpvw==\"},\"shape\":[2],\"dtype\":\"float64\",\"order\":\"little\"}],[23,{\"type\":\"ndarray\",\"array\":{\"type\":\"bytes\",\"data\":\"YXXDd0sr2D9wlMShsvPpPw==\"},\"shape\":[2],\"dtype\":\"float64\",\"order\":\"little\"}],[0,{\"type\":\"ndarray\",\"array\":{\"type\":\"bytes\",\"data\":\"s9ihO1C83j+JJ8SMNffqPw==\"},\"shape\":[2],\"dtype\":\"float64\",\"order\":\"little\"}],[2,{\"type\":\"ndarray\",\"array\":{\"type\":\"bytes\",\"data\":\"goDN6hed4j/t9eRS/SbqPw==\"},\"shape\":[2],\"dtype\":\"float64\",\"order\":\"little\"}],[20,{\"type\":\"ndarray\",\"array\":{\"type\":\"bytes\",\"data\":\"d4Pp8otI3D8Q0NDz5xjoPw==\"},\"shape\":[2],\"dtype\":\"float64\",\"order\":\"little\"}],[7,{\"type\":\"ndarray\",\"array\":{\"type\":\"bytes\",\"data\":\"GSSrT4Ux1T9X1svnReDCvw==\"},\"shape\":[2],\"dtype\":\"float64\",\"order\":\"little\"}],[10,{\"type\":\"ndarray\",\"array\":{\"type\":\"bytes\",\"data\":\"/7UvtHt22z+ATfOWNKnLvw==\"},\"shape\":[2],\"dtype\":\"float64\",\"order\":\"little\"}],[14,{\"type\":\"ndarray\",\"array\":{\"type\":\"bytes\",\"data\":\"k4DO6FQO4j8aLMUmGJ7Tvw==\"},\"shape\":[2],\"dtype\":\"float64\",\"order\":\"little\"}],[15,{\"type\":\"ndarray\",\"array\":{\"type\":\"bytes\",\"data\":\"j4lv5pCz2T/UJkp0MyG7vw==\"},\"shape\":[2],\"dtype\":\"float64\",\"order\":\"little\"}],[19,{\"type\":\"ndarray\",\"array\":{\"type\":\"bytes\",\"data\":\"TOCXhmFE6T8VXnGHC9rgvw==\"},\"shape\":[2],\"dtype\":\"float64\",\"order\":\"little\"}],[17,{\"type\":\"ndarray\",\"array\":{\"type\":\"bytes\",\"data\":\"ZzCDUIUtw79uRx4R6LXgvw==\"},\"shape\":[2],\"dtype\":\"float64\",\"order\":\"little\"}],[12,{\"type\":\"ndarray\",\"array\":{\"type\":\"bytes\",\"data\":\"Iamvf3hKn7+tquRxo2Dqvw==\"},\"shape\":[2],\"dtype\":\"float64\",\"order\":\"little\"}],[16,{\"type\":\"ndarray\",\"array\":{\"type\":\"bytes\",\"data\":\"YATTuGzUij8yvKQFqJLuvw==\"},\"shape\":[2],\"dtype\":\"float64\",\"order\":\"little\"}]]}}},\"node_renderer\":{\"type\":\"object\",\"name\":\"GlyphRenderer\",\"id\":\"p5733\",\"attributes\":{\"data_source\":{\"type\":\"object\",\"name\":\"ColumnDataSource\",\"id\":\"p5730\",\"attributes\":{\"selected\":{\"type\":\"object\",\"name\":\"Selection\",\"id\":\"p5731\",\"attributes\":{\"indices\":[],\"line_indices\":[]}},\"selection_policy\":{\"type\":\"object\",\"name\":\"UnionRenderers\",\"id\":\"p5732\"},\"data\":{\"type\":\"map\",\"entries\":[[\"weight_o\",[6,1,8,1,1,1,1,2,1,1,1,1,1,null,7,4,1,1,4,4,5,1,1,1,3,4]],[\"weight\",[22.384631517416906,4.7113214262553385,27.725887222397812,4.7113214262553385,4.7113214262553385,4.7113214262553385,4.7113214262553385,8.92574205256839,4.7113214262553385,4.7113214262553385,4.7113214262553385,4.7113214262553385,4.7113214262553385,null,25.144346376894966,16.218604324326577,4.7113214262553385,4.7113214262553385,16.218604324326577,16.218604324326577,19.420312631268033,4.7113214262553385,4.7113214262553385,4.7113214262553385,12.738149244741383,16.218604324326577]],[\"channel\",[\"HugoD\\u00e9crypte - Actus du jour\",\"Brut\",\"ARTE\",\"Underscore_\",\"Chronik Fiction\",\"VA Plus\",\"Konbini\",\"Dr Nozman\",\"ScienceClic\",\"France Inter\",\"france tv\",\"Marion Mar\\u00e9chal\",\"franceinfo\",null,\"Veritasium\",\"3Blue1Brown\",\"Andrew's Campfire\",\"The Action Lab\",\"Everyday Astronaut\",\"Jared Owen\",\"NASA\",\"NASA STEM\",\"SpaceX\",\"OBONGJAYAR\",\"Little Simz\",\"NPR Music\"]],[\"user\",[\"Bellon\",\"Anais\",\"Ella\",\"Anais\",\"Anais\",\"Anais\",\"Anais\",\"Anais\",\"Ella\",\"Ella\",\"Ella\",\"Ella\",\"Ella\",null,\"Camille\",\"Camille\",\"Camille\",\"Camille\",\"Lou\",\"Lou\",\"Lou\",\"Lou\",\"Lou\",\"Bellon\",\"Bellon\",\"Bellon\"]],[\"index\",[9,3,1,21,4,22,11,5,18,8,24,13,25,6,23,0,2,20,7,10,14,15,19,17,12,16]]]}}},\"view\":{\"type\":\"object\",\"name\":\"CDSView\",\"id\":\"p5734\",\"attributes\":{\"filter\":{\"type\":\"object\",\"name\":\"AllIndices\",\"id\":\"p5735\"}}},\"glyph\":{\"type\":\"object\",\"name\":\"Circle\",\"id\":\"p5779\",\"attributes\":{\"size\":{\"type\":\"field\",\"field\":\"weight\"},\"fill_color\":{\"type\":\"value\",\"value\":\"cadetblue\"}}}}},\"edge_renderer\":{\"type\":\"object\",\"name\":\"GlyphRenderer\",\"id\":\"p5740\",\"attributes\":{\"data_source\":{\"type\":\"object\",\"name\":\"ColumnDataSource\",\"id\":\"p5737\",\"attributes\":{\"selected\":{\"type\":\"object\",\"name\":\"Selection\",\"id\":\"p5738\",\"attributes\":{\"indices\":[],\"line_indices\":[]}},\"selection_policy\":{\"type\":\"object\",\"name\":\"UnionRenderers\",\"id\":\"p5739\"},\"data\":{\"type\":\"map\",\"entries\":[[\"edge_color\",[\"skyblue\",\"sandybrown\",\"orchid\",\"orchid\",\"darkgreen\",\"lightgreen\",\"skyblue\",\"skyblue\",\"sandybrown\",\"sandybrown\",\"sandybrown\",\"sandybrown\",\"sandybrown\",\"sandybrown\",\"sandybrown\",\"skyblue\",\"skyblue\",\"skyblue\",\"skyblue\",\"skyblue\",\"skyblue\",\"sandybrown\",\"sandybrown\",\"sandybrown\",\"sandybrown\",\"sandybrown\",\"orchid\",\"orchid\",\"orchid\",\"orchid\",\"orchid\",\"orchid\",\"orchid\",\"orchid\",\"orchid\",\"orchid\",\"orchid\",\"orchid\",\"orchid\",\"darkgreen\",\"darkgreen\",\"darkgreen\",\"darkgreen\",\"darkgreen\",\"darkgreen\",\"darkgreen\",\"darkgreen\",\"darkgreen\",\"darkgreen\",\"darkgreen\",\"darkgreen\",\"darkgreen\",\"darkgreen\",\"darkgreen\",\"lightgreen\",\"lightgreen\",\"lightgreen\",\"lightgreen\",\"lightgreen\",\"lightgreen\",\"lightgreen\",\"lightgreen\"]],[\"user\",[\"Anais\",\"Ella\",\"Camille\",\"Camille\",\"Lou\",\"Bellon\",\"Anais\",\"Anais\",\"Ella\",\"Ella\",\"Ella\",\"Ella\",\"Ella\",\"Ella\",\"Ella\",\"Anais\",\"Anais\",\"Anais\",\"Anais\",\"Anais\",\"Anais\",\"Ella\",\"Ella\",\"Ella\",\"Ella\",\"Ella\",\"Camille\",\"Camille\",\"Camille\",\"Camille\",\"Camille\",\"Camille\",\"Camille\",\"Camille\",\"Camille\",\"Camille\",\"Camille\",\"Camille\",\"Camille\",\"Lou\",\"Lou\",\"Lou\",\"Lou\",\"Lou\",\"Lou\",\"Lou\",\"Lou\",\"Lou\",\"Lou\",\"Lou\",\"Lou\",\"Lou\",\"Lou\",\"Lou\",\"Bellon\",\"Bellon\",\"Bellon\",\"Bellon\",\"Bellon\",\"Bellon\",\"Bellon\",\"Bellon\"]],[\"weight\",[6,6,6,6,6,6,1,8,8,8,8,8,8,8,8,1,1,1,1,2,2,1,1,1,1,1,7,7,7,7,7,7,7,4,4,4,4,1,1,4,4,4,4,4,4,4,4,5,5,5,5,5,1,1,1,3,3,3,4,4,4,4]],[\"start\",[9,9,9,9,9,9,3,1,1,1,1,1,1,1,1,21,4,22,11,5,5,18,8,24,13,25,23,23,23,23,23,23,23,0,0,0,0,2,20,7,7,7,7,10,10,10,10,14,14,14,14,14,15,19,17,12,12,12,16,16,16,16]],[\"end\",[3,18,9,23,7,17,1,21,1,1,1,1,1,1,8,4,22,11,5,5,5,1,24,13,25,6,23,23,23,23,23,23,0,0,0,0,2,20,23,7,7,7,10,10,10,10,14,14,14,14,15,19,14,19,12,12,12,16,16,16,16,16]]]}}},\"view\":{\"type\":\"object\",\"name\":\"CDSView\",\"id\":\"p5741\",\"attributes\":{\"filter\":{\"type\":\"object\",\"name\":\"AllIndices\",\"id\":\"p5742\"}}},\"glyph\":{\"type\":\"object\",\"name\":\"MultiLine\",\"id\":\"p5780\",\"attributes\":{\"line_color\":{\"type\":\"field\",\"field\":\"edge_color\"},\"line_width\":{\"type\":\"value\",\"value\":2}}}}},\"selection_policy\":{\"type\":\"object\",\"name\":\"NodesOnly\",\"id\":\"p5743\"},\"inspection_policy\":{\"type\":\"object\",\"name\":\"NodesOnly\",\"id\":\"p5744\"}}}],\"toolbar\":{\"type\":\"object\",\"name\":\"Toolbar\",\"id\":\"p5754\",\"attributes\":{\"tools\":[{\"type\":\"object\",\"name\":\"HoverTool\",\"id\":\"p5767\",\"attributes\":{\"renderers\":\"auto\",\"tooltips\":[[\"channel\",\"@channel\"],[\"views\",\"@weight_o\"]]}},{\"type\":\"object\",\"name\":\"BoxZoomTool\",\"id\":\"p5768\",\"attributes\":{\"overlay\":{\"type\":\"object\",\"name\":\"BoxAnnotation\",\"id\":\"p5769\",\"attributes\":{\"syncable\":false,\"level\":\"overlay\",\"visible\":false,\"left\":{\"type\":\"number\",\"value\":\"nan\"},\"right\":{\"type\":\"number\",\"value\":\"nan\"},\"top\":{\"type\":\"number\",\"value\":\"nan\"},\"bottom\":{\"type\":\"number\",\"value\":\"nan\"},\"left_units\":\"canvas\",\"right_units\":\"canvas\",\"top_units\":\"canvas\",\"bottom_units\":\"canvas\",\"line_color\":\"black\",\"line_alpha\":1.0,\"line_width\":2,\"line_dash\":[4,4],\"fill_color\":\"lightgrey\",\"fill_alpha\":0.5}}}},{\"type\":\"object\",\"name\":\"PanTool\",\"id\":\"p5774\"},{\"type\":\"object\",\"name\":\"ZoomOutTool\",\"id\":\"p5775\",\"attributes\":{\"renderers\":\"auto\"}},{\"type\":\"object\",\"name\":\"ZoomInTool\",\"id\":\"p5776\",\"attributes\":{\"renderers\":\"auto\"}},{\"type\":\"object\",\"name\":\"ResetTool\",\"id\":\"p5777\"},{\"type\":\"object\",\"name\":\"SaveTool\",\"id\":\"p5778\"}]}},\"center\":[{\"type\":\"object\",\"name\":\"Grid\",\"id\":\"p5761\",\"attributes\":{\"axis\":{\"type\":\"object\",\"name\":\"LinearAxis\",\"id\":\"p5757\",\"attributes\":{\"ticker\":{\"type\":\"object\",\"name\":\"BasicTicker\",\"id\":\"p5758\",\"attributes\":{\"mantissas\":[1,2,5]}},\"formatter\":{\"type\":\"object\",\"name\":\"BasicTickFormatter\",\"id\":\"p5759\"},\"major_label_policy\":{\"type\":\"object\",\"name\":\"AllLabels\",\"id\":\"p5760\"}}},\"grid_line_color\":null}},{\"type\":\"object\",\"name\":\"Grid\",\"id\":\"p5766\",\"attributes\":{\"dimension\":1,\"axis\":{\"type\":\"object\",\"name\":\"LinearAxis\",\"id\":\"p5762\",\"attributes\":{\"ticker\":{\"type\":\"object\",\"name\":\"BasicTicker\",\"id\":\"p5763\",\"attributes\":{\"mantissas\":[1,2,5]}},\"formatter\":{\"type\":\"object\",\"name\":\"BasicTickFormatter\",\"id\":\"p5764\"},\"major_label_policy\":{\"type\":\"object\",\"name\":\"AllLabels\",\"id\":\"p5765\"}}},\"grid_line_color\":null}}]}}]}};\n  const render_items = [{\"docid\":\"8eedae5f-aa26-4bcc-a33b-abd57e91c6c7\",\"roots\":{\"p5746\":\"d1640c0b-d8bd-44f0-a0bd-ec05baf97d7a\"},\"root_ids\":[\"p5746\"]}];\n  root.Bokeh.embed.embed_items_notebook(docs_json, render_items);\n  }\n  if (root.Bokeh !== undefined) {\n    embed_document(root);\n  } else {\n    let attempts = 0;\n    const timer = setInterval(function(root) {\n      if (root.Bokeh !== undefined) {\n        clearInterval(timer);\n        embed_document(root);\n      } else {\n        attempts++;\n        if (attempts > 100) {\n          clearInterval(timer);\n          console.log(\"Bokeh: ERROR: Unable to run BokehJS code because BokehJS library is missing\");\n        }\n      }\n    }, 10, root)\n  }\n})(window);",
      "application/vnd.bokehjs_exec.v0+json": ""
     },
     "metadata": {
      "application/vnd.bokehjs_exec.v0+json": {
       "id": "p5746"
      }
     },
     "output_type": "display_data"
    }
   ],
   "source": [
    "\n",
    "name_list = {'Anais':{'color':'skyblue'},\n",
    "             'Ella':{'color':'sandybrown'}\n",
    "             ,'Camille':{'color':'orchid'}\n",
    "             ,'Lou':{'color':'darkgreen'}\n",
    "             ,'Bellon':{'color':'lightgreen'}}\n",
    "frames = []\n",
    "\n",
    "for name in list(name_list.keys()):\n",
    "    print(name)\n",
    "    path = f'./data/{name}_methode3.txt'\n",
    "    if os.path.exists(path):\n",
    "        #Load json\n",
    "        df = load_data_csv(path)\n",
    "    else:\n",
    "        path = f'./data/{name}_methode3.csv'\n",
    "        df = pd.read_csv(path,sep=';')\n",
    "        \n",
    "    # convert to network\n",
    "    # add weight + id channel + id follow + user\n",
    "    df_video = df[df['page_title'] == 'video']\n",
    "    df_video['channel_follow'] = list(df_video['channel'][1:]) + [pd.NA]\n",
    "    \n",
    "    df_video['weight'] = df_video['channel'].apply(lambda x: df_video[df_video['channel'] == x].shape[0])\n",
    "    df_network_perso = df_video[['channel','channel_follow','weight']]\n",
    "    df_network_perso['user'] = name\n",
    "\n",
    "    frames += [df_network_perso]\n",
    "df_network = pd.concat(frames,ignore_index=True)\n",
    "\n",
    "\n",
    "\n",
    "\n",
    "le = LabelEncoder()\n",
    "le.fit(df_network['channel'])\n",
    "df_network = df_network.dropna()\n",
    "df_network= df_network.drop(df_network.loc[df_network['channel']==''].index)\n",
    "\n",
    "df_network['index'] = list(df_network.index)\n",
    "df_network['channel_id'] = le.transform(df_network['channel'])\n",
    "df_network['channel_follow_id'] = le.transform(df_network['channel_follow'])\n",
    "df_network['weight'] = df_network['channel'].apply(lambda x: df_network[df_network['channel'] == x].shape[0])\n",
    "\n",
    "\n",
    "\n",
    "G = nx.from_pandas_edgelist(df_network,\"channel_id\",\"channel_follow_id\",['weight','user'],create_using=nx.MultiDiGraph)\n",
    "factor = 1/(max(df_network['weight']))\n",
    "\n",
    "attrs = {}\n",
    "for id,row in df_network.iterrows():\n",
    "    attrs[row['channel_id']] = {\"channel\": row['channel'], \"user\":row['user'],\"weight\":math.log(1 + row['weight']*factor)*40,\"weight_o\":row['weight']}\n",
    "# attrs = {0: {\"attr1\": 20, \"attr2\": \"nothing\"}, 1: {\"attr2\": 3}}\n",
    "nx.set_node_attributes(G, attrs)\n",
    "\n",
    "#Communitiesc\n",
    "# communities = community.greedy_modularity_communities(G)\n",
    "# # Create empty dictionaries\n",
    "# modularity_class = {}\n",
    "# modularity_color = {}\n",
    "# #Loop through each community in the network\n",
    "# for community_number, comm in enumerate(communities):\n",
    "#     #For each member of the community, add their community number and a distinct color\n",
    "#     for name in comm: \n",
    "#         modularity_class[name] = community_number\n",
    "#         modularity_color[name] = Spectral8[community_number]\n",
    "# nx.set_node_attributes(G, modularity_class, 'modularity_class')\n",
    "# nx.set_node_attributes(G, modularity_color, 'color')\n",
    "\n",
    "\n",
    "\n",
    "edge_attrs = {}\n",
    "for start_node, end_node, key, ch in G.edges(data=True,keys=True):\n",
    "    edge_color = name_list[ch['user']]['color'] \n",
    "    edge_attrs[(start_node, end_node,key)] = edge_color\n",
    "nx.set_edge_attributes(G, edge_attrs, \"edge_color\")\n",
    "\n",
    "edges = G.edges(keys=True)\n",
    "colors = [G[u][v][k]['edge_color'] for u,v,k in edges]\n",
    "weights = [G[u][v][k]['weight'] for u,v,k in edges]\n",
    "\n",
    "pos = nx.spring_layout(G,k=1/math.sqrt(len(G))*1.3) # Define the layout for node positioning\n",
    "# nx.draw(G, pos, with_labels=True, node_size=300, node_color='skyblue',edge_color=colors, font_size=10, font_color='black')\n",
    "# Display the graph\n",
    "# plt.show()\n",
    "\n",
    "\n",
    "graph = from_networkx(G, pos, scale=1.8, center=(0,0))\n",
    "HOVER_TOOLTIPS = [(\"channel\",\"@channel\"),('views',\"@weight_o\")]\n",
    "# x_range=(-2, 2), y_range=(-2, 2),\n",
    "p = figure(\n",
    "           x_axis_location=None, y_axis_location=None,\n",
    "           tools=\"hover,box_zoom,pan,zoom_out,zoom_in,reset,save\", tooltips=HOVER_TOOLTIPS)\n",
    "\n",
    "p.grid.grid_line_color = None\n",
    "# Add some new columns to the node renderer data source\n",
    "# graph.node_renderer.data_source.data['index'] = list(range(len(G)))\n",
    "\n",
    "# #Set node size and color\n",
    "graph.node_renderer.glyph = Circle(size=\"weight\", fill_color='cadetblue')\n",
    "# # #Set edge opacity and width and color\n",
    "graph.edge_renderer.glyph = MultiLine(line_color=\"edge_color\",line_width=2,\n",
    "                                               line_alpha=1)\n",
    "\n",
    "# graph.node_renderer.glyph.update(size=20, fill_color=\"colors\")\n",
    "p.renderers.append(graph)\n",
    "show(p)\n"
   ]
  },
  {
   "cell_type": "code",
   "execution_count": 106,
   "metadata": {},
   "outputs": [],
   "source": [
    "save_bokeh_graph(p,'methode3_graph_all')"
   ]
  },
  {
   "cell_type": "code",
   "execution_count": null,
   "metadata": {},
   "outputs": [],
   "source": []
  },
  {
   "cell_type": "markdown",
   "metadata": {},
   "source": [
    "### Recommendation"
   ]
  },
  {
   "cell_type": "code",
   "execution_count": 33,
   "metadata": {},
   "outputs": [],
   "source": [
    "def create_table_recommendation(df):\n",
    "    json_relation = {'source' :[],\n",
    "                     'target':[],\n",
    "                     'recommendation':[]}\n",
    "\n",
    "    # recommendation take 1 if it was a recommendation or 0 if it was the original navigation \n",
    "    for r in range(df.shape[0]-1):\n",
    "        \n",
    "        row = df.iloc[r]\n",
    "        if row['page_title'] == 'video':\n",
    "            row_newt = df.iloc[r+1]\n",
    "            try:\n",
    "                recommendation = row['recommendation']\n",
    "                recommendation_list = [recommendation[str(i)]['channel'] for i in range(0,10)]\n",
    "                json_relation['source'] += [row['channel']]*(len(recommendation_list)+1)\n",
    "                json_relation['target'] += recommendation_list + [row_newt['channel']]\n",
    "                json_relation['recommendation'] += list(np.ones_like(recommendation_list) )\n",
    "                json_relation['recommendation'] += [0]\n",
    "            except Exception as e:\n",
    "                print(row)\n",
    "    df = pd.DataFrame(json_relation)\n",
    "    df = df.drop(df.loc[df['target']==''].index)\n",
    "    df['weight'] = df['target'].apply(lambda x: df.loc[df['target']==x].shape[0]/df.shape[0])\n",
    "    return df\n",
    "\n",
    "        \n",
    "\n",
    "\n",
    "    \n",
    "    "
   ]
  },
  {
   "cell_type": "code",
   "execution_count": 38,
   "metadata": {},
   "outputs": [],
   "source": [
    "def plot_recommendation(df_relation):\n",
    "    # display le nombre de target unique a partir d'une video\n",
    "\n",
    "\n",
    "\n",
    "    le = LabelEncoder()\n",
    "    le.fit(list(df_relation['source']) + list(df_relation['target']))\n",
    "    df_relation = df_relation.dropna()\n",
    "    df_relation['index'] = list(df_relation.index)\n",
    "    df_relation['source_id'] = le.transform(df_relation['source'])\n",
    "    df_relation['target_id'] = le.transform(df_relation['target'])\n",
    "    # df_relation['weight'] = df_relation['channel'].apply(lambda x: df_network[df_network['channel'] == x].shape[0])\n",
    "\n",
    "\n",
    "    G_rel = nx.from_pandas_edgelist(df_relation,\"source_id\",\"target_id\",\"recommendation\",create_using=nx.MultiDiGraph)\n",
    "    # factor = 1/(max(df_network['weight']))\n",
    "\n",
    "\n",
    "\n",
    "\n",
    "    attrs = {}\n",
    "    attrs1 = {}\n",
    "    for node_id,node in G_rel.nodes(data=True):\n",
    "        attrs[node_id] = {'weight': df_relation.loc[df_relation['target_id']==node_id].iloc[0]['weight']*400,\n",
    "                        'channel':df_relation.loc[df_relation['target_id']==node_id].iloc[0]['target'],\n",
    "                        'percent':df_relation.loc[df_relation['target_id']==node_id].iloc[0]['weight']*100,\n",
    "                        'nb_reco_unique':df_relation.loc[df_relation['target_id']==node_id].shape[0]}\n",
    "    # for id,row in df_relation.iterrows():\n",
    "    #     attrs[row['target_id']] = {\"channel\": row['target'], \"weight\":math.log(1 + row['weight']*factor)*40,\"weight_o\":row['weight']}\n",
    "    # # attrs = {0: {\"attr1\": 20, \"attr2\": \"nothing\"}, 1: {\"attr2\": 3}}\n",
    "    nx.set_node_attributes(G_rel, attrs)\n",
    "    # nx.set_node_attributes(G_rel, attrs,'weight')\n",
    "    # nx.set_node_attributes(G_rel, name='degree', values=degrees)\n",
    "\n",
    "\n",
    "\n",
    "    COLOR_recom = 'tan' #'skyblue'\n",
    "    COLOR_nav = 'gainsboro' #'sandybrown'\n",
    "\n",
    "    edge_attrs = {}\n",
    "    edge_attrs2 = {}\n",
    "    edge_attrs3 = {}\n",
    "    size1,size2 = 2,1\n",
    "\n",
    "    for start_node, end_node, key, ch in G_rel.edges(data=True,keys=True):\n",
    "        edge_color = COLOR_recom if ch['recommendation'] == 0 else COLOR_nav\n",
    "        edge_attrs[(start_node, end_node,key)] = edge_color\n",
    "        edge_attrs2[(start_node, end_node,key)] = size1 if ch['recommendation'] == 0 else size2\n",
    "        edge_attrs3[(start_node, end_node,key)] = 1 if ch['recommendation'] == 0 else 0.7\n",
    "\n",
    "    nx.set_edge_attributes(G_rel, edge_attrs, \"edge_color\")\n",
    "    nx.set_edge_attributes(G_rel, edge_attrs2, \"weight\")\n",
    "    nx.set_edge_attributes(G_rel, edge_attrs3, \"alpha\")\n",
    "\n",
    "\n",
    "\n",
    "\n",
    "    #Communitiesc\n",
    "    communities = community.greedy_modularity_communities(G_rel)\n",
    "    # Create empty dictionaries\n",
    "    modularity_class = {}\n",
    "    modularity_color = {}\n",
    "    #Loop through each community in the network\n",
    "    for community_number, comm in enumerate(communities):\n",
    "        #For each member of the community, add their community number and a distinct color\n",
    "        for name in comm: \n",
    "            modularity_class[name] = community_number\n",
    "            modularity_color[name] = Spectral8[community_number]\n",
    "    nx.set_node_attributes(G_rel, modularity_class, 'modularity_class')\n",
    "    nx.set_node_attributes(G_rel, modularity_color, 'color')\n",
    "\n",
    "\n",
    "    # degrees = dict(nx.degree(G_rel))\n",
    "\n",
    "\n",
    "\n",
    "    pos = nx.spring_layout(G_rel,k=1/math.sqrt(len(G_rel))*1.3) # Define the layout for node positioning\n",
    "    graph = from_networkx(G_rel, pos, scale=1.8, center=(0,0))\n",
    "\n",
    "\n",
    "\n",
    "\n",
    "    HOVER_TOOLTIPS = [('channel','@channel'),('percent','@percent'),\n",
    "                    (\"Modularity Class\", \"@modularity_class\"),\n",
    "                    (\"Uniq rec\", \"@nb_reco_unique\")]\n",
    "    # x_range=(-2, 2), y_range=(-2, 2),\n",
    "    # (\"channel\",\"@source\")\n",
    "    p = figure(\n",
    "            x_axis_location=None, y_axis_location=None,\n",
    "            tools=\"hover,box_zoom,pan,zoom_out,zoom_in,reset,save, tap\", tooltips=HOVER_TOOLTIPS)\n",
    "\n",
    "    p.grid.grid_line_color = None\n",
    "    # Add some new columns to the node renderer data source\n",
    "    # graph.node_renderer.data_source.data['index'] = list(range(len(G)))\n",
    "    edge_highlight_color = 'darkslategrey'\n",
    "    # #Set node size and color\n",
    "    graph.node_renderer.glyph = Circle(fill_color='color',size='weight')\n",
    "    graph.node_renderer.hover_glyph = Circle(size='weight', fill_color=edge_highlight_color, line_width=2)\n",
    "\n",
    "    # # #Set edge opacity and width and color\n",
    "    graph.edge_renderer.glyph = MultiLine(line_color=\"edge_color\",line_width=\"weight\",\n",
    "                                                line_alpha=\"alpha\")\n",
    "    graph.edge_renderer.hover_glyph = MultiLine(line_color=edge_highlight_color, line_width=\"weight\")\n",
    "\n",
    "    #Highlight nodes and edges\n",
    "    graph.selection_policy = NodesAndLinkedEdges()\n",
    "    graph.inspection_policy = NodesAndLinkedEdges()\n",
    "\n",
    "\n",
    "    #Add Labels\n",
    "    x, y = zip(*graph.layout_provider.graph_layout.values())\n",
    "    node_labels = [df_relation.loc[df_relation['target_id']==x].iloc[0]['target'] if ch['nb_reco_unique'] >2 else '' for x,ch in list(G_rel.nodes(data=True)) ]\n",
    "    source = ColumnDataSource({'x': x, 'y': y, 'name': [node_labels[i] for i in range(len(x))]})\n",
    "    labels = LabelSet(x='x', y='y', text='name', source=source, background_fill_color='white', text_font_size='10px', background_fill_alpha=.7)\n",
    "    p.renderers.append(labels)\n",
    "\n",
    "    # graph.node_renderer.glyph.update(size=20, fill_color=\"colors\")\n",
    "    p.renderers.append(graph)\n",
    "\n",
    "    show(p)\n",
    "    return p\n",
    "\n",
    "#REMARQUE: cyprien: meme pourcentage que Jamy curieux 3.4 mais plus de degree (30 vs 8)"
   ]
  },
  {
   "cell_type": "code",
   "execution_count": 61,
   "metadata": {},
   "outputs": [],
   "source": [
    "df_recom_all = load_data_csv('./data/Anais_methode2_2.txt')\n"
   ]
  },
  {
   "cell_type": "code",
   "execution_count": 68,
   "metadata": {},
   "outputs": [
    {
     "data": {
      "text/plain": [
       "{'0': {'channel': 'North of the Border',\n",
       "  'title': 'I made a majestic (reverse) centaur'},\n",
       " '1': {'channel': 'Dans Ton Corps',\n",
       "  'title': 'LES CONSEILS SANTÉ À NE SURTOUT PAS SUIVRE 2'},\n",
       " '2': {'channel': 'Lumni',\n",
       "  'title': \"Ingénieur cybersécurité en alternance | L'Alternance, t'y penses ? | Lumni\"},\n",
       " '3': {'channel': 'Jenny Tian',\n",
       "  'title': 'How I lost my home language | from Picture This comedy special'},\n",
       " '4': {'channel': 'Le Figaro',\n",
       "  'title': \"Pourquoi la nouvelle génération a-t-elle peur de l'avenir ?\"},\n",
       " '5': {'channel': 'Alpay Efe',\n",
       "  'title': 'I tried painting with the LEGENDARY Anime Paints (what a surprise)'},\n",
       " '6': {'channel': \"L'Effet Papillon\",\n",
       "  'title': \"120.000.000 d'obèses en Chine, le gouvernement s'en mêle !\"},\n",
       " '7': {'channel': 'Louis-San',\n",
       "  'title': 'Les Japonais(es) et les sous-vêtements'},\n",
       " '8': {'channel': '',\n",
       "  'title': 'Before Islam and After Islam 😍 | Alhamdulillah | Love Hijab | Beautiful Islam 🥰 #viral #newmuslim'},\n",
       " '9': {'channel': '',\n",
       "  'title': 'HOW I HAVE ABS 24/7? #gymgirl #abs #workouttips'}}"
      ]
     },
     "execution_count": 68,
     "metadata": {},
     "output_type": "execute_result"
    }
   ],
   "source": [
    "df_recom_all.iloc[46].recommendation"
   ]
  },
  {
   "cell_type": "code",
   "execution_count": 65,
   "metadata": {},
   "outputs": [
    {
     "data": {
      "text/plain": [
       "{'0': {'channel': 'North of the Border',\n",
       "  'title': 'I made a majestic (reverse) centaur'},\n",
       " '1': {'channel': 'Dans Ton Corps',\n",
       "  'title': 'LES CONSEILS SANTÉ À NE SURTOUT PAS SUIVRE 2'},\n",
       " '2': {'channel': 'Lumni',\n",
       "  'title': \"Ingénieur cybersécurité en alternance | L'Alternance, t'y penses ? | Lumni\"},\n",
       " '3': {'channel': 'Jenny Tian',\n",
       "  'title': 'How I lost my home language | from Picture This comedy special'},\n",
       " '4': {'channel': 'Le Figaro',\n",
       "  'title': \"Pourquoi la nouvelle génération a-t-elle peur de l'avenir ?\"},\n",
       " '5': {'channel': 'Alpay Efe',\n",
       "  'title': 'I tried painting with the LEGENDARY Anime Paints (what a surprise)'},\n",
       " '6': {'channel': \"L'Effet Papillon\",\n",
       "  'title': \"120.000.000 d'obèses en Chine, le gouvernement s'en mêle !\"},\n",
       " '7': {'channel': 'Louis-San',\n",
       "  'title': 'Les Japonais(es) et les sous-vêtements'},\n",
       " '8': {'channel': '',\n",
       "  'title': 'Before Islam and After Islam 😍 | Alhamdulillah | Love Hijab | Beautiful Islam 🥰 #viral #newmuslim'},\n",
       " '9': {'channel': '',\n",
       "  'title': 'HOW I HAVE ABS 24/7? #gymgirl #abs #workouttips'}}"
      ]
     },
     "execution_count": 65,
     "metadata": {},
     "output_type": "execute_result"
    }
   ],
   "source": [
    "df_recom_all.iloc[50].recommendation"
   ]
  },
  {
   "cell_type": "code",
   "execution_count": 60,
   "metadata": {},
   "outputs": [
    {
     "ename": "IndexError",
     "evalue": "single positional indexer is out-of-bounds",
     "output_type": "error",
     "traceback": [
      "\u001b[1;31m---------------------------------------------------------------------------\u001b[0m",
      "\u001b[1;31mIndexError\u001b[0m                                Traceback (most recent call last)",
      "Cell \u001b[1;32mIn[60], line 4\u001b[0m\n\u001b[0;32m      2\u001b[0m df_relation_recom \u001b[38;5;241m=\u001b[39m create_table_recommendation(df_recom_all[\u001b[38;5;241m-\u001b[39m\u001b[38;5;241m3\u001b[39m:])\n\u001b[0;32m      3\u001b[0m analaaa\u001b[38;5;241m=\u001b[39mdf_relation_recom\n\u001b[1;32m----> 4\u001b[0m p \u001b[38;5;241m=\u001b[39m \u001b[43mplot_recommendation\u001b[49m\u001b[43m(\u001b[49m\u001b[43mdf_relation_recom\u001b[49m\u001b[43m)\u001b[49m\n",
      "Cell \u001b[1;32mIn[38], line 24\u001b[0m, in \u001b[0;36mplot_recommendation\u001b[1;34m(df_relation)\u001b[0m\n\u001b[0;32m     22\u001b[0m attrs1 \u001b[38;5;241m=\u001b[39m {}\n\u001b[0;32m     23\u001b[0m \u001b[38;5;28;01mfor\u001b[39;00m node_id,node \u001b[38;5;129;01min\u001b[39;00m G_rel\u001b[38;5;241m.\u001b[39mnodes(data\u001b[38;5;241m=\u001b[39m\u001b[38;5;28;01mTrue\u001b[39;00m):\n\u001b[1;32m---> 24\u001b[0m     attrs[node_id] \u001b[38;5;241m=\u001b[39m {\u001b[38;5;124m'\u001b[39m\u001b[38;5;124mweight\u001b[39m\u001b[38;5;124m'\u001b[39m: \u001b[43mdf_relation\u001b[49m\u001b[38;5;241;43m.\u001b[39;49m\u001b[43mloc\u001b[49m\u001b[43m[\u001b[49m\u001b[43mdf_relation\u001b[49m\u001b[43m[\u001b[49m\u001b[38;5;124;43m'\u001b[39;49m\u001b[38;5;124;43mtarget_id\u001b[39;49m\u001b[38;5;124;43m'\u001b[39;49m\u001b[43m]\u001b[49m\u001b[38;5;241;43m==\u001b[39;49m\u001b[43mnode_id\u001b[49m\u001b[43m]\u001b[49m\u001b[38;5;241;43m.\u001b[39;49m\u001b[43miloc\u001b[49m\u001b[43m[\u001b[49m\u001b[38;5;241;43m0\u001b[39;49m\u001b[43m]\u001b[49m[\u001b[38;5;124m'\u001b[39m\u001b[38;5;124mweight\u001b[39m\u001b[38;5;124m'\u001b[39m]\u001b[38;5;241m*\u001b[39m\u001b[38;5;241m400\u001b[39m,\n\u001b[0;32m     25\u001b[0m                     \u001b[38;5;124m'\u001b[39m\u001b[38;5;124mchannel\u001b[39m\u001b[38;5;124m'\u001b[39m:df_relation\u001b[38;5;241m.\u001b[39mloc[df_relation[\u001b[38;5;124m'\u001b[39m\u001b[38;5;124mtarget_id\u001b[39m\u001b[38;5;124m'\u001b[39m]\u001b[38;5;241m==\u001b[39mnode_id]\u001b[38;5;241m.\u001b[39miloc[\u001b[38;5;241m0\u001b[39m][\u001b[38;5;124m'\u001b[39m\u001b[38;5;124mtarget\u001b[39m\u001b[38;5;124m'\u001b[39m],\n\u001b[0;32m     26\u001b[0m                     \u001b[38;5;124m'\u001b[39m\u001b[38;5;124mpercent\u001b[39m\u001b[38;5;124m'\u001b[39m:df_relation\u001b[38;5;241m.\u001b[39mloc[df_relation[\u001b[38;5;124m'\u001b[39m\u001b[38;5;124mtarget_id\u001b[39m\u001b[38;5;124m'\u001b[39m]\u001b[38;5;241m==\u001b[39mnode_id]\u001b[38;5;241m.\u001b[39miloc[\u001b[38;5;241m0\u001b[39m][\u001b[38;5;124m'\u001b[39m\u001b[38;5;124mweight\u001b[39m\u001b[38;5;124m'\u001b[39m]\u001b[38;5;241m*\u001b[39m\u001b[38;5;241m100\u001b[39m,\n\u001b[0;32m     27\u001b[0m                     \u001b[38;5;124m'\u001b[39m\u001b[38;5;124mnb_reco_unique\u001b[39m\u001b[38;5;124m'\u001b[39m:df_relation\u001b[38;5;241m.\u001b[39mloc[df_relation[\u001b[38;5;124m'\u001b[39m\u001b[38;5;124mtarget_id\u001b[39m\u001b[38;5;124m'\u001b[39m]\u001b[38;5;241m==\u001b[39mnode_id]\u001b[38;5;241m.\u001b[39mshape[\u001b[38;5;241m0\u001b[39m]}\n\u001b[0;32m     28\u001b[0m \u001b[38;5;66;03m# for id,row in df_relation.iterrows():\u001b[39;00m\n\u001b[0;32m     29\u001b[0m \u001b[38;5;66;03m#     attrs[row['target_id']] = {\"channel\": row['target'], \"weight\":math.log(1 + row['weight']*factor)*40,\"weight_o\":row['weight']}\u001b[39;00m\n\u001b[0;32m     30\u001b[0m \u001b[38;5;66;03m# # attrs = {0: {\"attr1\": 20, \"attr2\": \"nothing\"}, 1: {\"attr2\": 3}}\u001b[39;00m\n\u001b[0;32m     31\u001b[0m nx\u001b[38;5;241m.\u001b[39mset_node_attributes(G_rel, attrs)\n",
      "File \u001b[1;32mc:\\Users\\mtlsa\\anaconda3\\envs\\IC05\\Lib\\site-packages\\pandas\\core\\indexing.py:1103\u001b[0m, in \u001b[0;36m_LocationIndexer.__getitem__\u001b[1;34m(self, key)\u001b[0m\n\u001b[0;32m   1100\u001b[0m axis \u001b[38;5;241m=\u001b[39m \u001b[38;5;28mself\u001b[39m\u001b[38;5;241m.\u001b[39maxis \u001b[38;5;129;01mor\u001b[39;00m \u001b[38;5;241m0\u001b[39m\n\u001b[0;32m   1102\u001b[0m maybe_callable \u001b[38;5;241m=\u001b[39m com\u001b[38;5;241m.\u001b[39mapply_if_callable(key, \u001b[38;5;28mself\u001b[39m\u001b[38;5;241m.\u001b[39mobj)\n\u001b[1;32m-> 1103\u001b[0m \u001b[38;5;28;01mreturn\u001b[39;00m \u001b[38;5;28;43mself\u001b[39;49m\u001b[38;5;241;43m.\u001b[39;49m\u001b[43m_getitem_axis\u001b[49m\u001b[43m(\u001b[49m\u001b[43mmaybe_callable\u001b[49m\u001b[43m,\u001b[49m\u001b[43m \u001b[49m\u001b[43maxis\u001b[49m\u001b[38;5;241;43m=\u001b[39;49m\u001b[43maxis\u001b[49m\u001b[43m)\u001b[49m\n",
      "File \u001b[1;32mc:\\Users\\mtlsa\\anaconda3\\envs\\IC05\\Lib\\site-packages\\pandas\\core\\indexing.py:1656\u001b[0m, in \u001b[0;36m_iLocIndexer._getitem_axis\u001b[1;34m(self, key, axis)\u001b[0m\n\u001b[0;32m   1653\u001b[0m     \u001b[38;5;28;01mraise\u001b[39;00m \u001b[38;5;167;01mTypeError\u001b[39;00m(\u001b[38;5;124m\"\u001b[39m\u001b[38;5;124mCannot index by location index with a non-integer key\u001b[39m\u001b[38;5;124m\"\u001b[39m)\n\u001b[0;32m   1655\u001b[0m \u001b[38;5;66;03m# validate the location\u001b[39;00m\n\u001b[1;32m-> 1656\u001b[0m \u001b[38;5;28;43mself\u001b[39;49m\u001b[38;5;241;43m.\u001b[39;49m\u001b[43m_validate_integer\u001b[49m\u001b[43m(\u001b[49m\u001b[43mkey\u001b[49m\u001b[43m,\u001b[49m\u001b[43m \u001b[49m\u001b[43maxis\u001b[49m\u001b[43m)\u001b[49m\n\u001b[0;32m   1658\u001b[0m \u001b[38;5;28;01mreturn\u001b[39;00m \u001b[38;5;28mself\u001b[39m\u001b[38;5;241m.\u001b[39mobj\u001b[38;5;241m.\u001b[39m_ixs(key, axis\u001b[38;5;241m=\u001b[39maxis)\n",
      "File \u001b[1;32mc:\\Users\\mtlsa\\anaconda3\\envs\\IC05\\Lib\\site-packages\\pandas\\core\\indexing.py:1589\u001b[0m, in \u001b[0;36m_iLocIndexer._validate_integer\u001b[1;34m(self, key, axis)\u001b[0m\n\u001b[0;32m   1587\u001b[0m len_axis \u001b[38;5;241m=\u001b[39m \u001b[38;5;28mlen\u001b[39m(\u001b[38;5;28mself\u001b[39m\u001b[38;5;241m.\u001b[39mobj\u001b[38;5;241m.\u001b[39m_get_axis(axis))\n\u001b[0;32m   1588\u001b[0m \u001b[38;5;28;01mif\u001b[39;00m key \u001b[38;5;241m>\u001b[39m\u001b[38;5;241m=\u001b[39m len_axis \u001b[38;5;129;01mor\u001b[39;00m key \u001b[38;5;241m<\u001b[39m \u001b[38;5;241m-\u001b[39mlen_axis:\n\u001b[1;32m-> 1589\u001b[0m     \u001b[38;5;28;01mraise\u001b[39;00m \u001b[38;5;167;01mIndexError\u001b[39;00m(\u001b[38;5;124m\"\u001b[39m\u001b[38;5;124msingle positional indexer is out-of-bounds\u001b[39m\u001b[38;5;124m\"\u001b[39m)\n",
      "\u001b[1;31mIndexError\u001b[0m: single positional indexer is out-of-bounds"
     ]
    }
   ],
   "source": [
    "df_relation_recom = create_table_recommendation(df_recom_all[-3:])\n",
    "analaaa=df_relation_recom\n",
    "p = plot_recommendation(df_relation_recom)"
   ]
  },
  {
   "cell_type": "code",
   "execution_count": 40,
   "metadata": {},
   "outputs": [],
   "source": []
  },
  {
   "cell_type": "code",
   "execution_count": 45,
   "metadata": {},
   "outputs": [
    {
     "data": {
      "text/html": [
       "\n",
       "  <div id=\"a4dfc20a-231e-4403-b037-8fcf122470a1\" data-root-id=\"p2411\" style=\"display: contents;\"></div>\n"
      ]
     },
     "metadata": {},
     "output_type": "display_data"
    },
    {
     "data": {
      "application/javascript": "(function(root) {\n  function embed_document(root) {\n  const docs_json = {\"f6b05203-192e-4e3d-ab8a-bdbb2ce36502\":{\"version\":\"3.3.2\",\"title\":\"Bokeh Application\",\"roots\":[{\"type\":\"object\",\"name\":\"Figure\",\"id\":\"p2411\",\"attributes\":{\"x_range\":{\"type\":\"object\",\"name\":\"DataRange1d\",\"id\":\"p2412\"},\"y_range\":{\"type\":\"object\",\"name\":\"DataRange1d\",\"id\":\"p2413\"},\"x_scale\":{\"type\":\"object\",\"name\":\"LinearScale\",\"id\":\"p2420\"},\"y_scale\":{\"type\":\"object\",\"name\":\"LinearScale\",\"id\":\"p2421\"},\"title\":{\"type\":\"object\",\"name\":\"Title\",\"id\":\"p2418\"},\"renderers\":[{\"type\":\"object\",\"name\":\"LabelSet\",\"id\":\"p2454\",\"attributes\":{\"source\":{\"type\":\"object\",\"name\":\"ColumnDataSource\",\"id\":\"p2451\",\"attributes\":{\"selected\":{\"type\":\"object\",\"name\":\"Selection\",\"id\":\"p2452\",\"attributes\":{\"indices\":[],\"line_indices\":[]}},\"selection_policy\":{\"type\":\"object\",\"name\":\"UnionRenderers\",\"id\":\"p2453\"},\"data\":{\"type\":\"map\",\"entries\":[[\"x\",[-0.32491465628236516,0.1474538920218571,-0.9888424700442245,-0.09383631876891546,0.11642522652476796,-0.7222988681000382,-0.7854389792722175,0.2899502410573124,-0.5941734548570454,0.10630806052952184,0.9985754440995992,-0.5314868255115449,0.9928060978244017,0.13492773063034993,0.8424362181534275,0.22704738069961794,-0.2712614391713836,-0.8577200743998672,-0.13614748721007194,0.7665496701633306,0.922913712251916,-0.9550163818007408,-0.363592116063579,0.9773293062574504,-0.025190800570193687,0.6607867560617238,0.31312168362420967,0.3606056144765316,-0.8244896515154707,-0.5427854834156228,0.5551105189994486,-0.9295848551384377,0.5344323087462529]],[\"y\",[0.13077986634970767,0.3290695938421822,0.10458494938332995,0.8297678239897835,0.9018956726941332,-0.7942953956162946,0.5651140202780693,-0.06904398102204978,0.6140401213331772,0.16893939704588332,0.31363743209083866,0.8265720797579825,-0.19758678246399758,-1.0,0.4890001161252143,-0.209084608223427,0.8782146197381822,-0.06480735526448825,-0.9410586055052732,-0.6569869562580904,-0.4465764425940438,-0.2600863378834502,-0.9977147999086654,0.05176446143737301,-0.2538651476071528,0.7435862524885368,-0.83401266918093,0.8674847964137872,-0.49543509096533594,-0.7439899404069413,-0.8167855558419981,0.36537433918534645,0.6015041265886089]],[\"name\",[\"ARTE\",\"Le Monde\",\"\",\"\",\"28 minutes - ARTE\",\"\",\"\",\"FRANCE 24\",\"\",\"euronews (en fran\\u00e7ais)\",\"\",\"Les Echos\",\"Le Parisien\",\"L'Obs\",\"BFMTV\",\"LeHuffPost\",\"\",\"\",\"TF1 INFO\",\"\",\"\",\"\",\"\",\"\",\"Europe 1\",\"\",\"\",\"\",\"\",\"\",\"\",\"\",\"\"]]]}}},\"x\":{\"type\":\"field\",\"field\":\"x\"},\"y\":{\"type\":\"field\",\"field\":\"y\"},\"text\":{\"type\":\"field\",\"field\":\"name\"},\"text_font_size\":{\"type\":\"value\",\"value\":\"10px\"},\"background_fill_color\":{\"type\":\"value\",\"value\":\"white\"},\"background_fill_alpha\":{\"type\":\"value\",\"value\":0.7}}},{\"type\":\"object\",\"name\":\"GraphRenderer\",\"id\":\"p2393\",\"attributes\":{\"layout_provider\":{\"type\":\"object\",\"name\":\"StaticLayoutProvider\",\"id\":\"p2410\",\"attributes\":{\"graph_layout\":{\"type\":\"map\",\"entries\":[[4,{\"type\":\"ndarray\",\"array\":{\"type\":\"bytes\",\"data\":\"YlOu12bL1L9WP3kIZb3APw==\"},\"shape\":[2],\"dtype\":\"float64\",\"order\":\"little\"}],[18,{\"type\":\"ndarray\",\"array\":{\"type\":\"bytes\",\"data\":\"6G3z5cTfwj9RQOrpeQ/VPw==\"},\"shape\":[2],\"dtype\":\"float64\",\"order\":\"little\"}],[23,{\"type\":\"ndarray\",\"array\":{\"type\":\"bytes\",\"data\":\"tYu39pik77/vVUFJFMa6Pw==\"},\"shape\":[2],\"dtype\":\"float64\",\"order\":\"little\"}],[12,{\"type\":\"ndarray\",\"array\":{\"type\":\"bytes\",\"data\":\"LB5KMKgFuL8B5WlAdY3qPw==\"},\"shape\":[2],\"dtype\":\"float64\",\"order\":\"little\"}],[1,{\"type\":\"ndarray\",\"array\":{\"type\":\"bytes\",\"data\":\"6W9aLAvOvT/SAVRQVNzsPw==\"},\"shape\":[2],\"dtype\":\"float64\",\"order\":\"little\"}],[17,{\"type\":\"ndarray\",\"array\":{\"type\":\"bytes\",\"data\":\"7q0NhBId57+6IXEt3mrpvw==\"},\"shape\":[2],\"dtype\":\"float64\",\"order\":\"little\"}],[29,{\"type\":\"ndarray\",\"array\":{\"type\":\"bytes\",\"data\":\"G0of7VAi6b9YX3P/aRXiPw==\"},\"shape\":[2],\"dtype\":\"float64\",\"order\":\"little\"}],[8,{\"type\":\"ndarray\",\"array\":{\"type\":\"bytes\",\"data\":\"Br6zdIuO0j9wsHnI3ayxvw==\"},\"shape\":[2],\"dtype\":\"float64\",\"order\":\"little\"}],[16,{\"type\":\"ndarray\",\"array\":{\"type\":\"bytes\",\"data\":\"HGWYDHgD478O2vF3N6bjPw==\"},\"shape\":[2],\"dtype\":\"float64\",\"order\":\"little\"}],[30,{\"type\":\"ndarray\",\"array\":{\"type\":\"bytes\",\"data\":\"K4ZGSwE3uz8jtahgzp/FPw==\"},\"shape\":[2],\"dtype\":\"float64\",\"order\":\"little\"}],[0,{\"type\":\"ndarray\",\"array\":{\"type\":\"bytes\",\"data\":\"9eJffVT07z+xa2i8ohLUPw==\"},\"shape\":[2],\"dtype\":\"float64\",\"order\":\"little\"}],[22,{\"type\":\"ndarray\",\"array\":{\"type\":\"bytes\",\"data\":\"U3a6qPAB4b+UHEtKR3PqPw==\"},\"shape\":[2],\"dtype\":\"float64\",\"order\":\"little\"}],[19,{\"type\":\"ndarray\",\"array\":{\"type\":\"bytes\",\"data\":\"F5stSxHF7z+WAWcQhkrJvw==\"},\"shape\":[2],\"dtype\":\"float64\",\"order\":\"little\"}],[13,{\"type\":\"ndarray\",\"array\":{\"type\":\"bytes\",\"data\":\"tb8w109FwT8AAAAAAADwvw==\"},\"shape\":[2],\"dtype\":\"float64\",\"order\":\"little\"}],[5,{\"type\":\"ndarray\",\"array\":{\"type\":\"bytes\",\"data\":\"pOq9zDz16j8y358kx0vfPw==\"},\"shape\":[2],\"dtype\":\"float64\",\"order\":\"little\"}],[21,{\"type\":\"ndarray\",\"array\":{\"type\":\"bytes\",\"data\":\"NKhfeeMPzT/gUjXRSMPKvw==\"},\"shape\":[2],\"dtype\":\"float64\",\"order\":\"little\"}],[9,{\"type\":\"ndarray\",\"array\":{\"type\":\"bytes\",\"data\":\"Dwx68Fhc0b9OoNSLVRrsPw==\"},\"shape\":[2],\"dtype\":\"float64\",\"order\":\"little\"}],[2,{\"type\":\"ndarray\",\"array\":{\"type\":\"bytes\",\"data\":\"mHGVXnFy678Kt2b/Npewvw==\"},\"shape\":[2],\"dtype\":\"float64\",\"order\":\"little\"}],[28,{\"type\":\"ndarray\",\"array\":{\"type\":\"bytes\",\"data\":\"q/p/5kdtwb/mdsjvJh3uvw==\"},\"shape\":[2],\"dtype\":\"float64\",\"order\":\"little\"}],[3,{\"type\":\"ndarray\",\"array\":{\"type\":\"bytes\",\"data\":\"EY6DLJOH6D/Z3WCCCQblvw==\"},\"shape\":[2],\"dtype\":\"float64\",\"order\":\"little\"}],[14,{\"type\":\"ndarray\",\"array\":{\"type\":\"bytes\",\"data\":\"pNxkVoKI7T+FvwZctZTcvw==\"},\"shape\":[2],\"dtype\":\"float64\",\"order\":\"little\"}],[20,{\"type\":\"ndarray\",\"array\":{\"type\":\"bytes\",\"data\":\"T0/fg36P7r/9IdYqQaXQvw==\"},\"shape\":[2],\"dtype\":\"float64\",\"order\":\"little\"}],[25,{\"type\":\"ndarray\",\"array\":{\"type\":\"bytes\",\"data\":\"guXk3RdF178N+YqWR+3vvw==\"},\"shape\":[2],\"dtype\":\"float64\",\"order\":\"little\"}],[31,{\"type\":\"ndarray\",\"array\":{\"type\":\"bytes\",\"data\":\"Lor5G0hG7z9w6O8Z34CqPw==\"},\"shape\":[2],\"dtype\":\"float64\",\"order\":\"little\"}],[7,{\"type\":\"ndarray\",\"array\":{\"type\":\"bytes\",\"data\":\"MahvAp7Lmb+lSKSaUz/Qvw==\"},\"shape\":[2],\"dtype\":\"float64\",\"order\":\"little\"}],[26,{\"type\":\"ndarray\",\"array\":{\"type\":\"bytes\",\"data\":\"9EddRCol5T/cMIZldcvnPw==\"},\"shape\":[2],\"dtype\":\"float64\",\"order\":\"little\"}],[10,{\"type\":\"ndarray\",\"array\":{\"type\":\"bytes\",\"data\":\"dGe1hy8K1D/KnVJWO7Dqvw==\"},\"shape\":[2],\"dtype\":\"float64\",\"order\":\"little\"}],[11,{\"type\":\"ndarray\",\"array\":{\"type\":\"bytes\",\"data\":\"YpA7kikU1z9d+8t5b8LrPw==\"},\"shape\":[2],\"dtype\":\"float64\",\"order\":\"little\"}],[24,{\"type\":\"ndarray\",\"array\":{\"type\":\"bytes\",\"data\":\"wMckHzhi6r9rKT9iNbXfvw==\"},\"shape\":[2],\"dtype\":\"float64\",\"order\":\"little\"}],[32,{\"type\":\"ndarray\",\"array\":{\"type\":\"bytes\",\"data\":\"02+AqX9e4b/FOdP9w87nvw==\"},\"shape\":[2],\"dtype\":\"float64\",\"order\":\"little\"}],[15,{\"type\":\"ndarray\",\"array\":{\"type\":\"bytes\",\"data\":\"P5WYInfD4T9U+EV2GyPqvw==\"},\"shape\":[2],\"dtype\":\"float64\",\"order\":\"little\"}],[27,{\"type\":\"ndarray\",\"array\":{\"type\":\"bytes\",\"data\":\"yaX1vCi/7b+uUGYNS2LXPw==\"},\"shape\":[2],\"dtype\":\"float64\",\"order\":\"little\"}],[6,{\"type\":\"ndarray\",\"array\":{\"type\":\"bytes\",\"data\":\"tbX/yBEa4T+FbQOVhT/jPw==\"},\"shape\":[2],\"dtype\":\"float64\",\"order\":\"little\"}]]}}},\"node_renderer\":{\"type\":\"object\",\"name\":\"GlyphRenderer\",\"id\":\"p2398\",\"attributes\":{\"data_source\":{\"type\":\"object\",\"name\":\"ColumnDataSource\",\"id\":\"p2395\",\"attributes\":{\"selected\":{\"type\":\"object\",\"name\":\"Selection\",\"id\":\"p2396\",\"attributes\":{\"indices\":[],\"line_indices\":[]}},\"selection_policy\":{\"type\":\"object\",\"name\":\"UnionRenderers\",\"id\":\"p2397\"},\"data\":{\"type\":\"map\",\"entries\":[[\"nb_reco_unique\",[3,7,1,1,3,2,1,9,1,6,1,3,7,5,3,18,1,2,3,2,1,2,1,1,15,2,2,1,2,1,1,1,1]],[\"channel\",[\"ARTE\",\"Le Monde\",\"Major Mouvement\",\"Jamy - Epicurieux\",\"28 minutes - ARTE\",\"Le Dessous des images\",\"Underscore_\",\"FRANCE 24\",\"Le Dessous des Cartes - ARTE\",\"euronews (en fran\\u00e7ais)\",\"20 Minutes France\",\"Les Echos\",\"Le Parisien\",\"L'Obs\",\"BFMTV\",\"LeHuffPost\",\"France Inter\",\"AFP\",\"TF1 INFO\",\"AJ+ fran\\u00e7ais\",\"LCI\",\"Le Point\",\"Quotidien\",\"franceinfo\",\"Europe 1\",\"RMC\",\"Hedacademy\",\"Hevesh5\",\"Public S\\u00e9nat\",\"ptbbelgique\",\"LCP - Assembl\\u00e9e nationale\",\"Sofyan\",\"Envoy\\u00e9 Sp\\u00e9cial\"]],[\"modularity_class\",[0,0,0,0,0,0,0,3,0,3,0,0,2,1,3,2,3,2,2,1,2,1,2,2,1,2,2,1,1,1,1,1,1]],[\"weight\",[10.909090909090908,25.454545454545453,3.6363636363636362,3.6363636363636362,10.909090909090908,7.2727272727272725,3.6363636363636362,32.72727272727273,3.6363636363636362,21.818181818181817,3.6363636363636362,10.909090909090908,25.454545454545453,18.181818181818183,10.909090909090908,65.45454545454545,3.6363636363636362,7.2727272727272725,10.909090909090908,7.2727272727272725,3.6363636363636362,7.2727272727272725,3.6363636363636362,3.6363636363636362,54.54545454545454,7.2727272727272725,7.2727272727272725,3.6363636363636362,7.2727272727272725,3.6363636363636362,3.6363636363636362,3.6363636363636362,3.6363636363636362]],[\"color\",[\"#3288bd\",\"#3288bd\",\"#3288bd\",\"#3288bd\",\"#3288bd\",\"#3288bd\",\"#3288bd\",\"#e6f598\",\"#3288bd\",\"#e6f598\",\"#3288bd\",\"#3288bd\",\"#abdda4\",\"#66c2a5\",\"#e6f598\",\"#abdda4\",\"#e6f598\",\"#abdda4\",\"#abdda4\",\"#66c2a5\",\"#abdda4\",\"#66c2a5\",\"#abdda4\",\"#abdda4\",\"#66c2a5\",\"#abdda4\",\"#abdda4\",\"#66c2a5\",\"#66c2a5\",\"#66c2a5\",\"#66c2a5\",\"#66c2a5\",\"#66c2a5\"]],[\"percent\",[2.727272727272727,6.363636363636363,0.9090909090909091,0.9090909090909091,2.727272727272727,1.8181818181818181,0.9090909090909091,8.181818181818182,0.9090909090909091,5.454545454545454,0.9090909090909091,2.727272727272727,6.363636363636363,4.545454545454546,2.727272727272727,16.363636363636363,0.9090909090909091,1.8181818181818181,2.727272727272727,1.8181818181818181,0.9090909090909091,1.8181818181818181,0.9090909090909091,0.9090909090909091,13.636363636363635,1.8181818181818181,1.8181818181818181,0.9090909090909091,1.8181818181818181,0.9090909090909091,0.9090909090909091,0.9090909090909091,0.9090909090909091]],[\"index\",[4,18,23,12,1,17,29,8,16,30,0,22,19,13,5,21,9,2,28,3,14,20,25,31,7,26,10,11,24,32,15,27,6]]]}}},\"view\":{\"type\":\"object\",\"name\":\"CDSView\",\"id\":\"p2399\",\"attributes\":{\"filter\":{\"type\":\"object\",\"name\":\"AllIndices\",\"id\":\"p2400\"}}},\"glyph\":{\"type\":\"object\",\"name\":\"Circle\",\"id\":\"p2445\",\"attributes\":{\"size\":{\"type\":\"field\",\"field\":\"weight\"},\"fill_color\":{\"type\":\"field\",\"field\":\"color\"}}},\"hover_glyph\":{\"type\":\"object\",\"name\":\"Circle\",\"id\":\"p2446\",\"attributes\":{\"size\":{\"type\":\"field\",\"field\":\"weight\"},\"line_width\":{\"type\":\"value\",\"value\":2},\"fill_color\":{\"type\":\"value\",\"value\":\"darkslategrey\"}}}}},\"edge_renderer\":{\"type\":\"object\",\"name\":\"GlyphRenderer\",\"id\":\"p2405\",\"attributes\":{\"data_source\":{\"type\":\"object\",\"name\":\"ColumnDataSource\",\"id\":\"p2402\",\"attributes\":{\"selected\":{\"type\":\"object\",\"name\":\"Selection\",\"id\":\"p2403\",\"attributes\":{\"indices\":[],\"line_indices\":[]}},\"selection_policy\":{\"type\":\"object\",\"name\":\"UnionRenderers\",\"id\":\"p2404\"},\"data\":{\"type\":\"map\",\"entries\":[[\"edge_color\",[\"gainsboro\",\"gainsboro\",\"gainsboro\",\"gainsboro\",\"tan\",\"gainsboro\",\"gainsboro\",\"gainsboro\",\"gainsboro\",\"gainsboro\",\"gainsboro\",\"gainsboro\",\"tan\",\"gainsboro\",\"gainsboro\",\"gainsboro\",\"gainsboro\",\"gainsboro\",\"gainsboro\",\"gainsboro\",\"gainsboro\",\"gainsboro\",\"gainsboro\",\"gainsboro\",\"tan\",\"gainsboro\",\"gainsboro\",\"gainsboro\",\"gainsboro\",\"gainsboro\",\"gainsboro\",\"gainsboro\",\"gainsboro\",\"gainsboro\",\"tan\",\"gainsboro\",\"gainsboro\",\"gainsboro\",\"gainsboro\",\"gainsboro\",\"gainsboro\",\"gainsboro\",\"gainsboro\",\"gainsboro\",\"gainsboro\",\"gainsboro\",\"gainsboro\",\"gainsboro\",\"tan\",\"gainsboro\",\"tan\",\"gainsboro\",\"gainsboro\",\"gainsboro\",\"tan\",\"gainsboro\",\"gainsboro\",\"gainsboro\",\"gainsboro\",\"gainsboro\",\"gainsboro\",\"gainsboro\",\"gainsboro\",\"gainsboro\",\"gainsboro\",\"gainsboro\",\"gainsboro\",\"gainsboro\",\"gainsboro\",\"gainsboro\",\"gainsboro\",\"gainsboro\",\"gainsboro\",\"gainsboro\",\"gainsboro\",\"gainsboro\",\"gainsboro\",\"gainsboro\",\"gainsboro\",\"gainsboro\",\"gainsboro\",\"gainsboro\",\"gainsboro\",\"tan\",\"gainsboro\",\"gainsboro\",\"gainsboro\",\"gainsboro\",\"gainsboro\",\"gainsboro\",\"gainsboro\",\"gainsboro\",\"gainsboro\",\"tan\",\"gainsboro\",\"gainsboro\",\"gainsboro\",\"gainsboro\",\"gainsboro\",\"gainsboro\",\"gainsboro\",\"gainsboro\",\"tan\",\"gainsboro\",\"gainsboro\",\"gainsboro\",\"gainsboro\",\"gainsboro\",\"gainsboro\",\"gainsboro\"]],[\"alpha\",[0.7,0.7,0.7,0.7,1,0.7,0.7,0.7,0.7,0.7,0.7,0.7,1,0.7,0.7,0.7,0.7,0.7,0.7,0.7,0.7,0.7,0.7,0.7,1,0.7,0.7,0.7,0.7,0.7,0.7,0.7,0.7,0.7,1,0.7,0.7,0.7,0.7,0.7,0.7,0.7,0.7,0.7,0.7,0.7,0.7,0.7,1,0.7,1,0.7,0.7,0.7,1,0.7,0.7,0.7,0.7,0.7,0.7,0.7,0.7,0.7,0.7,0.7,0.7,0.7,0.7,0.7,0.7,0.7,0.7,0.7,0.7,0.7,0.7,0.7,0.7,0.7,0.7,0.7,0.7,1,0.7,0.7,0.7,0.7,0.7,0.7,0.7,0.7,0.7,1,0.7,0.7,0.7,0.7,0.7,0.7,0.7,0.7,1,0.7,0.7,0.7,0.7,0.7,0.7,0.7]],[\"recommendation\",[\"1\",\"1\",\"1\",\"1\",0,\"1\",\"1\",\"1\",\"1\",\"1\",\"1\",\"1\",0,\"1\",\"1\",\"1\",\"1\",\"1\",\"1\",\"1\",\"1\",\"1\",\"1\",\"1\",0,\"1\",\"1\",\"1\",\"1\",\"1\",\"1\",\"1\",\"1\",\"1\",0,\"1\",\"1\",\"1\",\"1\",\"1\",\"1\",\"1\",\"1\",\"1\",\"1\",\"1\",\"1\",\"1\",0,\"1\",0,\"1\",\"1\",\"1\",0,\"1\",\"1\",\"1\",\"1\",\"1\",\"1\",\"1\",\"1\",\"1\",\"1\",\"1\",\"1\",\"1\",\"1\",\"1\",\"1\",\"1\",\"1\",\"1\",\"1\",\"1\",\"1\",\"1\",\"1\",\"1\",\"1\",\"1\",\"1\",0,\"1\",\"1\",\"1\",\"1\",\"1\",\"1\",\"1\",\"1\",\"1\",0,\"1\",\"1\",\"1\",\"1\",\"1\",\"1\",\"1\",\"1\",0,\"1\",\"1\",\"1\",\"1\",\"1\",\"1\",\"1\"]],[\"weight\",[1,1,1,1,2,1,1,1,1,1,1,1,2,1,1,1,1,1,1,1,1,1,1,1,2,1,1,1,1,1,1,1,1,1,2,1,1,1,1,1,1,1,1,1,1,1,1,1,2,1,2,1,1,1,2,1,1,1,1,1,1,1,1,1,1,1,1,1,1,1,1,1,1,1,1,1,1,1,1,1,1,1,1,2,1,1,1,1,1,1,1,1,1,2,1,1,1,1,1,1,1,1,2,1,1,1,1,1,1,1]],[\"start\",[4,4,4,4,4,4,4,4,4,4,4,18,18,18,18,18,18,18,18,18,18,18,8,8,8,8,8,8,8,8,8,8,8,30,30,30,30,30,30,30,30,30,30,30,21,21,21,21,21,21,21,21,21,21,21,21,21,21,21,21,21,21,21,21,21,21,21,21,21,21,21,21,21,21,21,21,21,21,21,21,21,21,21,21,21,21,21,21,7,7,7,7,7,7,7,7,7,7,7,7,7,7,7,7,7,7,7,7,7,7]],[\"end\",[4,4,18,18,18,23,12,1,17,17,29,8,8,18,18,18,16,30,0,22,22,19,30,30,30,8,8,8,8,13,5,21,18,21,21,30,30,13,8,8,5,1,22,9,21,21,21,21,21,21,21,21,21,21,21,21,21,21,13,2,2,28,28,19,19,19,19,19,19,3,1,14,8,20,4,25,31,7,7,7,7,7,7,7,26,26,10,10,7,7,7,7,7,7,7,7,28,11,3,20,5,13,13,24,24,21,32,15,27,6]]]}}},\"view\":{\"type\":\"object\",\"name\":\"CDSView\",\"id\":\"p2406\",\"attributes\":{\"filter\":{\"type\":\"object\",\"name\":\"AllIndices\",\"id\":\"p2407\"}}},\"glyph\":{\"type\":\"object\",\"name\":\"MultiLine\",\"id\":\"p2447\",\"attributes\":{\"line_color\":{\"type\":\"field\",\"field\":\"edge_color\"},\"line_alpha\":{\"type\":\"field\",\"field\":\"alpha\"},\"line_width\":{\"type\":\"field\",\"field\":\"weight\"}}},\"hover_glyph\":{\"type\":\"object\",\"name\":\"MultiLine\",\"id\":\"p2448\",\"attributes\":{\"line_color\":{\"type\":\"value\",\"value\":\"darkslategrey\"},\"line_width\":{\"type\":\"field\",\"field\":\"weight\"}}}}},\"selection_policy\":{\"type\":\"object\",\"name\":\"NodesAndLinkedEdges\",\"id\":\"p2449\"},\"inspection_policy\":{\"type\":\"object\",\"name\":\"NodesAndLinkedEdges\",\"id\":\"p2450\"}}}],\"toolbar\":{\"type\":\"object\",\"name\":\"Toolbar\",\"id\":\"p2419\",\"attributes\":{\"tools\":[{\"type\":\"object\",\"name\":\"HoverTool\",\"id\":\"p2432\",\"attributes\":{\"renderers\":\"auto\",\"tooltips\":[[\"channel\",\"@channel\"],[\"percent\",\"@percent\"],[\"Modularity Class\",\"@modularity_class\"],[\"Uniq rec\",\"@nb_reco_unique\"]]}},{\"type\":\"object\",\"name\":\"BoxZoomTool\",\"id\":\"p2433\",\"attributes\":{\"overlay\":{\"type\":\"object\",\"name\":\"BoxAnnotation\",\"id\":\"p2434\",\"attributes\":{\"syncable\":false,\"level\":\"overlay\",\"visible\":false,\"left\":{\"type\":\"number\",\"value\":\"nan\"},\"right\":{\"type\":\"number\",\"value\":\"nan\"},\"top\":{\"type\":\"number\",\"value\":\"nan\"},\"bottom\":{\"type\":\"number\",\"value\":\"nan\"},\"left_units\":\"canvas\",\"right_units\":\"canvas\",\"top_units\":\"canvas\",\"bottom_units\":\"canvas\",\"line_color\":\"black\",\"line_alpha\":1.0,\"line_width\":2,\"line_dash\":[4,4],\"fill_color\":\"lightgrey\",\"fill_alpha\":0.5}}}},{\"type\":\"object\",\"name\":\"PanTool\",\"id\":\"p2439\"},{\"type\":\"object\",\"name\":\"ZoomOutTool\",\"id\":\"p2440\",\"attributes\":{\"renderers\":\"auto\"}},{\"type\":\"object\",\"name\":\"ZoomInTool\",\"id\":\"p2441\",\"attributes\":{\"renderers\":\"auto\"}},{\"type\":\"object\",\"name\":\"ResetTool\",\"id\":\"p2442\"},{\"type\":\"object\",\"name\":\"SaveTool\",\"id\":\"p2443\"},{\"type\":\"object\",\"name\":\"TapTool\",\"id\":\"p2444\",\"attributes\":{\"renderers\":\"auto\"}}]}},\"center\":[{\"type\":\"object\",\"name\":\"Grid\",\"id\":\"p2426\",\"attributes\":{\"axis\":{\"type\":\"object\",\"name\":\"LinearAxis\",\"id\":\"p2422\",\"attributes\":{\"ticker\":{\"type\":\"object\",\"name\":\"BasicTicker\",\"id\":\"p2423\",\"attributes\":{\"mantissas\":[1,2,5]}},\"formatter\":{\"type\":\"object\",\"name\":\"BasicTickFormatter\",\"id\":\"p2424\"},\"major_label_policy\":{\"type\":\"object\",\"name\":\"AllLabels\",\"id\":\"p2425\"}}},\"grid_line_color\":null}},{\"type\":\"object\",\"name\":\"Grid\",\"id\":\"p2431\",\"attributes\":{\"dimension\":1,\"axis\":{\"type\":\"object\",\"name\":\"LinearAxis\",\"id\":\"p2427\",\"attributes\":{\"ticker\":{\"type\":\"object\",\"name\":\"BasicTicker\",\"id\":\"p2428\",\"attributes\":{\"mantissas\":[1,2,5]}},\"formatter\":{\"type\":\"object\",\"name\":\"BasicTickFormatter\",\"id\":\"p2429\"},\"major_label_policy\":{\"type\":\"object\",\"name\":\"AllLabels\",\"id\":\"p2430\"}}},\"grid_line_color\":null}}]}}]}};\n  const render_items = [{\"docid\":\"f6b05203-192e-4e3d-ab8a-bdbb2ce36502\",\"roots\":{\"p2411\":\"a4dfc20a-231e-4403-b037-8fcf122470a1\"},\"root_ids\":[\"p2411\"]}];\n  root.Bokeh.embed.embed_items_notebook(docs_json, render_items);\n  }\n  if (root.Bokeh !== undefined) {\n    embed_document(root);\n  } else {\n    let attempts = 0;\n    const timer = setInterval(function(root) {\n      if (root.Bokeh !== undefined) {\n        clearInterval(timer);\n        embed_document(root);\n      } else {\n        attempts++;\n        if (attempts > 100) {\n          clearInterval(timer);\n          console.log(\"Bokeh: ERROR: Unable to run BokehJS code because BokehJS library is missing\");\n        }\n      }\n    }, 10, root)\n  }\n})(window);",
      "application/vnd.bokehjs_exec.v0+json": ""
     },
     "metadata": {
      "application/vnd.bokehjs_exec.v0+json": {
       "id": "p2411"
      }
     },
     "output_type": "display_data"
    }
   ],
   "source": [
    "df_recom_all = load_data_csv('./data/navigation_data_m4.txt')\n",
    "df_relation_recom = create_table_recommendation(df_recom_all[33:])\n",
    "analaaa=df_relation_recom\n",
    "p = plot_recommendation(df_relation_recom)\n",
    "# save_bokeh_graph(p,'HD_m4_anais')"
   ]
  },
  {
   "cell_type": "code",
   "execution_count": 47,
   "metadata": {},
   "outputs": [
    {
     "ename": "ValueError",
     "evalue": "cutoff must be between 1 and 0. Got 1.",
     "output_type": "error",
     "traceback": [
      "\u001b[1;31m---------------------------------------------------------------------------\u001b[0m",
      "\u001b[1;31mValueError\u001b[0m                                Traceback (most recent call last)",
      "Cell \u001b[1;32mIn[47], line 4\u001b[0m\n\u001b[0;32m      2\u001b[0m df_relation_recom \u001b[38;5;241m=\u001b[39m create_table_recommendation(df_recom_all[\u001b[38;5;241m33\u001b[39m:])\n\u001b[0;32m      3\u001b[0m analaaa\u001b[38;5;241m=\u001b[39mdf_relation_recom\n\u001b[1;32m----> 4\u001b[0m p \u001b[38;5;241m=\u001b[39m \u001b[43mplot_recommendation\u001b[49m\u001b[43m(\u001b[49m\u001b[43mdf_relation_recom\u001b[49m\u001b[43m)\u001b[49m\n\u001b[0;32m      5\u001b[0m \u001b[38;5;66;03m# save_bokeh_graph(p,'M4_Lou')\u001b[39;00m\n",
      "Cell \u001b[1;32mIn[38], line 59\u001b[0m, in \u001b[0;36mplot_recommendation\u001b[1;34m(df_relation)\u001b[0m\n\u001b[0;32m     53\u001b[0m nx\u001b[38;5;241m.\u001b[39mset_edge_attributes(G_rel, edge_attrs3, \u001b[38;5;124m\"\u001b[39m\u001b[38;5;124malpha\u001b[39m\u001b[38;5;124m\"\u001b[39m)\n\u001b[0;32m     58\u001b[0m \u001b[38;5;66;03m#Communitiesc\u001b[39;00m\n\u001b[1;32m---> 59\u001b[0m communities \u001b[38;5;241m=\u001b[39m \u001b[43mcommunity\u001b[49m\u001b[38;5;241;43m.\u001b[39;49m\u001b[43mgreedy_modularity_communities\u001b[49m\u001b[43m(\u001b[49m\u001b[43mG_rel\u001b[49m\u001b[43m)\u001b[49m\n\u001b[0;32m     60\u001b[0m \u001b[38;5;66;03m# Create empty dictionaries\u001b[39;00m\n\u001b[0;32m     61\u001b[0m modularity_class \u001b[38;5;241m=\u001b[39m {}\n",
      "File \u001b[1;32mc:\\Users\\mtlsa\\anaconda3\\envs\\IC05\\Lib\\site-packages\\networkx\\utils\\backends.py:412\u001b[0m, in \u001b[0;36m_dispatch.__call__\u001b[1;34m(self, backend, *args, **kwargs)\u001b[0m\n\u001b[0;32m    409\u001b[0m \u001b[38;5;28;01mdef\u001b[39;00m \u001b[38;5;21m__call__\u001b[39m(\u001b[38;5;28mself\u001b[39m, \u001b[38;5;241m/\u001b[39m, \u001b[38;5;241m*\u001b[39margs, backend\u001b[38;5;241m=\u001b[39m\u001b[38;5;28;01mNone\u001b[39;00m, \u001b[38;5;241m*\u001b[39m\u001b[38;5;241m*\u001b[39mkwargs):\n\u001b[0;32m    410\u001b[0m     \u001b[38;5;28;01mif\u001b[39;00m \u001b[38;5;129;01mnot\u001b[39;00m backends:\n\u001b[0;32m    411\u001b[0m         \u001b[38;5;66;03m# Fast path if no backends are installed\u001b[39;00m\n\u001b[1;32m--> 412\u001b[0m         \u001b[38;5;28;01mreturn\u001b[39;00m \u001b[38;5;28;43mself\u001b[39;49m\u001b[38;5;241;43m.\u001b[39;49m\u001b[43morig_func\u001b[49m\u001b[43m(\u001b[49m\u001b[38;5;241;43m*\u001b[39;49m\u001b[43margs\u001b[49m\u001b[43m,\u001b[49m\u001b[43m \u001b[49m\u001b[38;5;241;43m*\u001b[39;49m\u001b[38;5;241;43m*\u001b[39;49m\u001b[43mkwargs\u001b[49m\u001b[43m)\u001b[49m\n\u001b[0;32m    414\u001b[0m     \u001b[38;5;66;03m# Use `backend_name` in this function instead of `backend`\u001b[39;00m\n\u001b[0;32m    415\u001b[0m     backend_name \u001b[38;5;241m=\u001b[39m backend\n",
      "File \u001b[1;32mc:\\Users\\mtlsa\\anaconda3\\envs\\IC05\\Lib\\site-packages\\networkx\\algorithms\\community\\modularity_max.py:313\u001b[0m, in \u001b[0;36mgreedy_modularity_communities\u001b[1;34m(G, weight, resolution, cutoff, best_n)\u001b[0m\n\u001b[0;32m    234\u001b[0m \u001b[38;5;250m\u001b[39m\u001b[38;5;124mr\u001b[39m\u001b[38;5;124;03m\"\"\"Find communities in G using greedy modularity maximization.\u001b[39;00m\n\u001b[0;32m    235\u001b[0m \n\u001b[0;32m    236\u001b[0m \u001b[38;5;124;03mThis function uses Clauset-Newman-Moore greedy modularity maximization [2]_\u001b[39;00m\n\u001b[1;32m   (...)\u001b[0m\n\u001b[0;32m    310\u001b[0m \u001b[38;5;124;03m   Physical Review E 70(5 Pt 2):056131, 2004.\u001b[39;00m\n\u001b[0;32m    311\u001b[0m \u001b[38;5;124;03m\"\"\"\u001b[39;00m\n\u001b[0;32m    312\u001b[0m \u001b[38;5;28;01mif\u001b[39;00m (cutoff \u001b[38;5;241m<\u001b[39m \u001b[38;5;241m1\u001b[39m) \u001b[38;5;129;01mor\u001b[39;00m (cutoff \u001b[38;5;241m>\u001b[39m G\u001b[38;5;241m.\u001b[39mnumber_of_nodes()):\n\u001b[1;32m--> 313\u001b[0m     \u001b[38;5;28;01mraise\u001b[39;00m \u001b[38;5;167;01mValueError\u001b[39;00m(\u001b[38;5;124mf\u001b[39m\u001b[38;5;124m\"\u001b[39m\u001b[38;5;124mcutoff must be between 1 and \u001b[39m\u001b[38;5;132;01m{\u001b[39;00m\u001b[38;5;28mlen\u001b[39m(G)\u001b[38;5;132;01m}\u001b[39;00m\u001b[38;5;124m. Got \u001b[39m\u001b[38;5;132;01m{\u001b[39;00mcutoff\u001b[38;5;132;01m}\u001b[39;00m\u001b[38;5;124m.\u001b[39m\u001b[38;5;124m\"\u001b[39m)\n\u001b[0;32m    314\u001b[0m \u001b[38;5;28;01mif\u001b[39;00m best_n \u001b[38;5;129;01mis\u001b[39;00m \u001b[38;5;129;01mnot\u001b[39;00m \u001b[38;5;28;01mNone\u001b[39;00m:\n\u001b[0;32m    315\u001b[0m     \u001b[38;5;28;01mif\u001b[39;00m (best_n \u001b[38;5;241m<\u001b[39m \u001b[38;5;241m1\u001b[39m) \u001b[38;5;129;01mor\u001b[39;00m (best_n \u001b[38;5;241m>\u001b[39m G\u001b[38;5;241m.\u001b[39mnumber_of_nodes()):\n",
      "\u001b[1;31mValueError\u001b[0m: cutoff must be between 1 and 0. Got 1."
     ]
    }
   ],
   "source": [
    "df_recom_all = load_data_csv('./data/Ella_methode4.txt')\n",
    "df_relation_recom = create_table_recommendation(df_recom_all[33:])\n",
    "analaaa=df_relation_recom\n",
    "p = plot_recommendation(df_relation_recom)\n",
    "# save_bokeh_graph(p,'M4_Lou')"
   ]
  },
  {
   "cell_type": "code",
   "execution_count": 81,
   "metadata": {},
   "outputs": [],
   "source": [
    "df_recom_all = load_data_csv('./data/navigation_data_m1_m3.txt')\n",
    "df_re\n"
   ]
  },
  {
   "cell_type": "code",
   "execution_count": 98,
   "metadata": {},
   "outputs": [
    {
     "data": {
      "text/html": [
       "\n",
       "  <div id=\"c0129e53-83c0-4478-a07c-acc3e7209358\" data-root-id=\"p4975\" style=\"display: contents;\"></div>\n"
      ]
     },
     "metadata": {},
     "output_type": "display_data"
    },
    {
     "data": {
      "application/javascript": "(function(root) {\n  function embed_document(root) {\n  const docs_json = {\"d306de09-80bc-4307-8ed5-e2583acc1f1a\":{\"version\":\"3.3.2\",\"title\":\"Bokeh Application\",\"roots\":[{\"type\":\"object\",\"name\":\"Figure\",\"id\":\"p4975\",\"attributes\":{\"x_range\":{\"type\":\"object\",\"name\":\"DataRange1d\",\"id\":\"p4976\"},\"y_range\":{\"type\":\"object\",\"name\":\"DataRange1d\",\"id\":\"p4977\"},\"x_scale\":{\"type\":\"object\",\"name\":\"LinearScale\",\"id\":\"p4984\"},\"y_scale\":{\"type\":\"object\",\"name\":\"LinearScale\",\"id\":\"p4985\"},\"title\":{\"type\":\"object\",\"name\":\"Title\",\"id\":\"p4982\"},\"renderers\":[{\"type\":\"object\",\"name\":\"LabelSet\",\"id\":\"p5018\",\"attributes\":{\"source\":{\"type\":\"object\",\"name\":\"ColumnDataSource\",\"id\":\"p5015\",\"attributes\":{\"selected\":{\"type\":\"object\",\"name\":\"Selection\",\"id\":\"p5016\",\"attributes\":{\"indices\":[],\"line_indices\":[]}},\"selection_policy\":{\"type\":\"object\",\"name\":\"UnionRenderers\",\"id\":\"p5017\"},\"data\":{\"type\":\"map\",\"entries\":[[\"x\",[-0.342046891259131,-0.6285909046979065,-0.17251284683155518,-0.5484030107605886,0.39275690974308486,-0.595458993179273,-0.9611252767222229,-0.16740246224605781,-0.2859660062869546,-0.12801463336305438,0.7917744231193441,-0.10914475339629418,-0.8813849839237714,-0.10108748857924295,0.2200530012113632,-0.8399796613843505,0.9231730502653451,-0.014109146499051558,0.7499342175072926,-0.4021059941801778,0.3721565126242727,-0.39968991928221126,0.2354529360790821,0.5363487407891286,-0.6871351353225704,0.8372690665951188,-0.8886459486686952,0.08505509840367115,0.9264251903324789,0.4839100940984154,-0.27713743577183764,0.9408217342331963,0.05315150854443737,-0.19439960566419562,0.9889336923131452,-0.8888506847793933,0.05816392059155593,0.9865543856287516,-0.8206220651522911,-0.7098832468637427,0.8894064496310831,0.6300201686836746,-0.8440596154423965,-0.8891163414651599,0.22574641578053745,0.6337886093359829,0.815976926211164]],[\"y\",[-0.1644909014052123,0.6845405413370378,0.20045164900549864,-0.8133895913363924,-0.9340252897153317,0.8583993532739886,0.027660450317868845,-0.4428402332516225,-0.917765383553672,-0.08650372874372181,-0.7210421561973803,-0.9365800365634633,-0.25922663215646446,0.9584291384602768,-0.9655543868413796,0.6135927165579689,-0.0860735572858606,-0.06792187652219428,0.7407036414116727,0.8548188027628049,0.8833247005490149,-0.7841994510871756,-0.03174129210027727,0.8700890626215497,-0.630218492853851,-0.5459112817231113,0.19096305180464046,-0.11442775492974841,0.3836244126082484,-0.797750435646618,0.9640942909031796,-0.4027049122266179,-0.9674411309204833,0.27148487434622337,0.07717700090313485,-0.4290691587054593,1.0,-0.22380547235805573,-0.6482057567568897,0.4895536592922545,0.22594098311354918,0.6837517312984949,-0.09038800204303737,0.36556031453065624,0.9626253203297986,-0.7732909214760038,0.5277821409721626]],[\"name\",[\"HugoD\\u00e9crypte - Actus du jour\",\"France Culture\",\"Underscore_\",\"28 minutes - ARTE\",\"\",\"\",\"Mark Rober\",\"Brut\",\"\",\"ARTE\",\"\",\"\",\"\",\"\",\"\",\"Doc Seven\",\"\",\"Chronik Fiction\",\"\",\"\",\"\",\"\",\"VA Plus\",\"\",\"\",\"ScienceEtonnante \\u00b7 Playlist\",\"\",\"Konbini\",\"\",\"\",\"\",\"\",\"\",\"Dr Nozman\",\"\",\"\",\"\",\"\",\"\",\"\",\"\",\"\",\"\",\"\",\"\",\"\",\"\"]]]}}},\"x\":{\"type\":\"field\",\"field\":\"x\"},\"y\":{\"type\":\"field\",\"field\":\"y\"},\"text\":{\"type\":\"field\",\"field\":\"name\"},\"text_font_size\":{\"type\":\"value\",\"value\":\"10px\"},\"background_fill_color\":{\"type\":\"value\",\"value\":\"white\"},\"background_fill_alpha\":{\"type\":\"value\",\"value\":0.7}}},{\"type\":\"object\",\"name\":\"GraphRenderer\",\"id\":\"p4957\",\"attributes\":{\"layout_provider\":{\"type\":\"object\",\"name\":\"StaticLayoutProvider\",\"id\":\"p4974\",\"attributes\":{\"graph_layout\":{\"type\":\"map\",\"entries\":[[19,{\"type\":\"ndarray\",\"array\":{\"type\":\"bytes\",\"data\":\"DAPqpBjk1b95MQOxCQ7Fvw==\"},\"shape\":[2],\"dtype\":\"float64\",\"order\":\"little\"}],[16,{\"type\":\"ndarray\",\"array\":{\"type\":\"bytes\",\"data\":\"rbJHrGod5L/ShLqQweflPw==\"},\"shape\":[2],\"dtype\":\"float64\",\"order\":\"little\"}],[43,{\"type\":\"ndarray\",\"array\":{\"type\":\"bytes\",\"data\":\"ewSkpeYUxr+pNXROZqjJPw==\"},\"shape\":[2],\"dtype\":\"float64\",\"order\":\"little\"}],[0,{\"type\":\"ndarray\",\"array\":{\"type\":\"bytes\",\"data\":\"StSHeISM4b+iSrabSQfqvw==\"},\"shape\":[2],\"dtype\":\"float64\",\"order\":\"little\"}],[45,{\"type\":\"ndarray\",\"array\":{\"type\":\"bytes\",\"data\":\"Avmn4O0i2T9X2x4BiePtvw==\"},\"shape\":[2],\"dtype\":\"float64\",\"order\":\"little\"}],[22,{\"type\":\"ndarray\",\"array\":{\"type\":\"bytes\",\"data\":\"0Qy6BAAO47/EBKfrAXjrPw==\"},\"shape\":[2],\"dtype\":\"float64\",\"order\":\"little\"}],[34,{\"type\":\"ndarray\",\"array\":{\"type\":\"bytes\",\"data\":\"UDDcy4nB7r+QEQhmBVOcPw==\"},\"shape\":[2],\"dtype\":\"float64\",\"order\":\"little\"}],[7,{\"type\":\"ndarray\",\"array\":{\"type\":\"bytes\",\"data\":\"zO9OonFtxb96zMqPflfcvw==\"},\"shape\":[2],\"dtype\":\"float64\",\"order\":\"little\"}],[15,{\"type\":\"ndarray\",\"array\":{\"type\":\"bytes\",\"data\":\"90oxXURN0r8DcniCVV7tvw==\"},\"shape\":[2],\"dtype\":\"float64\",\"order\":\"little\"}],[2,{\"type\":\"ndarray\",\"array\":{\"type\":\"bytes\",\"data\":\"cxTak8hiwL8AtO+9GyW2vw==\"},\"shape\":[2],\"dtype\":\"float64\",\"order\":\"little\"}],[29,{\"type\":\"ndarray\",\"array\":{\"type\":\"bytes\",\"data\":\"T2ujUDdW6T9a9vz/xhLnvw==\"},\"shape\":[2],\"dtype\":\"float64\",\"order\":\"little\"}],[40,{\"type\":\"ndarray\",\"array\":{\"type\":\"bytes\",\"data\":\"MvhdGunwu7/GDGSydvjtvw==\"},\"shape\":[2],\"dtype\":\"float64\",\"order\":\"little\"}],[41,{\"type\":\"ndarray\",\"array\":{\"type\":\"bytes\",\"data\":\"L2skSE407L+oT9dMK5fQvw==\"},\"shape\":[2],\"dtype\":\"float64\",\"order\":\"little\"}],[28,{\"type\":\"ndarray\",\"array\":{\"type\":\"bytes\",\"data\":\"HY17od7gub8QDaeVc6vuPw==\"},\"shape\":[2],\"dtype\":\"float64\",\"order\":\"little\"}],[27,{\"type\":\"ndarray\",\"array\":{\"type\":\"bytes\",\"data\":\"NXPLXbIqzD8ixz9Q0uXuvw==\"},\"shape\":[2],\"dtype\":\"float64\",\"order\":\"little\"}],[11,{\"type\":\"ndarray\",\"array\":{\"type\":\"bytes\",\"data\":\"GW7eBh3h6r/OxFUxjaLjPw==\"},\"shape\":[2],\"dtype\":\"float64\",\"order\":\"little\"}],[24,{\"type\":\"ndarray\",\"array\":{\"type\":\"bytes\",\"data\":\"6QVuNaKK7T/t2Jep6gi2vw==\"},\"shape\":[2],\"dtype\":\"float64\",\"order\":\"little\"}],[9,{\"type\":\"ndarray\",\"array\":{\"type\":\"bytes\",\"data\":\"K55NlkHljL+whFj+U2Oxvw==\"},\"shape\":[2],\"dtype\":\"float64\",\"order\":\"little\"}],[36,{\"type\":\"ndarray\",\"array\":{\"type\":\"bytes\",\"data\":\"pwtLC3b/5z8VhXwf2LPnPw==\"},\"shape\":[2],\"dtype\":\"float64\",\"order\":\"little\"}],[3,{\"type\":\"ndarray\",\"array\":{\"type\":\"bytes\",\"data\":\"LuKhxxq82b9r6Dv2rFrrPw==\"},\"shape\":[2],\"dtype\":\"float64\",\"order\":\"little\"}],[33,{\"type\":\"ndarray\",\"array\":{\"type\":\"bytes\",\"data\":\"B72tjGnR1z+lbJMpMkTsPw==\"},\"shape\":[2],\"dtype\":\"float64\",\"order\":\"little\"}],[14,{\"type\":\"ndarray\",\"array\":{\"type\":\"bytes\",\"data\":\"Gen2BoWU2b//vH5yKRjpvw==\"},\"shape\":[2],\"dtype\":\"float64\",\"order\":\"little\"}],[44,{\"type\":\"ndarray\",\"array\":{\"type\":\"bytes\",\"data\":\"m3kaYlIjzj9ZxwEHZUCgvw==\"},\"shape\":[2],\"dtype\":\"float64\",\"order\":\"little\"}],[10,{\"type\":\"ndarray\",\"array\":{\"type\":\"bytes\",\"data\":\"NRWe1cQp4T+nI5IExdfrPw==\"},\"shape\":[2],\"dtype\":\"float64\",\"order\":\"little\"}],[5,{\"type\":\"ndarray\",\"array\":{\"type\":\"bytes\",\"data\":\"P5PE0gL95b/OiAT5vyrkvw==\"},\"shape\":[2],\"dtype\":\"float64\",\"order\":\"little\"}],[37,{\"type\":\"ndarray\",\"array\":{\"type\":\"bytes\",\"data\":\"uE9ff+jK6j8klbDvGnjhvw==\"},\"shape\":[2],\"dtype\":\"float64\",\"order\":\"little\"}],[38,{\"type\":\"ndarray\",\"array\":{\"type\":\"bytes\",\"data\":\"eSjooMlv7L98ZR8venHIPw==\"},\"shape\":[2],\"dtype\":\"float64\",\"order\":\"little\"}],[25,{\"type\":\"ndarray\",\"array\":{\"type\":\"bytes\",\"data\":\"5HcAwivGtT+Wjy0pI0u9vw==\"},\"shape\":[2],\"dtype\":\"float64\",\"order\":\"little\"}],[17,{\"type\":\"ndarray\",\"array\":{\"type\":\"bytes\",\"data\":\"8mTVcEal7T90YIZoTY3YPw==\"},\"shape\":[2],\"dtype\":\"float64\",\"order\":\"little\"}],[6,{\"type\":\"ndarray\",\"array\":{\"type\":\"bytes\",\"data\":\"tdgWC2L43j9vGu/rK4fpvw==\"},\"shape\":[2],\"dtype\":\"float64\",\"order\":\"little\"}],[13,{\"type\":\"ndarray\",\"array\":{\"type\":\"bytes\",\"data\":\"O8rIp5680b8cEDZF3NnuPw==\"},\"shape\":[2],\"dtype\":\"float64\",\"order\":\"little\"}],[1,{\"type\":\"ndarray\",\"array\":{\"type\":\"bytes\",\"data\":\"/bh8LjYb7j+D6/zS6sXZvw==\"},\"shape\":[2],\"dtype\":\"float64\",\"order\":\"little\"}],[30,{\"type\":\"ndarray\",\"array\":{\"type\":\"bytes\",\"data\":\"fOPcraw2qz+4ekMaR/Xuvw==\"},\"shape\":[2],\"dtype\":\"float64\",\"order\":\"little\"}],[12,{\"type\":\"ndarray\",\"array\":{\"type\":\"bytes\",\"data\":\"Fm1XFhbiyL+mPisYAmDRPw==\"},\"shape\":[2],\"dtype\":\"float64\",\"order\":\"little\"}],[8,{\"type\":\"ndarray\",\"array\":{\"type\":\"bytes\",\"data\":\"M7hMRVil7z8p4OE238GzPw==\"},\"shape\":[2],\"dtype\":\"float64\",\"order\":\"little\"}],[21,{\"type\":\"ndarray\",\"array\":{\"type\":\"bytes\",\"data\":\"TPPE/XZx7L/7LRd93nXbvw==\"},\"shape\":[2],\"dtype\":\"float64\",\"order\":\"little\"}],[39,{\"type\":\"ndarray\",\"array\":{\"type\":\"bytes\",\"data\":\"Tel+UanHrT8AAAAAAADwPw==\"},\"shape\":[2],\"dtype\":\"float64\",\"order\":\"little\"}],[46,{\"type\":\"ndarray\",\"array\":{\"type\":\"bytes\",\"data\":\"DQfAgNqR7z+NyjhgqKXMvw==\"},\"shape\":[2],\"dtype\":\"float64\",\"order\":\"little\"}],[32,{\"type\":\"ndarray\",\"array\":{\"type\":\"bytes\",\"data\":\"8o+GNIlC6r9WMcv/Gb7kvw==\"},\"shape\":[2],\"dtype\":\"float64\",\"order\":\"little\"}],[42,{\"type\":\"ndarray\",\"array\":{\"type\":\"bytes\",\"data\":\"G0IoEl235r/wBxPf2FTfPw==\"},\"shape\":[2],\"dtype\":\"float64\",\"order\":\"little\"}],[18,{\"type\":\"ndarray\",\"array\":{\"type\":\"bytes\",\"data\":\"C4vAgwR27D99PqZWouvMPw==\"},\"shape\":[2],\"dtype\":\"float64\",\"order\":\"little\"}],[35,{\"type\":\"ndarray\",\"array\":{\"type\":\"bytes\",\"data\":\"HCOKDiAp5D9SVZBPS+HlPw==\"},\"shape\":[2],\"dtype\":\"float64\",\"order\":\"little\"}],[4,{\"type\":\"ndarray\",\"array\":{\"type\":\"bytes\",\"data\":\"umGGT4kC67+swrkIqyO3vw==\"},\"shape\":[2],\"dtype\":\"float64\",\"order\":\"little\"}],[20,{\"type\":\"ndarray\",\"array\":{\"type\":\"bytes\",\"data\":\"MtMdHaRz7L8j+ucWV2XXPw==\"},\"shape\":[2],\"dtype\":\"float64\",\"order\":\"little\"}],[23,{\"type\":\"ndarray\",\"array\":{\"type\":\"bytes\",\"data\":\"bLp7MELlzD+7xqOd083uPw==\"},\"shape\":[2],\"dtype\":\"float64\",\"order\":\"little\"}],[31,{\"type\":\"ndarray\",\"array\":{\"type\":\"bytes\",\"data\":\"m5y1DP9H5D98D0GazL7ovw==\"},\"shape\":[2],\"dtype\":\"float64\",\"order\":\"little\"}],[26,{\"type\":\"ndarray\",\"array\":{\"type\":\"bytes\",\"data\":\"AsOLpHsc6j/0bFxfl+PgPw==\"},\"shape\":[2],\"dtype\":\"float64\",\"order\":\"little\"}]]}}},\"node_renderer\":{\"type\":\"object\",\"name\":\"GlyphRenderer\",\"id\":\"p4962\",\"attributes\":{\"data_source\":{\"type\":\"object\",\"name\":\"ColumnDataSource\",\"id\":\"p4959\",\"attributes\":{\"selected\":{\"type\":\"object\",\"name\":\"Selection\",\"id\":\"p4960\",\"attributes\":{\"indices\":[],\"line_indices\":[]}},\"selection_policy\":{\"type\":\"object\",\"name\":\"UnionRenderers\",\"id\":\"p4961\"},\"data\":{\"type\":\"map\",\"entries\":[[\"nb_reco_unique\",[4,3,5,5,2,1,6,5,1,6,1,1,2,1,1,4,1,3,2,1,1,1,4,1,1,5,2,3,1,1,2,1,1,6,1,1,1,1,1,1,1,1,1,2,1,1,1]],[\"channel\",[\"HugoD\\u00e9crypte - Actus du jour\",\"France Culture\",\"Underscore_\",\"28 minutes - ARTE\",\"Vox\",\"Journal l'Humanit\\u00e9\",\"Mark Rober\",\"Brut\",\"FabienOlicard\",\"ARTE\",\"Le Parisien\",\"TF1 INFO\",\"TV5MONDE Info\",\"Le Monde\",\"Le Dessous des Cartes - ARTE\",\"Doc Seven\",\"Karambolage en fran\\u00e7ais - ARTE\",\"Chronik Fiction\",\"SEB\",\"ASTUCE INFORMATIK\",\"Louis-San\",\"Fabien Olicard La deuxi\\u00e8me cha\\u00eene\",\"VA Plus\",\"DATMAN\",\"Belsames\",\"ScienceEtonnante \\u00b7 Playlist\",\"Sir Gisby\",\"Konbini\",\"Grace BLOM\",\"Boulevard Voltaire\",\"Europe 1\",\"7 jours sur Terre\",\"LeHuffPost\",\"Dr Nozman\",\"CRANGE Ha\\u00efti\",\"Je bosse en grande distribution\",\"Sofyan\",\"france tv\",\"LouanneManShow\",\"TalkwithEmma \",\"Gurky Le Murky\",\"Maxime Pie\",\"Amixem\",\"Jamy - Epicurieux\",\"Julie I Photographe Fitness & Lifestyle\",\"Learn How to Sign\",\"LE LABO FOU FR\"]],[\"modularity_class\",[1,0,1,3,3,1,1,3,1,3,3,3,3,3,3,0,3,1,0,1,1,1,2,1,1,2,0,2,2,2,0,2,2,0,2,2,2,2,0,0,0,0,0,0,0,0,0]],[\"weight\",[16.161616161616163,12.121212121212121,20.2020202020202,20.2020202020202,8.080808080808081,4.040404040404041,24.242424242424242,20.2020202020202,4.040404040404041,24.242424242424242,4.040404040404041,4.040404040404041,8.080808080808081,4.040404040404041,4.040404040404041,16.161616161616163,4.040404040404041,12.121212121212121,8.080808080808081,4.040404040404041,4.040404040404041,4.040404040404041,16.161616161616163,4.040404040404041,4.040404040404041,20.2020202020202,8.080808080808081,12.121212121212121,4.040404040404041,4.040404040404041,8.080808080808081,4.040404040404041,4.040404040404041,24.242424242424242,4.040404040404041,4.040404040404041,4.040404040404041,4.040404040404041,4.040404040404041,4.040404040404041,4.040404040404041,4.040404040404041,4.040404040404041,8.080808080808081,4.040404040404041,4.040404040404041,4.040404040404041]],[\"color\",[\"#66c2a5\",\"#3288bd\",\"#66c2a5\",\"#e6f598\",\"#e6f598\",\"#66c2a5\",\"#66c2a5\",\"#e6f598\",\"#66c2a5\",\"#e6f598\",\"#e6f598\",\"#e6f598\",\"#e6f598\",\"#e6f598\",\"#e6f598\",\"#3288bd\",\"#e6f598\",\"#66c2a5\",\"#3288bd\",\"#66c2a5\",\"#66c2a5\",\"#66c2a5\",\"#abdda4\",\"#66c2a5\",\"#66c2a5\",\"#abdda4\",\"#3288bd\",\"#abdda4\",\"#abdda4\",\"#abdda4\",\"#3288bd\",\"#abdda4\",\"#abdda4\",\"#3288bd\",\"#abdda4\",\"#abdda4\",\"#abdda4\",\"#abdda4\",\"#3288bd\",\"#3288bd\",\"#3288bd\",\"#3288bd\",\"#3288bd\",\"#3288bd\",\"#3288bd\",\"#3288bd\",\"#3288bd\"]],[\"percent\",[4.040404040404041,3.0303030303030303,5.05050505050505,5.05050505050505,2.0202020202020203,1.0101010101010102,6.0606060606060606,5.05050505050505,1.0101010101010102,6.0606060606060606,1.0101010101010102,1.0101010101010102,2.0202020202020203,1.0101010101010102,1.0101010101010102,4.040404040404041,1.0101010101010102,3.0303030303030303,2.0202020202020203,1.0101010101010102,1.0101010101010102,1.0101010101010102,4.040404040404041,1.0101010101010102,1.0101010101010102,5.05050505050505,2.0202020202020203,3.0303030303030303,1.0101010101010102,1.0101010101010102,2.0202020202020203,1.0101010101010102,1.0101010101010102,6.0606060606060606,1.0101010101010102,1.0101010101010102,1.0101010101010102,1.0101010101010102,1.0101010101010102,1.0101010101010102,1.0101010101010102,1.0101010101010102,1.0101010101010102,2.0202020202020203,1.0101010101010102,1.0101010101010102,1.0101010101010102]],[\"index\",[19,16,43,0,45,22,34,7,15,2,29,40,41,28,27,11,24,9,36,3,33,14,44,10,5,37,38,25,17,6,13,1,30,12,8,21,39,46,32,42,18,35,4,20,23,31,26]]]}}},\"view\":{\"type\":\"object\",\"name\":\"CDSView\",\"id\":\"p4963\",\"attributes\":{\"filter\":{\"type\":\"object\",\"name\":\"AllIndices\",\"id\":\"p4964\"}}},\"glyph\":{\"type\":\"object\",\"name\":\"Circle\",\"id\":\"p5009\",\"attributes\":{\"size\":{\"type\":\"field\",\"field\":\"weight\"},\"fill_color\":{\"type\":\"field\",\"field\":\"color\"}}},\"hover_glyph\":{\"type\":\"object\",\"name\":\"Circle\",\"id\":\"p5010\",\"attributes\":{\"size\":{\"type\":\"field\",\"field\":\"weight\"},\"line_width\":{\"type\":\"value\",\"value\":2},\"fill_color\":{\"type\":\"value\",\"value\":\"darkslategrey\"}}}}},\"edge_renderer\":{\"type\":\"object\",\"name\":\"GlyphRenderer\",\"id\":\"p4969\",\"attributes\":{\"data_source\":{\"type\":\"object\",\"name\":\"ColumnDataSource\",\"id\":\"p4966\",\"attributes\":{\"selected\":{\"type\":\"object\",\"name\":\"Selection\",\"id\":\"p4967\",\"attributes\":{\"indices\":[],\"line_indices\":[]}},\"selection_policy\":{\"type\":\"object\",\"name\":\"UnionRenderers\",\"id\":\"p4968\"},\"data\":{\"type\":\"map\",\"entries\":[[\"edge_color\",[\"gainsboro\",\"gainsboro\",\"gainsboro\",\"gainsboro\",\"gainsboro\",\"gainsboro\",\"gainsboro\",\"gainsboro\",\"gainsboro\",\"tan\",\"gainsboro\",\"gainsboro\",\"tan\",\"gainsboro\",\"gainsboro\",\"gainsboro\",\"gainsboro\",\"gainsboro\",\"gainsboro\",\"gainsboro\",\"gainsboro\",\"gainsboro\",\"gainsboro\",\"gainsboro\",\"tan\",\"gainsboro\",\"gainsboro\",\"gainsboro\",\"gainsboro\",\"gainsboro\",\"gainsboro\",\"gainsboro\",\"gainsboro\",\"gainsboro\",\"tan\",\"gainsboro\",\"gainsboro\",\"gainsboro\",\"gainsboro\",\"gainsboro\",\"gainsboro\",\"gainsboro\",\"gainsboro\",\"gainsboro\",\"gainsboro\",\"tan\",\"gainsboro\",\"gainsboro\",\"gainsboro\",\"gainsboro\",\"gainsboro\",\"gainsboro\",\"gainsboro\",\"gainsboro\",\"gainsboro\",\"gainsboro\",\"gainsboro\",\"gainsboro\",\"tan\",\"gainsboro\",\"gainsboro\",\"gainsboro\",\"gainsboro\",\"gainsboro\",\"gainsboro\",\"gainsboro\",\"gainsboro\",\"tan\",\"gainsboro\",\"gainsboro\",\"gainsboro\",\"gainsboro\",\"gainsboro\",\"gainsboro\",\"gainsboro\",\"gainsboro\",\"gainsboro\",\"gainsboro\",\"tan\",\"gainsboro\",\"tan\",\"gainsboro\",\"gainsboro\",\"gainsboro\",\"gainsboro\",\"gainsboro\",\"gainsboro\",\"gainsboro\",\"gainsboro\",\"gainsboro\",\"gainsboro\",\"gainsboro\",\"gainsboro\",\"gainsboro\",\"gainsboro\",\"gainsboro\",\"gainsboro\",\"gainsboro\",\"gainsboro\"]],[\"alpha\",[0.7,0.7,0.7,0.7,0.7,0.7,0.7,0.7,0.7,1,0.7,0.7,1,0.7,0.7,0.7,0.7,0.7,0.7,0.7,0.7,0.7,0.7,0.7,1,0.7,0.7,0.7,0.7,0.7,0.7,0.7,0.7,0.7,1,0.7,0.7,0.7,0.7,0.7,0.7,0.7,0.7,0.7,0.7,1,0.7,0.7,0.7,0.7,0.7,0.7,0.7,0.7,0.7,0.7,0.7,0.7,1,0.7,0.7,0.7,0.7,0.7,0.7,0.7,0.7,1,0.7,0.7,0.7,0.7,0.7,0.7,0.7,0.7,0.7,0.7,1,0.7,1,0.7,0.7,0.7,0.7,0.7,0.7,0.7,0.7,0.7,0.7,0.7,0.7,0.7,0.7,0.7,0.7,0.7,0.7]],[\"recommendation\",[\"1\",\"1\",\"1\",\"1\",\"1\",\"1\",\"1\",\"1\",\"1\",0,\"1\",\"1\",0,\"1\",\"1\",\"1\",\"1\",\"1\",\"1\",\"1\",\"1\",\"1\",\"1\",\"1\",0,\"1\",\"1\",\"1\",\"1\",\"1\",\"1\",\"1\",\"1\",\"1\",0,\"1\",\"1\",\"1\",\"1\",\"1\",\"1\",\"1\",\"1\",\"1\",\"1\",0,\"1\",\"1\",\"1\",\"1\",\"1\",\"1\",\"1\",\"1\",\"1\",\"1\",\"1\",\"1\",0,\"1\",\"1\",\"1\",\"1\",\"1\",\"1\",\"1\",\"1\",0,\"1\",\"1\",\"1\",\"1\",\"1\",\"1\",\"1\",\"1\",\"1\",\"1\",0,\"1\",0,\"1\",\"1\",\"1\",\"1\",\"1\",\"1\",\"1\",\"1\",\"1\",\"1\",\"1\",\"1\",\"1\",\"1\",\"1\",\"1\",\"1\",\"1\"]],[\"weight\",[1,1,1,1,1,1,1,1,1,2,1,1,2,1,1,1,1,1,1,1,1,1,1,1,2,1,1,1,1,1,1,1,1,1,2,1,1,1,1,1,1,1,1,1,1,2,1,1,1,1,1,1,1,1,1,1,1,1,2,1,1,1,1,1,1,1,1,2,1,1,1,1,1,1,1,1,1,1,2,1,2,1,1,1,1,1,1,1,1,1,1,1,1,1,1,1,1,1,1]],[\"start\",[19,19,19,19,19,19,19,19,19,19,19,43,43,43,43,43,43,43,43,43,43,43,7,7,7,7,7,7,7,7,7,7,7,2,2,2,2,2,2,2,2,2,2,2,9,9,9,9,9,9,9,9,9,9,9,44,44,44,44,44,44,44,44,44,44,44,25,25,25,25,25,25,25,25,25,25,25,12,12,12,12,12,12,12,12,12,12,12,12,12,12,12,12,12,12,12,12,12,12]],[\"end\",[19,19,16,43,0,45,22,34,7,7,15,9,9,36,43,3,19,33,34,7,11,14,2,2,2,7,7,29,34,40,0,45,41,43,43,2,2,2,28,0,0,27,11,24,44,44,10,5,37,37,34,38,43,9,19,44,44,25,25,17,6,13,1,30,37,16,12,12,0,8,25,41,21,37,37,39,46,12,12,12,12,32,42,36,18,35,34,34,38,11,11,4,13,20,20,23,31,16,26]]]}}},\"view\":{\"type\":\"object\",\"name\":\"CDSView\",\"id\":\"p4970\",\"attributes\":{\"filter\":{\"type\":\"object\",\"name\":\"AllIndices\",\"id\":\"p4971\"}}},\"glyph\":{\"type\":\"object\",\"name\":\"MultiLine\",\"id\":\"p5011\",\"attributes\":{\"line_color\":{\"type\":\"field\",\"field\":\"edge_color\"},\"line_alpha\":{\"type\":\"field\",\"field\":\"alpha\"},\"line_width\":{\"type\":\"field\",\"field\":\"weight\"}}},\"hover_glyph\":{\"type\":\"object\",\"name\":\"MultiLine\",\"id\":\"p5012\",\"attributes\":{\"line_color\":{\"type\":\"value\",\"value\":\"darkslategrey\"},\"line_width\":{\"type\":\"field\",\"field\":\"weight\"}}}}},\"selection_policy\":{\"type\":\"object\",\"name\":\"NodesAndLinkedEdges\",\"id\":\"p5013\"},\"inspection_policy\":{\"type\":\"object\",\"name\":\"NodesAndLinkedEdges\",\"id\":\"p5014\"}}}],\"toolbar\":{\"type\":\"object\",\"name\":\"Toolbar\",\"id\":\"p4983\",\"attributes\":{\"tools\":[{\"type\":\"object\",\"name\":\"HoverTool\",\"id\":\"p4996\",\"attributes\":{\"renderers\":\"auto\",\"tooltips\":[[\"channel\",\"@channel\"],[\"percent\",\"@percent\"],[\"Modularity Class\",\"@modularity_class\"],[\"Uniq rec\",\"@nb_reco_unique\"]]}},{\"type\":\"object\",\"name\":\"BoxZoomTool\",\"id\":\"p4997\",\"attributes\":{\"overlay\":{\"type\":\"object\",\"name\":\"BoxAnnotation\",\"id\":\"p4998\",\"attributes\":{\"syncable\":false,\"level\":\"overlay\",\"visible\":false,\"left\":{\"type\":\"number\",\"value\":\"nan\"},\"right\":{\"type\":\"number\",\"value\":\"nan\"},\"top\":{\"type\":\"number\",\"value\":\"nan\"},\"bottom\":{\"type\":\"number\",\"value\":\"nan\"},\"left_units\":\"canvas\",\"right_units\":\"canvas\",\"top_units\":\"canvas\",\"bottom_units\":\"canvas\",\"line_color\":\"black\",\"line_alpha\":1.0,\"line_width\":2,\"line_dash\":[4,4],\"fill_color\":\"lightgrey\",\"fill_alpha\":0.5}}}},{\"type\":\"object\",\"name\":\"PanTool\",\"id\":\"p5003\"},{\"type\":\"object\",\"name\":\"ZoomOutTool\",\"id\":\"p5004\",\"attributes\":{\"renderers\":\"auto\"}},{\"type\":\"object\",\"name\":\"ZoomInTool\",\"id\":\"p5005\",\"attributes\":{\"renderers\":\"auto\"}},{\"type\":\"object\",\"name\":\"ResetTool\",\"id\":\"p5006\"},{\"type\":\"object\",\"name\":\"SaveTool\",\"id\":\"p5007\"},{\"type\":\"object\",\"name\":\"TapTool\",\"id\":\"p5008\",\"attributes\":{\"renderers\":\"auto\"}}]}},\"center\":[{\"type\":\"object\",\"name\":\"Grid\",\"id\":\"p4990\",\"attributes\":{\"axis\":{\"type\":\"object\",\"name\":\"LinearAxis\",\"id\":\"p4986\",\"attributes\":{\"ticker\":{\"type\":\"object\",\"name\":\"BasicTicker\",\"id\":\"p4987\",\"attributes\":{\"mantissas\":[1,2,5]}},\"formatter\":{\"type\":\"object\",\"name\":\"BasicTickFormatter\",\"id\":\"p4988\"},\"major_label_policy\":{\"type\":\"object\",\"name\":\"AllLabels\",\"id\":\"p4989\"}}},\"grid_line_color\":null}},{\"type\":\"object\",\"name\":\"Grid\",\"id\":\"p4995\",\"attributes\":{\"dimension\":1,\"axis\":{\"type\":\"object\",\"name\":\"LinearAxis\",\"id\":\"p4991\",\"attributes\":{\"ticker\":{\"type\":\"object\",\"name\":\"BasicTicker\",\"id\":\"p4992\",\"attributes\":{\"mantissas\":[1,2,5]}},\"formatter\":{\"type\":\"object\",\"name\":\"BasicTickFormatter\",\"id\":\"p4993\"},\"major_label_policy\":{\"type\":\"object\",\"name\":\"AllLabels\",\"id\":\"p4994\"}}},\"grid_line_color\":null}}]}}]}};\n  const render_items = [{\"docid\":\"d306de09-80bc-4307-8ed5-e2583acc1f1a\",\"roots\":{\"p4975\":\"c0129e53-83c0-4478-a07c-acc3e7209358\"},\"root_ids\":[\"p4975\"]}];\n  root.Bokeh.embed.embed_items_notebook(docs_json, render_items);\n  }\n  if (root.Bokeh !== undefined) {\n    embed_document(root);\n  } else {\n    let attempts = 0;\n    const timer = setInterval(function(root) {\n      if (root.Bokeh !== undefined) {\n        clearInterval(timer);\n        embed_document(root);\n      } else {\n        attempts++;\n        if (attempts > 100) {\n          clearInterval(timer);\n          console.log(\"Bokeh: ERROR: Unable to run BokehJS code because BokehJS library is missing\");\n        }\n      }\n    }, 10, root)\n  }\n})(window);",
      "application/vnd.bokehjs_exec.v0+json": ""
     },
     "metadata": {
      "application/vnd.bokehjs_exec.v0+json": {
       "id": "p4975"
      }
     },
     "output_type": "display_data"
    }
   ],
   "source": [
    "df_recom_all = load_data_csv('./data/Anais_methode3.txt')\n",
    "df_recom_all.to_csv('Anais_methode3.csv',sep=';')\n",
    "df_relation_recom = create_table_recommendation(df_recom_all)\n",
    "analaaa=df_relation_recom\n",
    "p = plot_recommendation(df_relation_recom)\n",
    "# save_bokeh_graph(p,'HD_m4_anais')"
   ]
  },
  {
   "cell_type": "code",
   "execution_count": 83,
   "metadata": {},
   "outputs": [],
   "source": [
    "save_bokeh_graph(p,'m3_recommendation_anais')"
   ]
  },
  {
   "cell_type": "code",
   "execution_count": null,
   "metadata": {},
   "outputs": [],
   "source": []
  }
 ],
 "metadata": {
  "kernelspec": {
   "display_name": "IC05",
   "language": "python",
   "name": "python3"
  },
  "language_info": {
   "codemirror_mode": {
    "name": "ipython",
    "version": 3
   },
   "file_extension": ".py",
   "mimetype": "text/x-python",
   "name": "python",
   "nbconvert_exporter": "python",
   "pygments_lexer": "ipython3",
   "version": "3.11.6"
  }
 },
 "nbformat": 4,
 "nbformat_minor": 2
}
