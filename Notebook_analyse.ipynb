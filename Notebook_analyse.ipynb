{
 "cells": [
  {
   "cell_type": "code",
   "execution_count": 5,
   "metadata": {},
   "outputs": [
    {
     "name": "stderr",
     "output_type": "stream",
     "text": [
      "[nltk_data] Downloading package stopwords to\n",
      "[nltk_data]     C:\\Users\\mtlsa\\AppData\\Roaming\\nltk_data...\n",
      "[nltk_data]   Package stopwords is already up-to-date!\n"
     ]
    }
   ],
   "source": [
    "import json\n",
    "import pandas as pd \n",
    "import re\n",
    "import os\n",
    "\n",
    "from wordcloud import WordCloud\n",
    "\n",
    "import gensim\n",
    "from gensim.utils import simple_preprocess\n",
    "import nltk\n",
    "nltk.download('stopwords')\n",
    "from nltk.corpus import stopwords\n",
    "import gensim.corpora as corpora\n",
    "from nltk.tokenize import RegexpTokenizer\n",
    "from nltk.stem.porter import PorterStemmer\n",
    "\n",
    "from pprint import pprint\n",
    "\n",
    "import pickle \n",
    "import pyLDAvis\n",
    "import pyLDAvis.gensim_models\n",
    "\n",
    "import matplotlib.pyplot as plt\n",
    "import numpy as np\n",
    "\n",
    "\n",
    "\n",
    "# enregistrer le json dans le dossier de l'extension ?\n",
    "#ajouter la channel\n",
    "#application qui montre evolution débat ?"
   ]
  },
  {
   "cell_type": "code",
   "execution_count": 6,
   "metadata": {},
   "outputs": [],
   "source": [
    "def load_data(name):\n",
    "    # Opening JSON file\n",
    "    f = open(name)\n",
    "    data = json.load(f)\n",
    "    df_data = pd.DataFrame(data).transpose()\n",
    "    return df_data"
   ]
  },
  {
   "cell_type": "code",
   "execution_count": 10,
   "metadata": {},
   "outputs": [
    {
     "name": "stderr",
     "output_type": "stream",
     "text": [
      "<>:8: DeprecationWarning: invalid escape sequence '\\.'\n",
      "<>:8: DeprecationWarning: invalid escape sequence '\\.'\n",
      "C:\\Users\\mtlsa\\AppData\\Local\\Temp\\ipykernel_20232\\4231314520.py:8: DeprecationWarning: invalid escape sequence '\\.'\n",
      "  df_data = df_data.map(lambda x: re.sub('[,\\.!?/:;]', '', x))\n"
     ]
    }
   ],
   "source": [
    "def preprocess_data(df_data): \n",
    "    \"\"\"_summary_\n",
    "\n",
    "    Args:\n",
    "        df_data : data is a Series of texte\n",
    "    \"\"\"\n",
    "    # Remove punctuation\n",
    "    df_data = df_data.map(lambda x: re.sub('[,\\.!?/:;]', '', x))\n",
    "\n",
    "    # Convert the titles to lowercase\n",
    "    df_data= df_data.map(lambda x: x.lower())\n",
    "    return df_data\n"
   ]
  },
  {
   "cell_type": "code",
   "execution_count": 17,
   "metadata": {},
   "outputs": [],
   "source": [
    "def sentence2word(df_data):\n",
    "    \"\"\"_summary_\n",
    "\n",
    "    Args:\n",
    "        df_data (_type_): _description_\n",
    "\n",
    "    Returns:\n",
    "        list of list: list the words of each text\n",
    "    \"\"\"\n",
    "    stop_words = stopwords.words('english')\n",
    "    stop_words.extend(['from', 'subject', 're', 'edu', 'use'])\n",
    "\n",
    "    return [[word for word in simple_preprocess(str(doc)) \n",
    "        if word not in stop_words] for doc in df_data]\n",
    "\n",
    "# simple_preprocess is a function of gensim.utils\n",
    "# Convert a document into a list of tokens.\n",
    "\n",
    "# This lowercases, tokenizes, de-accents (optional). \n",
    "# – the output are final tokens = unicode strings, that won’t be processed any further."
   ]
  },
  {
   "cell_type": "code",
   "execution_count": 40,
   "metadata": {},
   "outputs": [],
   "source": [
    "data = preprocess_data(load_data('navigation_data.txt')['video_description'])\n",
    "data2word = sentence2word(data)\n"
   ]
  },
  {
   "cell_type": "code",
   "execution_count": 41,
   "metadata": {},
   "outputs": [],
   "source": [
    "def create_cloud(df_data):\n",
    "    # Join the different processed titles together.\n",
    "    long_string = ','.join([ item for row in df_data for item in row])\n",
    "    # Create a WordCloud object\n",
    "    wordcloud = WordCloud(background_color=\"white\", max_words=5000, contour_width=3, contour_color='steelblue')\n",
    "    # Generate a word cloud\n",
    "    wordcloud.generate(long_string)\n",
    "\n",
    "    return wordcloud"
   ]
  },
  {
   "cell_type": "code",
   "execution_count": 38,
   "metadata": {},
   "outputs": [
    {
     "name": "stderr",
     "output_type": "stream",
     "text": [
      "c:\\Users\\mtlsa\\anaconda3\\envs\\IC05\\Lib\\site-packages\\wordcloud\\wordcloud.py:106: MatplotlibDeprecationWarning: The get_cmap function was deprecated in Matplotlib 3.7 and will be removed two minor releases later. Use ``matplotlib.colormaps[name]`` or ``matplotlib.colormaps.get_cmap(obj)`` instead.\n",
      "  self.colormap = plt.cm.get_cmap(colormap)\n"
     ]
    }
   ],
   "source": [
    "w = create_cloud(data2word)\n",
    "w.to_image()"
   ]
  },
  {
   "cell_type": "markdown",
   "metadata": {},
   "source": [
    "visual representation of most common words. It is key to understanding the data and ensuring we are on the right track, and if any more preprocessing is necessary before training the model."
   ]
  },
  {
   "cell_type": "code",
   "execution_count": null,
   "metadata": {},
   "outputs": [],
   "source": []
  },
  {
   "cell_type": "markdown",
   "metadata": {},
   "source": [
    "## LSA Analysis"
   ]
  },
  {
   "cell_type": "markdown",
   "metadata": {},
   "source": [
    "Next, let’s work to transform the textual data in a format that will serve as an input for training LDA model. We start by tokenizing the text and removing stopwords. Next, we convert the tokenized object into a corpus and dictionary."
   ]
  },
  {
   "cell_type": "code",
   "execution_count": 42,
   "metadata": {},
   "outputs": [],
   "source": [
    "def preprocess_data(doc_set):\n",
    "    \"\"\"\n",
    "    Input  : docuemnt list\n",
    "    Purpose: preprocess text (tokenize, removing stopwords, and stemming)\n",
    "    Output : preprocessed text\n",
    "    \"\"\"\n",
    "    # initialize regex tokenizer\n",
    "    tokenizer = RegexpTokenizer(r'\\w+')\n",
    "    # create English stop words list\n",
    "    en_stop = set(stopwords.words('english'))\n",
    "    # Create p_stemmer of class PorterStemmer\n",
    "    p_stemmer = PorterStemmer()\n",
    "    # list for tokenized documents in loop\n",
    "    texts = []\n",
    "    # loop through document list\n",
    "    for i in doc_set:\n",
    "        # clean and tokenize document string\n",
    "        raw = i.lower()\n",
    "        tokens = tokenizer.tokenize(raw)\n",
    "        # remove stop words from tokens\n",
    "        stopped_tokens = [i for i in tokens if not i in en_stop]\n",
    "        # stem tokens\n",
    "        stemmed_tokens = [p_stemmer.stem(i) for i in stopped_tokens]\n",
    "        # add tokens to list\n",
    "        texts.append(stemmed_tokens)\n",
    "    return texts"
   ]
  },
  {
   "cell_type": "code",
   "execution_count": 43,
   "metadata": {},
   "outputs": [],
   "source": [
    "def prepare_corpus(doc_clean):\n",
    "    \"\"\"\n",
    "    Input  : clean document\n",
    "    Purpose: create term dictionary of our courpus and Converting list of documents (corpus) into Document Term Matrix\n",
    "    Output : term dictionary and Document Term Matrix\n",
    "    \"\"\"\n",
    "    # Creating the term dictionary of our courpus, where every unique term is assigned an index. dictionary = corpora.Dictionary(doc_clean)\n",
    "    dictionary = corpora.Dictionary(doc_clean)\n",
    "    # Converting list of documents (corpus) into Document Term Matrix using dictionary prepared above.\n",
    "    doc_term_matrix = [dictionary.doc2bow(doc) for doc in doc_clean]\n",
    "    # generate LDA model\n",
    "    return dictionary,doc_term_matrix\n"
   ]
  },
  {
   "cell_type": "code",
   "execution_count": 49,
   "metadata": {},
   "outputs": [],
   "source": [
    "def create_gensim_lsa_model(doc_clean,number_of_topics,words):\n",
    "    \"\"\"\n",
    "    Input  : clean document, number of topics and number of words associated with each topic\n",
    "    Purpose: create LSA model using gensim\n",
    "    Output : return LSA model\n",
    "    \"\"\"\n",
    "    dictionary,doc_term_matrix = prepare_corpus(doc_clean)\n",
    "    # generate LSA model\n",
    "    lsamodel = gensim.models.LsiModel(doc_term_matrix, num_topics=number_of_topics, id2word = dictionary)  # train model\n",
    "    print(lsamodel.print_topics(num_topics=number_of_topics, num_words=words))\n",
    "    return lsamodel"
   ]
  },
  {
   "cell_type": "code",
   "execution_count": 50,
   "metadata": {},
   "outputs": [],
   "source": [
    "def compute_coherence_values(dictionary, doc_term_matrix, doc_clean, stop, start=2, step=3):\n",
    "    \"\"\"\n",
    "    Input   : dictionary : Gensim dictionary\n",
    "              corpus : Gensim corpus\n",
    "              texts : List of input texts\n",
    "              stop : Max num of topics\n",
    "    purpose : Compute c_v coherence for various number of topics\n",
    "    Output  : model_list : List of LSA topic models\n",
    "              coherence_values : Coherence values corresponding to the LDA model with respective number of topics\n",
    "    \"\"\"\n",
    "    coherence_values = []\n",
    "    model_list = []\n",
    "    for num_topics in range(start, stop, step):\n",
    "        # generate LSA model\n",
    "        model = gensim.models.LsiModel(doc_term_matrix, num_topics=num_topics, id2word = dictionary)  # train model\n",
    "        model_list.append(model)\n",
    "        coherencemodel = gensim.models.CoherenceModel(model=model, texts=doc_clean, dictionary=dictionary, coherence='c_v')\n",
    "        coherence_values.append(coherencemodel.get_coherence())\n",
    "    return model_list, coherence_values"
   ]
  },
  {
   "cell_type": "code",
   "execution_count": 51,
   "metadata": {},
   "outputs": [],
   "source": [
    "def plot_graph(doc_clean,start, stop, step):\n",
    "    dictionary,doc_term_matrix=prepare_corpus(doc_clean)\n",
    "    model_list, coherence_values = compute_coherence_values(dictionary, doc_term_matrix,doc_clean,\n",
    "                                                            stop, start, step)\n",
    "    # Show graph\n",
    "    x = range(start, stop, step)\n",
    "    plt.plot(x, coherence_values)\n",
    "    plt.xlabel(\"Number of Topics\")\n",
    "    plt.ylabel(\"Coherence score\")\n",
    "    plt.legend((\"coherence_values\"), loc='best')\n",
    "    plt.show()\n",
    "\n",
    "    return x[np.argmax(coherence_values)],model_list[np.argmax(coherence_values)]\n",
    "\n"
   ]
  },
  {
   "cell_type": "code",
   "execution_count": 52,
   "metadata": {},
   "outputs": [
    {
     "name": "stderr",
     "output_type": "stream",
     "text": [
      "c:\\Users\\mtlsa\\anaconda3\\envs\\IC05\\Lib\\site-packages\\gensim\\models\\lsimodel.py:963: DeprecationWarning: Please use `csc_matvecs` from the `scipy.sparse` namespace, the `scipy.sparse.sparsetools` namespace is deprecated.\n",
      "  sparsetools.csc_matvecs(\n",
      "c:\\Users\\mtlsa\\anaconda3\\envs\\IC05\\Lib\\site-packages\\scipy\\linalg\\_special_matrices.py:154: DeprecationWarning: 'tri'/'tril/'triu' are deprecated as of SciPy 1.11.0 and will be removed in v1.13.0. Please use numpy.(tri/tril/triu) instead.\n",
      "  out = (1 - tri(m.shape[0], m.shape[1], k - 1, m.dtype.char)) * m\n",
      "c:\\Users\\mtlsa\\anaconda3\\envs\\IC05\\Lib\\site-packages\\scipy\\linalg\\_special_matrices.py:154: DeprecationWarning: 'tri'/'tril/'triu' are deprecated as of SciPy 1.11.0 and will be removed in v1.13.0. Please use numpy.(tri/tril/triu) instead.\n",
      "  out = (1 - tri(m.shape[0], m.shape[1], k - 1, m.dtype.char)) * m\n",
      "c:\\Users\\mtlsa\\anaconda3\\envs\\IC05\\Lib\\site-packages\\scipy\\linalg\\_special_matrices.py:154: DeprecationWarning: 'tri'/'tril/'triu' are deprecated as of SciPy 1.11.0 and will be removed in v1.13.0. Please use numpy.(tri/tril/triu) instead.\n",
      "  out = (1 - tri(m.shape[0], m.shape[1], k - 1, m.dtype.char)) * m\n",
      "c:\\Users\\mtlsa\\anaconda3\\envs\\IC05\\Lib\\site-packages\\gensim\\models\\lsimodel.py:963: DeprecationWarning: Please use `csc_matvecs` from the `scipy.sparse` namespace, the `scipy.sparse.sparsetools` namespace is deprecated.\n",
      "  sparsetools.csc_matvecs(\n",
      "c:\\Users\\mtlsa\\anaconda3\\envs\\IC05\\Lib\\site-packages\\scipy\\linalg\\_special_matrices.py:154: DeprecationWarning: 'tri'/'tril/'triu' are deprecated as of SciPy 1.11.0 and will be removed in v1.13.0. Please use numpy.(tri/tril/triu) instead.\n",
      "  out = (1 - tri(m.shape[0], m.shape[1], k - 1, m.dtype.char)) * m\n",
      "c:\\Users\\mtlsa\\anaconda3\\envs\\IC05\\Lib\\site-packages\\scipy\\linalg\\_special_matrices.py:154: DeprecationWarning: 'tri'/'tril/'triu' are deprecated as of SciPy 1.11.0 and will be removed in v1.13.0. Please use numpy.(tri/tril/triu) instead.\n",
      "  out = (1 - tri(m.shape[0], m.shape[1], k - 1, m.dtype.char)) * m\n",
      "c:\\Users\\mtlsa\\anaconda3\\envs\\IC05\\Lib\\site-packages\\scipy\\linalg\\_special_matrices.py:154: DeprecationWarning: 'tri'/'tril/'triu' are deprecated as of SciPy 1.11.0 and will be removed in v1.13.0. Please use numpy.(tri/tril/triu) instead.\n",
      "  out = (1 - tri(m.shape[0], m.shape[1], k - 1, m.dtype.char)) * m\n",
      "c:\\Users\\mtlsa\\anaconda3\\envs\\IC05\\Lib\\site-packages\\gensim\\models\\lsimodel.py:963: DeprecationWarning: Please use `csc_matvecs` from the `scipy.sparse` namespace, the `scipy.sparse.sparsetools` namespace is deprecated.\n",
      "  sparsetools.csc_matvecs(\n",
      "c:\\Users\\mtlsa\\anaconda3\\envs\\IC05\\Lib\\site-packages\\scipy\\linalg\\_special_matrices.py:154: DeprecationWarning: 'tri'/'tril/'triu' are deprecated as of SciPy 1.11.0 and will be removed in v1.13.0. Please use numpy.(tri/tril/triu) instead.\n",
      "  out = (1 - tri(m.shape[0], m.shape[1], k - 1, m.dtype.char)) * m\n",
      "c:\\Users\\mtlsa\\anaconda3\\envs\\IC05\\Lib\\site-packages\\scipy\\linalg\\_special_matrices.py:154: DeprecationWarning: 'tri'/'tril/'triu' are deprecated as of SciPy 1.11.0 and will be removed in v1.13.0. Please use numpy.(tri/tril/triu) instead.\n",
      "  out = (1 - tri(m.shape[0], m.shape[1], k - 1, m.dtype.char)) * m\n",
      "c:\\Users\\mtlsa\\anaconda3\\envs\\IC05\\Lib\\site-packages\\scipy\\linalg\\_special_matrices.py:154: DeprecationWarning: 'tri'/'tril/'triu' are deprecated as of SciPy 1.11.0 and will be removed in v1.13.0. Please use numpy.(tri/tril/triu) instead.\n",
      "  out = (1 - tri(m.shape[0], m.shape[1], k - 1, m.dtype.char)) * m\n",
      "c:\\Users\\mtlsa\\anaconda3\\envs\\IC05\\Lib\\site-packages\\gensim\\models\\lsimodel.py:963: DeprecationWarning: Please use `csc_matvecs` from the `scipy.sparse` namespace, the `scipy.sparse.sparsetools` namespace is deprecated.\n",
      "  sparsetools.csc_matvecs(\n",
      "c:\\Users\\mtlsa\\anaconda3\\envs\\IC05\\Lib\\site-packages\\scipy\\linalg\\_special_matrices.py:154: DeprecationWarning: 'tri'/'tril/'triu' are deprecated as of SciPy 1.11.0 and will be removed in v1.13.0. Please use numpy.(tri/tril/triu) instead.\n",
      "  out = (1 - tri(m.shape[0], m.shape[1], k - 1, m.dtype.char)) * m\n",
      "c:\\Users\\mtlsa\\anaconda3\\envs\\IC05\\Lib\\site-packages\\scipy\\linalg\\_special_matrices.py:154: DeprecationWarning: 'tri'/'tril/'triu' are deprecated as of SciPy 1.11.0 and will be removed in v1.13.0. Please use numpy.(tri/tril/triu) instead.\n",
      "  out = (1 - tri(m.shape[0], m.shape[1], k - 1, m.dtype.char)) * m\n",
      "c:\\Users\\mtlsa\\anaconda3\\envs\\IC05\\Lib\\site-packages\\scipy\\linalg\\_special_matrices.py:154: DeprecationWarning: 'tri'/'tril/'triu' are deprecated as of SciPy 1.11.0 and will be removed in v1.13.0. Please use numpy.(tri/tril/triu) instead.\n",
      "  out = (1 - tri(m.shape[0], m.shape[1], k - 1, m.dtype.char)) * m\n"
     ]
    },
    {
     "data": {
      "image/png": "[encoded data removed]",
      "text/plain": [
       "<Figure size 640x480 with 1 Axes>"
      ]
     },
     "metadata": {},
     "output_type": "display_data"
    }
   ],
   "source": [
    "doc_clean = preprocess_data(load_data('navigation_data.txt')['video_description'].values)\n",
    "\n",
    "start,stop,step=2,6,1\n",
    "number_of_topics_opt,model_opt = plot_graph(doc_clean,start,stop,step)"
   ]
  },
  {
   "cell_type": "code",
   "execution_count": 53,
   "metadata": {},
   "outputs": [
    {
     "data": {
      "text/plain": [
       "[(0,\n",
       "  '-0.654*\"bilingu\" + -0.378*\"brain\" + -0.206*\"children\" + -0.206*\"benefit\" + -0.172*\"skill\" + -0.172*\"languag\" + -0.155*\"learn\" + -0.120*\"better\" + -0.120*\"social\" + -0.103*\"improv\"'),\n",
       " (1,\n",
       "  '-0.285*\"product\" + -0.285*\"appétit\" + -0.285*\"bon\" + -0.228*\"produc\" + -0.175*\"http\" + -0.171*\"assist\" + -0.171*\"dessert\" + -0.171*\"director\" + -0.171*\"editor\" + -0.171*\"provid\"'),\n",
       " (2,\n",
       "  '0.268*\"plu\" + 0.268*\"et\" + 0.268*\"de\" + 0.179*\"langu\" + 0.179*\"ted\" + 0.179*\"leçon\" + 0.179*\"une\" + 0.179*\"nacamulli\" + 0.179*\"il\" + 0.179*\"mia\"')]"
      ]
     },
     "execution_count": 53,
     "metadata": {},
     "output_type": "execute_result"
    }
   ],
   "source": [
    "# LSA Model\n",
    "words=10\n",
    "model_opt.print_topics(num_topics=number_of_topics_opt, num_words=words)\n",
    "# clean_text=preprocess_data(df_data['video_description_processed'])\n",
    "# model=create_gensim_lsa_model(clean_text,number_of_topics_opt,words)"
   ]
  },
  {
   "cell_type": "markdown",
   "metadata": {},
   "source": [
    "## LDA"
   ]
  },
  {
   "cell_type": "code",
   "execution_count": 55,
   "metadata": {},
   "outputs": [],
   "source": [
    "preprocessed_data = preprocess_data(load_data('navigation_data.txt')['video_description'].values)\n",
    "dictionary,doc_term_matrix = prepare_corpus(preprocessed_data)\n"
   ]
  },
  {
   "cell_type": "code",
   "execution_count": 57,
   "metadata": {},
   "outputs": [
    {
     "name": "stdout",
     "output_type": "stream",
     "text": [
      "[(0,\n",
      "  '0.044*\"bilingu\" + 0.022*\"brain\" + 0.013*\"benefit\" + 0.012*\"children\" + '\n",
      "  '0.011*\"skill\" + 0.011*\"languag\" + 0.009*\"learn\" + 0.008*\"better\" + '\n",
      "  '0.008*\"social\" + 0.008*\"recip\"'),\n",
      " (1,\n",
      "  '0.020*\"bilingu\" + 0.014*\"brain\" + 0.008*\"children\" + 0.007*\"learn\" + '\n",
      "  '0.007*\"languag\" + 0.007*\"benefit\" + 0.006*\"http\" + 0.006*\"skill\" + '\n",
      "  '0.006*\"et\" + 0.006*\"de\"'),\n",
      " (2,\n",
      "  '0.033*\"bilingu\" + 0.020*\"brain\" + 0.012*\"children\" + 0.011*\"benefit\" + '\n",
      "  '0.009*\"learn\" + 0.009*\"skill\" + 0.009*\"languag\" + 0.007*\"improv\" + '\n",
      "  '0.006*\"social\" + 0.006*\"better\"')]\n"
     ]
    }
   ],
   "source": [
    "# number of topics\n",
    "num_topics = number_of_topics_opt\n",
    "# Build LDA model\n",
    "lda_model = gensim.models.LdaMulticore(corpus=doc_term_matrix,\n",
    "                                       id2word=dictionary,\n",
    "                                       num_topics=num_topics)\n",
    "# Print the Keyword in the 10 topics\n",
    "pprint(lda_model.print_topics())\n",
    "doc_lda = lda_model[doc_term_matrix]"
   ]
  },
  {
   "cell_type": "markdown",
   "metadata": {},
   "source": [
    "Now that we have a trained model let’s visualize the topics for interpretability. To do so, we’ll use a popular visualization package, pyLDAvis which is designed to help interactively with:\n",
    "\n",
    "Better understanding and interpreting individual topics, and\n",
    "Better understanding the relationships between the topics.\n",
    "For (1), you can manually select each topic to view its top most frequent and/or “relevant” terms, using different values of the λ parameter. This can help when you’re trying to assign a human interpretable name or “meaning” to each topic.\n",
    "\n",
    "For (2), exploring the Intertopic Distance Plot can help you learn about how topics relate to each other, including potential higher-level structure between groups of topics."
   ]
  },
  {
   "cell_type": "code",
   "execution_count": 59,
   "metadata": {},
   "outputs": [
    {
     "data": {
      "text/html": [
       "\n",
       "<link rel=\"stylesheet\" type=\"text/css\" href=\"https://cdn.jsdelivr.net/gh/bmabey/pyLDAvis@3.4.0/pyLDAvis/js/ldavis.v1.0.0.css\">\n",
       "\n",
       "\n",
       "<div id=\"ldavis_el2023216075964524165858430471\" style=\"background-color:white;\"></div>\n",
       "<script type=\"text/javascript\">\n",
       "\n",
       "var ldavis_el2023216075964524165858430471_data = {\"mdsDat\": {\"x\": [-0.014384309974336236, 0.002698119379578389, 0.011686190594757843], \"y\": [0.00037539268249828684, -0.0010888515353747435, 0.0007134588528764267], \"topics\": [1, 2, 3], \"cluster\": [1, 1, 1], \"Freq\": [69.47156196734198, 20.099065673868147, 10.429372358789868]}, \"tinfo\": {\"Term\": [\"bilingu\", \"brain\", \"children\", \"learn\", \"et\", \"de\", \"plu\", \"languag\", \"benefit\", \"http\", \"skill\", \"app\\u00e9tit\", \"bon\", \"social\", \"improv\", \"better\", \"langu\", \"par\", \"un\", \"il\", \"le\\u00e7on\", \"ted\", \"ed\", \"connaitr\", \"mia\", \"une\", \"ou\", \"que\", \"nacamulli\", \"product\", \"recip\", \"side\", \"thedevilwearssalad\", \"winter\", \"squash\", \"delici\", \"full\", \"perfect\", \"butternut\", \"dish\", \"smoki\", \"christma\", \"littl\", \"someth\", \"hasselback\", \"great\", \"prep\", \"bruss\", \"sweet\", \"savouri\", \"brussel\", \"basil\", \"celebr\", \"execut\", \"give\", \"pageload\", \"fresh\", \"need\", \"thanksgiv\", \"sprout\", \"way\", \"bilingu\", \"benefit\", \"brain\", \"skill\", \"com\", \"look\", \"beyond\", \"languag\", \"children\", \"develop\", \"better\", \"emot\", \"social\", \"new\", \"store\", \"http\", \"focu\", \"learn\", \"app\", \"improv\", \"monolingu\", \"societi\", \"make\", \"found\", \"product\", \"research\", \"think\", \"fabulingua\", \"bon\", \"app\\u00e9tit\", \"cerveau\", \"que\", \"plu\", \"ou\", \"nacamulli\", \"certain\", \"une\", \"un\", \"titr\", \"rendr\", \"le\\u00e7on\", \"ed\", \"langu\", \"san\", \"et\", \"de\", \"il\", \"complex\", \"\\u00e0\", \"est\", \"speakin\", \"permet\", \"voyag\", \"chose\", \"avantag\", \"lesson\", \"la\", \"ted\", \"connaitr\", \"anim\\u00e9\", \"par\", \"app\\u00e9tit\", \"want\", \"bilingu\", \"brain\", \"learn\", \"children\", \"improv\", \"educ\", \"benefit\", \"think\", \"bon\", \"languag\", \"skill\", \"function\", \"commun\", \"societi\", \"editor\", \"social\", \"monolingu\", \"product\", \"better\", \"make\", \"blog\", \"develop\", \"fabulingua\", \"emot\", \"director\", \"http\", \"store\", \"app\", \"focu\", \"et\", \"de\", \"langu\", \"par\", \"un\", \"il\", \"plu\", \"le\\u00e7on\", \"facil\", \"cerveaux\", \"ted\", \"ed\", \"compl\\u00e8t\", \"speakin\", \"autr\", \"connaitr\", \"lesson\", \"comm\", \"type\", \"\\u00e9vident\", \"mai\", \"avoir\", \"mia\", \"garder\", \"regard\", \"avantag\", \"rendr\", \"une\", \"complex\", \"ou\", \"nacamulli\", \"que\", \"cerveau\", \"bilingu\", \"brain\", \"http\", \"learn\", \"multilingu\", \"children\", \"languag\", \"bon\", \"skill\", \"benefit\", \"better\", \"social\", \"app\\u00e9tit\", \"produc\", \"develop\", \"product\", \"improv\", \"com\"], \"Freq\": [29.0, 16.0, 8.0, 6.0, 1.0, 1.0, 1.0, 7.0, 9.0, 4.0, 7.0, 3.0, 3.0, 5.0, 4.0, 5.0, 1.0, 1.0, 1.0, 1.0, 1.0, 1.0, 1.0, 1.0, 1.0, 1.0, 1.0, 1.0, 1.0, 3.0, 4.0275724569123765, 1.9901717492472615, 1.9583935350214818, 1.9545761349111563, 1.9481690730122587, 1.9417037774862318, 1.935617743944551, 1.914869350401059, 1.891110030532315, 1.8880641640307851, 1.1989129241268333, 1.1900744224432867, 1.1901995627909476, 1.1879536033037723, 1.1808329936205395, 1.173290375992621, 1.180653336685779, 1.1726698781103584, 1.173414525129607, 1.1664107544046358, 1.1636535780120663, 1.1571424389923417, 1.1569505158254838, 3.537082014525253, 1.1509150340282046, 1.1708125971089374, 1.1459945403384495, 1.1485964683591192, 1.1434000463978387, 1.1480691442802635, 2.926756679612827, 23.163279118665134, 7.042984010466811, 11.919198336968801, 5.848932974698601, 2.7325457985180157, 2.2442008316359354, 2.78598419620653, 5.749677598198116, 6.621353717048046, 3.7013020820431506, 4.1310392397663165, 3.2019977943380096, 4.0808289674421125, 2.1607218120341116, 2.656357133427439, 3.4410775612345934, 2.6367841918426187, 4.6611126892305546, 2.582879429531732, 3.2783418317018205, 2.932136227746229, 2.9361151951965048, 2.916182196334157, 2.564941985559904, 2.8279639506946843, 2.550158821757133, 2.7584654620519213, 2.461872430383786, 2.575108337843332, 2.4862477876867572, 0.5024805881078096, 0.4840111928773978, 0.6229709181249636, 0.4781161909861715, 0.4705690672468391, 0.3115030237678469, 0.4649064571614942, 0.44976026833982125, 0.31591965100873176, 0.3053647686304827, 0.4453879471720614, 0.448204286368836, 0.43829972824514535, 0.3097285942162598, 0.5709716115890437, 0.5734248632334856, 0.43853896670148546, 0.30131707189493984, 0.308375036513023, 0.3045719910307797, 0.292493334615771, 0.3000950344039163, 0.2967204064240627, 0.29900055610481463, 0.29238500698390707, 0.28901923304941096, 0.29128314433928454, 0.42510003139496244, 0.4294845044711279, 0.2912077594915645, 0.41817294175501796, 0.9220698903493291, 0.7775749528998215, 5.131753070485673, 3.025906062343868, 1.420419725757655, 1.774596738905067, 1.0343016902135267, 0.7715131221539643, 1.7186393156309663, 0.8823681358882383, 0.8488863662139655, 1.3971644860103165, 1.4033429607383332, 0.7500813855942227, 0.7210239142770555, 0.836104637658797, 0.6058929343301673, 0.9971658165892393, 0.816450664360028, 0.8042171696902753, 0.9742997963742563, 0.8096463125796144, 0.7005542217225965, 0.8342910997530194, 0.6753909531238838, 0.7226161368952327, 0.5943078282127491, 0.7112832456083223, 0.6212731638892458, 0.6174088570162496, 0.6176042195555144, 0.4908307818789569, 0.4858011408192757, 0.3544632291874312, 0.3544158348433802, 0.3457665530601398, 0.3476445446428561, 0.45548884928112543, 0.34418423671016846, 0.2363008149975117, 0.2325393074521014, 0.34665186750262394, 0.3392675757312429, 0.23185017360094598, 0.22426369324250298, 0.22861668145764502, 0.3374510405507026, 0.224243195374707, 0.22543043485354713, 0.2267390990882604, 0.22412117539944237, 0.2244360278569583, 0.22389289016218278, 0.335337974509542, 0.22628784838705307, 0.2205589733471663, 0.21891975774348538, 0.21600057864012678, 0.32230598074279476, 0.21607295359801623, 0.3189163551128518, 0.3196599701389387, 0.31650553057107594, 0.29798539080710584, 1.588289227760589, 1.083136425687369, 0.5168859155240023, 0.5422261162773904, 0.2831046084090395, 0.6011639964029291, 0.5375761879882963, 0.3869758236088139, 0.5068705308347655, 0.5245972431498197, 0.43187913730498895, 0.43038126770619156, 0.36294138539560533, 0.3420622051769228, 0.36658587652876107, 0.34836405328358583, 0.3491779786002977, 0.33980524484785873], \"Total\": [29.0, 16.0, 8.0, 6.0, 1.0, 1.0, 1.0, 7.0, 9.0, 4.0, 7.0, 3.0, 3.0, 5.0, 4.0, 5.0, 1.0, 1.0, 1.0, 1.0, 1.0, 1.0, 1.0, 1.0, 1.0, 1.0, 1.0, 1.0, 1.0, 3.0, 4.702560349173276, 2.3346492918541717, 2.3095830709493876, 2.3079400717552585, 2.301600655058502, 2.2990114741149843, 2.2958942038891075, 2.2812384863044293, 2.2608902779250033, 2.261727504705841, 1.475189391690163, 1.4674307340290496, 1.4704046012956968, 1.4690623256056243, 1.461515390460122, 1.455441317146747, 1.4646362720440522, 1.4572276536007682, 1.4585701028781548, 1.4518174287145795, 1.4514169815966245, 1.4440593484150794, 1.4450985207572178, 4.4234874755637, 1.439588832062888, 1.465320440841602, 1.4367533728010378, 1.440110418088946, 1.4338234847900608, 1.4408932489124084, 3.683109272125386, 29.883321416911397, 9.286220569247597, 16.028240825000037, 7.7591464662717, 3.5127212560638523, 2.870389214181979, 3.6005187250090307, 7.684418272196729, 8.997114452356042, 4.902179058324931, 5.537218173445562, 4.226008236498698, 5.508376051737544, 2.8101053853118163, 3.5195127449571024, 4.6692467223669185, 3.5039273706785288, 6.6237585312656, 3.464418267986402, 4.661821500515645, 4.06099876411084, 4.070695591438002, 4.046969384898849, 3.450315856209464, 3.9805451736685455, 3.4372501962732365, 3.956699565275031, 3.3959221455003146, 3.810970527666112, 3.7712590634316916, 1.5083722876958578, 1.4844369109682038, 1.9201121768748441, 1.486347831369612, 1.4951505010723418, 1.002370536323137, 1.4960835663755625, 1.453932192995668, 1.0220934083701905, 1.0009201339895268, 1.4645376502668233, 1.4738865551836253, 1.446708376598187, 1.0259810504374827, 1.8985760639966656, 1.9087494316360436, 1.4649266055109447, 1.006541342258775, 1.030434029882122, 1.0266127421360083, 0.9969180947813411, 1.0235364236567797, 1.012151401362391, 1.0340960957080443, 1.0116322916019953, 1.001958376810986, 1.016688547420089, 1.48698883012343, 1.5057633522524132, 1.0217927587868698, 1.4757781615818693, 3.7712590634316916, 3.1804873618364065, 29.883321416911397, 16.028240825000037, 6.6237585312656, 8.997114452356042, 4.661821500515645, 3.2597568834888095, 9.286220569247597, 3.956699565275031, 3.810970527666112, 7.684418272196729, 7.7591464662717, 3.3251426103423682, 3.2239871936679876, 4.070695591438002, 2.529565834293868, 5.508376051737544, 4.06099876411084, 3.9805451736685455, 5.537218173445562, 4.046969384898849, 3.2755289466488997, 4.902179058324931, 3.3959221455003146, 4.226008236498698, 2.5339313262868255, 4.6692467223669185, 3.5195127449571024, 3.464418267986402, 3.5039273706785288, 1.8985760639966656, 1.9087494316360436, 1.446708376598187, 1.4757781615818693, 1.453932192995668, 1.4649266055109447, 1.9201121768748441, 1.4645376502668233, 1.0083717878436125, 0.9923610267837932, 1.48698883012343, 1.4738865551836253, 1.0140913455479783, 0.9969180947813411, 1.0195879481879655, 1.5057633522524132, 1.001958376810986, 1.0143407773212572, 1.0238475097543445, 1.015687034163338, 1.0199797763615286, 1.0204792295054474, 1.533636925276131, 1.0354035536664292, 1.0145603690844005, 1.0116322916019953, 1.0009201339895268, 1.4960835663755625, 1.006541342258775, 1.486347831369612, 1.4951505010723418, 1.4844369109682038, 1.5083722876958578, 29.883321416911397, 16.028240825000037, 4.6692467223669185, 6.6237585312656, 1.6774283515672512, 8.997114452356042, 7.684418272196729, 3.810970527666112, 7.7591464662717, 9.286220569247597, 5.537218173445562, 5.508376051737544, 3.7712590634316916, 3.260985634401507, 4.902179058324931, 3.9805451736685455, 4.661821500515645, 3.5127212560638523], \"Category\": [\"Default\", \"Default\", \"Default\", \"Default\", \"Default\", \"Default\", \"Default\", \"Default\", \"Default\", \"Default\", \"Default\", \"Default\", \"Default\", \"Default\", \"Default\", \"Default\", \"Default\", \"Default\", \"Default\", \"Default\", \"Default\", \"Default\", \"Default\", \"Default\", \"Default\", \"Default\", \"Default\", \"Default\", \"Default\", \"Default\", \"Topic1\", \"Topic1\", \"Topic1\", \"Topic1\", \"Topic1\", \"Topic1\", \"Topic1\", \"Topic1\", \"Topic1\", \"Topic1\", \"Topic1\", \"Topic1\", \"Topic1\", \"Topic1\", \"Topic1\", \"Topic1\", \"Topic1\", \"Topic1\", \"Topic1\", \"Topic1\", \"Topic1\", \"Topic1\", \"Topic1\", \"Topic1\", \"Topic1\", \"Topic1\", \"Topic1\", \"Topic1\", \"Topic1\", \"Topic1\", \"Topic1\", \"Topic1\", \"Topic1\", \"Topic1\", \"Topic1\", \"Topic1\", \"Topic1\", \"Topic1\", \"Topic1\", \"Topic1\", \"Topic1\", \"Topic1\", \"Topic1\", \"Topic1\", \"Topic1\", \"Topic1\", \"Topic1\", \"Topic1\", \"Topic1\", \"Topic1\", \"Topic1\", \"Topic1\", \"Topic1\", \"Topic1\", \"Topic1\", \"Topic1\", \"Topic1\", \"Topic1\", \"Topic1\", \"Topic1\", \"Topic1\", \"Topic2\", \"Topic2\", \"Topic2\", \"Topic2\", \"Topic2\", \"Topic2\", \"Topic2\", \"Topic2\", \"Topic2\", \"Topic2\", \"Topic2\", \"Topic2\", \"Topic2\", \"Topic2\", \"Topic2\", \"Topic2\", \"Topic2\", \"Topic2\", \"Topic2\", \"Topic2\", \"Topic2\", \"Topic2\", \"Topic2\", \"Topic2\", \"Topic2\", \"Topic2\", \"Topic2\", \"Topic2\", \"Topic2\", \"Topic2\", \"Topic2\", \"Topic2\", \"Topic2\", \"Topic2\", \"Topic2\", \"Topic2\", \"Topic2\", \"Topic2\", \"Topic2\", \"Topic2\", \"Topic2\", \"Topic2\", \"Topic2\", \"Topic2\", \"Topic2\", \"Topic2\", \"Topic2\", \"Topic2\", \"Topic2\", \"Topic2\", \"Topic2\", \"Topic2\", \"Topic2\", \"Topic2\", \"Topic2\", \"Topic2\", \"Topic2\", \"Topic2\", \"Topic2\", \"Topic2\", \"Topic2\", \"Topic2\", \"Topic3\", \"Topic3\", \"Topic3\", \"Topic3\", \"Topic3\", \"Topic3\", \"Topic3\", \"Topic3\", \"Topic3\", \"Topic3\", \"Topic3\", \"Topic3\", \"Topic3\", \"Topic3\", \"Topic3\", \"Topic3\", \"Topic3\", \"Topic3\", \"Topic3\", \"Topic3\", \"Topic3\", \"Topic3\", \"Topic3\", \"Topic3\", \"Topic3\", \"Topic3\", \"Topic3\", \"Topic3\", \"Topic3\", \"Topic3\", \"Topic3\", \"Topic3\", \"Topic3\", \"Topic3\", \"Topic3\", \"Topic3\", \"Topic3\", \"Topic3\", \"Topic3\", \"Topic3\", \"Topic3\", \"Topic3\", \"Topic3\", \"Topic3\", \"Topic3\", \"Topic3\", \"Topic3\", \"Topic3\", \"Topic3\", \"Topic3\", \"Topic3\"], \"logprob\": [30.0, 29.0, 28.0, 27.0, 26.0, 25.0, 24.0, 23.0, 22.0, 21.0, 20.0, 19.0, 18.0, 17.0, 16.0, 15.0, 14.0, 13.0, 12.0, 11.0, 10.0, 9.0, 8.0, 7.0, 6.0, 5.0, 4.0, 3.0, 2.0, 1.0, -4.8838, -5.5887, -5.6048, -5.6068, -5.61, -5.6134, -5.6165, -5.6273, -5.6398, -5.6414, -6.0955, -6.1029, -6.1028, -6.1047, -6.1107, -6.1171, -6.1109, -6.1176, -6.117, -6.123, -6.1254, -6.131, -6.1311, -5.0136, -6.1364, -6.1192, -6.1407, -6.1384, -6.1429, -6.1388, -5.203, -3.1344, -4.3249, -3.7988, -4.5107, -5.2717, -5.4686, -5.2523, -4.5278, -4.3866, -4.9682, -4.8584, -5.1132, -4.8706, -5.5065, -5.3, -5.0411, -5.3074, -4.7377, -5.328, -5.0896, -5.2012, -5.1998, -5.2067, -5.335, -5.2374, -5.3408, -5.2623, -5.376, -5.331, -5.3662, -5.7249, -5.7623, -5.5099, -5.7746, -5.7905, -6.203, -5.8026, -5.8357, -6.189, -6.2229, -5.8455, -5.8392, -5.8615, -6.2087, -5.5971, -5.5928, -5.861, -6.2363, -6.2131, -6.2255, -6.266, -6.2403, -6.2517, -6.244, -6.2664, -6.2779, -6.2701, -5.8921, -5.8819, -6.2704, -5.9085, -5.1178, -5.2883, -3.4012, -3.9295, -4.6857, -4.4631, -5.003, -5.2961, -4.4952, -5.1618, -5.2005, -4.7022, -4.6978, -5.3243, -5.3638, -5.2157, -5.5377, -5.0395, -5.2395, -5.2546, -5.0627, -5.2478, -5.3926, -5.2179, -5.4291, -5.3616, -5.557, -5.3774, -5.5127, -5.5189, -5.5186, -5.0923, -5.1026, -5.4178, -5.4179, -5.4426, -5.4372, -5.167, -5.4472, -5.8233, -5.8393, -5.4401, -5.4616, -5.8423, -5.8756, -5.8563, -5.467, -5.8757, -5.8704, -5.8646, -5.8762, -5.8748, -5.8772, -5.4733, -5.8666, -5.8922, -5.8997, -5.9131, -5.5129, -5.9128, -5.5235, -5.5211, -5.5311, -5.5913, -3.918, -4.3008, -5.0406, -4.9927, -5.6426, -4.8895, -5.0013, -5.33, -5.0601, -5.0258, -5.2202, -5.2237, -5.3942, -5.4534, -5.3842, -5.4351, -5.4328, -5.46], \"loglift\": [30.0, 29.0, 28.0, 27.0, 26.0, 25.0, 24.0, 23.0, 22.0, 21.0, 20.0, 19.0, 18.0, 17.0, 16.0, 15.0, 14.0, 13.0, 12.0, 11.0, 10.0, 9.0, 8.0, 7.0, 6.0, 5.0, 4.0, 3.0, 2.0, 1.0, 0.2093, 0.2046, 0.1993, 0.1981, 0.1975, 0.1953, 0.1936, 0.1892, 0.1857, 0.1837, 0.1569, 0.1548, 0.1528, 0.1519, 0.151, 0.1488, 0.1487, 0.147, 0.1467, 0.1454, 0.1433, 0.1427, 0.1419, 0.1406, 0.1405, 0.1399, 0.1381, 0.1381, 0.1379, 0.1371, 0.1344, 0.1095, 0.0878, 0.0681, 0.0816, 0.1131, 0.1182, 0.1078, 0.0742, 0.0576, 0.0833, 0.0713, 0.0868, 0.0643, 0.1015, 0.0829, 0.059, 0.0799, 0.0128, 0.0706, 0.0122, 0.0386, 0.0375, 0.0366, 0.0677, 0.0224, 0.0657, 0.0035, 0.0426, -0.0277, -0.0524, 0.5053, 0.4838, 0.4789, 0.4703, 0.4485, 0.4358, 0.4357, 0.4312, 0.4304, 0.4173, 0.4141, 0.4141, 0.4104, 0.4068, 0.403, 0.4019, 0.3984, 0.3984, 0.3981, 0.3894, 0.3783, 0.3776, 0.3775, 0.3637, 0.3632, 0.3613, 0.3545, 0.3523, 0.35, 0.3492, 0.3435, 0.196, 0.1959, -0.1574, -0.0626, 0.0648, -0.0188, 0.0988, 0.1634, -0.0825, 0.1039, 0.1028, -0.1003, -0.1055, 0.1154, 0.1068, 0.0217, 0.1754, -0.1046, 0.0003, 0.0052, -0.133, -0.0046, 0.0621, -0.1664, -0.0105, -0.1616, 0.1544, -0.2772, -0.1298, -0.1203, -0.1313, 0.9078, 0.8921, 0.8541, 0.8341, 0.8243, 0.8222, 0.8218, 0.8124, 0.8096, 0.8095, 0.8044, 0.7917, 0.7849, 0.7687, 0.7654, 0.7649, 0.7636, 0.7566, 0.753, 0.7494, 0.7466, 0.7437, 0.7403, 0.7398, 0.7345, 0.7299, 0.7272, 0.7254, 0.7219, 0.7214, 0.7178, 0.7151, 0.6388, -0.6741, -0.4339, 0.0596, -0.2422, 0.4813, -0.4452, -0.3993, -0.0267, -0.4678, -0.6131, -0.2906, -0.2888, -0.0804, 0.0058, -0.3327, -0.1754, -0.331, -0.0752]}, \"token.table\": {\"Topic\": [1, 1, 2, 1, 2, 1, 1, 1, 1, 1, 2, 3, 1, 2, 1, 2, 1, 2, 3, 1, 2, 1, 2, 1, 2, 3, 1, 1, 1, 1, 1, 2, 1, 2, 3, 1, 1, 1, 1, 1, 2, 1, 1, 1, 2, 1, 1, 2, 1, 2, 1, 1, 1, 2, 1, 2, 1, 2, 1, 1, 2, 1, 2, 1, 2, 1, 1, 2, 1, 2, 1, 1, 1, 2, 1, 1, 1, 1, 1, 2, 3, 1, 1, 2, 1, 1, 1, 2, 3, 1, 2, 3, 1, 1, 1, 1, 1, 2, 1, 1, 2, 1, 1, 1, 1, 1, 1, 1, 1, 1, 1, 2, 1, 1, 2, 1, 2, 1, 1, 1, 1, 2, 1, 1, 1, 1, 2, 3, 1, 1, 2, 1, 2, 1, 1, 1, 1, 2, 1, 1, 1, 1, 1, 2, 1, 1, 1, 1, 1, 2, 1, 2, 1, 1, 1], \"Freq\": [0.978672036379722, 0.8659462478079091, 0.288648749269303, 0.5303268660042892, 0.2651634330021446, 0.9807883682591799, 0.9885014627364507, 0.9799317527360432, 0.6924923141819243, 0.7538050542522452, 0.21537287264349864, 0.10768643632174932, 0.7223843949625304, 0.1805960987406326, 0.8332132753989429, 0.27773775846631427, 0.7696600949780626, 0.16731741195175276, 0.0669269647807011, 0.6105884065064188, 0.3052942032532094, 0.7872010497644124, 0.2624003499214708, 0.748678543766513, 0.18716963594162825, 0.062389878647209414, 0.6862345753108846, 0.6889818795560423, 0.8846072803831759, 0.6919943420023775, 0.6629663035824986, 0.6629663035824986, 0.7780272260699024, 0.22229349316282923, 0.11114674658141462, 0.9670281167779685, 0.6814631701588743, 0.854038729893878, 0.9858619729760552, 0.6203498586868034, 0.3101749293434017, 0.9861044612895657, 0.6641149809524443, 0.5239032339320051, 0.5239032339320051, 0.869939111882819, 0.8159636668528374, 0.20399091671320935, 0.7892873730444628, 0.3946436865222314, 0.8842798240896481, 0.6784782699068818, 0.7906495149822036, 0.3953247574911018, 0.6135426878397957, 0.30677134391989785, 0.7098897664443594, 0.23662992214811981, 0.9740771363497429, 0.5267105274122724, 0.5267105274122724, 0.9042638918041169, 0.22606597295102923, 0.5889416524610414, 0.2944708262305207, 0.9916977171073822, 0.8561821301162004, 0.2853940433720668, 0.869485613788361, 0.2898285379294537, 0.6960136784300283, 0.8711202792411425, 0.6014779618111096, 0.3007389809055548, 0.9658070000425796, 0.6946427880848657, 0.6870768255778281, 0.6842213270742054, 0.6425019234107318, 0.21416730780357723, 0.21416730780357723, 0.6826280553838496, 0.6435252829110187, 0.21450842763700623, 0.9835853886006316, 0.6912243104248943, 0.7808008085281897, 0.1301334680880316, 0.1301334680880316, 0.7548584351918776, 0.15097168703837552, 0.15097168703837552, 0.682809349297241, 0.6800849229652954, 0.6967696192970723, 0.9804115955781001, 0.741295452146096, 0.24709848404869866, 0.65204481159708, 0.7387345267160782, 0.24624484223869275, 0.5961506487389951, 0.6688289903142103, 0.6943911990630685, 0.711717080239706, 0.6727900286156698, 0.6824445849029809, 0.6776086176313327, 0.8767167536437493, 0.9770048010869107, 0.520802905186295, 0.520802905186295, 0.6827633720994742, 0.6133115027865073, 0.30665575139325363, 0.7536656083807594, 0.25122186946025316, 0.6736561133795599, 0.850600460811356, 0.9856485927027283, 0.8727906985801279, 0.29093023286004266, 0.9746768710529261, 0.6887918413304813, 0.856659716291523, 0.7732809305870757, 0.12888015509784595, 0.12888015509784595, 0.6778790612466877, 0.726166834368226, 0.1815417085920565, 0.7369747829609211, 0.2456582609869737, 0.6807063135240009, 0.6940139394468006, 0.8689604756604329, 0.8523907192262676, 0.28413023974208923, 0.6856029737800936, 0.6725000078964907, 0.697435919140646, 0.8659571613407571, 0.7582076805448505, 0.2527358935149502, 0.9783841592272665, 0.9767079476903096, 0.6877899841667373, 0.668411860456844, 0.6288344434247978, 0.3144172217123989, 0.8145291867131629, 0.2715097289043876, 0.8665736274854569, 0.9704648439399818, 0.9845552481860124], \"Term\": [\"anim\\u00e9\", \"app\", \"app\", \"app\\u00e9tit\", \"app\\u00e9tit\", \"autr\", \"avantag\", \"avoir\", \"basil\", \"benefit\", \"benefit\", \"benefit\", \"better\", \"better\", \"beyond\", \"beyond\", \"bilingu\", \"bilingu\", \"bilingu\", \"blog\", \"blog\", \"bon\", \"bon\", \"brain\", \"brain\", \"brain\", \"bruss\", \"brussel\", \"butternut\", \"celebr\", \"cerveau\", \"cerveau\", \"children\", \"children\", \"children\", \"chose\", \"christma\", \"com\", \"comm\", \"commun\", \"commun\", \"compl\\u00e8t\", \"connaitr\", \"de\", \"de\", \"delici\", \"develop\", \"develop\", \"director\", \"director\", \"dish\", \"ed\", \"editor\", \"editor\", \"educ\", \"educ\", \"emot\", \"emot\", \"est\", \"et\", \"et\", \"execut\", \"execut\", \"fabulingua\", \"fabulingua\", \"facil\", \"focu\", \"focu\", \"found\", \"found\", \"fresh\", \"full\", \"function\", \"function\", \"garder\", \"give\", \"great\", \"hasselback\", \"http\", \"http\", \"http\", \"il\", \"improv\", \"improv\", \"la\", \"langu\", \"languag\", \"languag\", \"languag\", \"learn\", \"learn\", \"learn\", \"le\\u00e7on\", \"littl\", \"look\", \"mai\", \"make\", \"make\", \"mia\", \"monolingu\", \"monolingu\", \"multilingu\", \"nacamulli\", \"need\", \"new\", \"ou\", \"pageload\", \"par\", \"perfect\", \"permet\", \"plu\", \"plu\", \"prep\", \"produc\", \"produc\", \"product\", \"product\", \"que\", \"recip\", \"regard\", \"research\", \"research\", \"san\", \"savouri\", \"side\", \"skill\", \"skill\", \"skill\", \"smoki\", \"social\", \"social\", \"societi\", \"societi\", \"someth\", \"sprout\", \"squash\", \"store\", \"store\", \"sweet\", \"ted\", \"thanksgiv\", \"thedevilwearssalad\", \"think\", \"think\", \"titr\", \"type\", \"un\", \"une\", \"want\", \"want\", \"way\", \"way\", \"winter\", \"\\u00e0\", \"\\u00e9vident\"]}, \"R\": 30, \"lambda.step\": 0.01, \"plot.opts\": {\"xlab\": \"PC1\", \"ylab\": \"PC2\"}, \"topic.order\": [1, 3, 2]};\n",
       "\n",
       "function LDAvis_load_lib(url, callback){\n",
       "  var s = document.createElement('script');\n",
       "  s.src = url;\n",
       "  s.async = true;\n",
       "  s.onreadystatechange = s.onload = callback;\n",
       "  s.onerror = function(){console.warn(\"failed to load library \" + url);};\n",
       "  document.getElementsByTagName(\"head\")[0].appendChild(s);\n",
       "}\n",
       "\n",
       "if(typeof(LDAvis) !== \"undefined\"){\n",
       "   // already loaded: just create the visualization\n",
       "   !function(LDAvis){\n",
       "       new LDAvis(\"#\" + \"ldavis_el2023216075964524165858430471\", ldavis_el2023216075964524165858430471_data);\n",
       "   }(LDAvis);\n",
       "}else if(typeof define === \"function\" && define.amd){\n",
       "   // require.js is available: use it to load d3/LDAvis\n",
       "   require.config({paths: {d3: \"https://d3js.org/d3.v5\"}});\n",
       "   require([\"d3\"], function(d3){\n",
       "      window.d3 = d3;\n",
       "      LDAvis_load_lib(\"https://cdn.jsdelivr.net/gh/bmabey/pyLDAvis@3.4.0/pyLDAvis/js/ldavis.v3.0.0.js\", function(){\n",
       "        new LDAvis(\"#\" + \"ldavis_el2023216075964524165858430471\", ldavis_el2023216075964524165858430471_data);\n",
       "      });\n",
       "    });\n",
       "}else{\n",
       "    // require.js not available: dynamically load d3 & LDAvis\n",
       "    LDAvis_load_lib(\"https://d3js.org/d3.v5.js\", function(){\n",
       "         LDAvis_load_lib(\"https://cdn.jsdelivr.net/gh/bmabey/pyLDAvis@3.4.0/pyLDAvis/js/ldavis.v3.0.0.js\", function(){\n",
       "                 new LDAvis(\"#\" + \"ldavis_el2023216075964524165858430471\", ldavis_el2023216075964524165858430471_data);\n",
       "            })\n",
       "         });\n",
       "}\n",
       "</script>"
      ],
      "text/plain": [
       "PreparedData(topic_coordinates=              x         y  topics  cluster       Freq\n",
       "topic                                                \n",
       "0     -0.014384  0.000375       1        1  69.471562\n",
       "2      0.002698 -0.001089       2        1  20.099066\n",
       "1      0.011686  0.000713       3        1  10.429372, topic_info=         Term       Freq      Total Category  logprob  loglift\n",
       "192   bilingu  29.000000  29.000000  Default  30.0000  30.0000\n",
       "270     brain  16.000000  16.000000  Default  29.0000  29.0000\n",
       "279  children   8.000000   8.000000  Default  28.0000  28.0000\n",
       "342     learn   6.000000   6.000000  Default  27.0000  27.0000\n",
       "206        et   1.000000   1.000000  Default  26.0000  26.0000\n",
       "..        ...        ...        ...      ...      ...      ...\n",
       "110    produc   0.342062   3.260986   Topic3  -5.4534   0.0058\n",
       "43    develop   0.366586   4.902179   Topic3  -5.3842  -0.3327\n",
       "111   product   0.348364   3.980545   Topic3  -5.4351  -0.1754\n",
       "334    improv   0.349178   4.661822   Topic3  -5.4328  -0.3310\n",
       "31        com   0.339805   3.512721   Topic3  -5.4600  -0.0752\n",
       "\n",
       "[204 rows x 6 columns], token_table=      Topic      Freq     Term\n",
       "term                          \n",
       "188       1  0.978672    animé\n",
       "258       1  0.865946      app\n",
       "258       2  0.288649      app\n",
       "11        1  0.530327  appétit\n",
       "11        2  0.265163  appétit\n",
       "...     ...       ...      ...\n",
       "162       1  0.814529      way\n",
       "162       2  0.271510      way\n",
       "164       1  0.866574   winter\n",
       "240       1  0.970465        à\n",
       "241       1  0.984555  évident\n",
       "\n",
       "[155 rows x 3 columns], R=30, lambda_step=0.01, plot_opts={'xlab': 'PC1', 'ylab': 'PC2'}, topic_order=[1, 3, 2])"
      ]
     },
     "execution_count": 59,
     "metadata": {},
     "output_type": "execute_result"
    }
   ],
   "source": [
    "# Visualize the topics\n",
    "pyLDAvis.enable_notebook()\n",
    "LDAvis_data_filepath = os.path.join('prepared_'+str(num_topics))\n",
    "# # this is a bit time consuming - make the if statement True\n",
    "# # if you want to execute visualization prep yourself\n",
    "LDAvis_prepared = pyLDAvis.gensim_models.prepare(lda_model, doc_term_matrix, dictionary)\n",
    "with open(LDAvis_data_filepath, 'wb') as f:\n",
    "    pickle.dump(LDAvis_prepared, f)\n",
    "\n",
    "# load the pre-prepared pyLDAvis data from disk\n",
    "with open(LDAvis_data_filepath, 'rb') as f:\n",
    "    LDAvis_prepared = pickle.load(f)\n",
    "pyLDAvis.save_html(LDAvis_prepared, 'prepared_'+ str(num_topics) +'.html')\n",
    "LDAvis_prepared"
   ]
  },
  {
   "cell_type": "code",
   "execution_count": null,
   "metadata": {},
   "outputs": [],
   "source": []
  }
 ],
 "metadata": {
  "kernelspec": {
   "display_name": "IC05",
   "language": "python",
   "name": "python3"
  },
  "language_info": {
   "codemirror_mode": {
    "name": "ipython",
    "version": 3
   },
   "file_extension": ".py",
   "mimetype": "text/x-python",
   "name": "python",
   "nbconvert_exporter": "python",
   "pygments_lexer": "ipython3",
   "version": "3.11.6"
  }
 },
 "nbformat": 4,
 "nbformat_minor": 2
}
