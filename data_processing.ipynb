{
 "cells": [
  {
   "cell_type": "code",
   "execution_count": 81,
   "metadata": {},
   "outputs": [],
   "source": [
    "import json\n",
    "import pandas as pd "
   ]
  },
  {
   "cell_type": "code",
   "execution_count": 82,
   "metadata": {},
   "outputs": [],
   "source": [
    "def load_data(name):\n",
    "    # Opening JSON file\n",
    "    f = open(name)\n",
    "    data = json.load(f)\n",
    "\n",
    "    return data\n",
    "\n",
    "def save_to_csv (repo,path_save,name_save,i_max,i_min):\n",
    "    name_i = lambda i: f'navigation_data ({i}).txt' \n",
    "    dict_df = []\n",
    "    for i in range(i_min,i_max + 1):\n",
    "        data_json = load_data(repo + name_i(i))\n",
    "        # get the name of the last saved action\n",
    "        last_action = list(data_json.keys())[-1]\n",
    "        # get the data of the last saved action\n",
    "        dict_df += [list(data_json[last_action].values())]\n",
    "\n",
    "    df = pd.DataFrame(dict_df,columns=list(data_json[last_action].keys()))\n",
    "    df.to_csv(path_save + name_save)"
   ]
  },
  {
   "cell_type": "code",
   "execution_count": 83,
   "metadata": {},
   "outputs": [],
   "source": [
    "# CAN BE MODIFIED----------------------------------\n",
    "\n",
    "repo = 'C:\\\\Users\\\\mtlsa\\\\Documents\\\\' \n",
    "path_save = 'C:\\\\Users\\\\mtlsa\\\\Documents\\\\'\n",
    "name_save = 'csv_data.csv'\n",
    "\n",
    "# rename navigation_data into navigation_data (0)\n",
    "i_max = 6\n",
    "i_min = 4\n",
    "\n",
    "#----------------------------------------------------\n"
   ]
  },
  {
   "cell_type": "code",
   "execution_count": 84,
   "metadata": {},
   "outputs": [],
   "source": [
    "save_to_csv(repo,path_save,name_save,i_max,i_min)"
   ]
  },
  {
   "cell_type": "code",
   "execution_count": null,
   "metadata": {},
   "outputs": [],
   "source": []
  }
 ],
 "metadata": {
  "kernelspec": {
   "display_name": "IC05",
   "language": "python",
   "name": "python3"
  },
  "language_info": {
   "codemirror_mode": {
    "name": "ipython",
    "version": 3
   },
   "file_extension": ".py",
   "mimetype": "text/x-python",
   "name": "python",
   "nbconvert_exporter": "python",
   "pygments_lexer": "ipython3",
   "version": "3.11.6"
  }
 },
 "nbformat": 4,
 "nbformat_minor": 2
}
